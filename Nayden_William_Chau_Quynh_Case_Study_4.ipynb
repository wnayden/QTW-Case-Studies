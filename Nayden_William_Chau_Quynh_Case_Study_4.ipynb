{
 "cells": [
  {
   "cell_type": "code",
   "execution_count": 38,
   "metadata": {},
   "outputs": [],
   "source": [
    "library(XML)"
   ]
  },
  {
   "cell_type": "code",
   "execution_count": 42,
   "metadata": {},
   "outputs": [
    {
     "data": {
      "text/html": [
       "<ol class=list-inline>\n",
       "\t<li>'http://www.cherryblossom.org/results/1999/cb99f.html'</li>\n",
       "\t<li>'http://www.cherryblossom.org/results/2000/Cb003f.htm'</li>\n",
       "\t<li>'http://www.cherryblossom.org/results/2001/oof_f.html'</li>\n",
       "</ol>\n"
      ],
      "text/latex": [
       "\\begin{enumerate*}\n",
       "\\item 'http://www.cherryblossom.org/results/1999/cb99f.html'\n",
       "\\item 'http://www.cherryblossom.org/results/2000/Cb003f.htm'\n",
       "\\item 'http://www.cherryblossom.org/results/2001/oof\\_f.html'\n",
       "\\end{enumerate*}\n"
      ],
      "text/markdown": [
       "1. 'http://www.cherryblossom.org/results/1999/cb99f.html'\n",
       "2. 'http://www.cherryblossom.org/results/2000/Cb003f.htm'\n",
       "3. 'http://www.cherryblossom.org/results/2001/oof_f.html'\n",
       "\n",
       "\n"
      ],
      "text/plain": [
       "[1] \"http://www.cherryblossom.org/results/1999/cb99f.html\"\n",
       "[2] \"http://www.cherryblossom.org/results/2000/Cb003f.htm\"\n",
       "[3] \"http://www.cherryblossom.org/results/2001/oof_f.html\""
      ]
     },
     "metadata": {},
     "output_type": "display_data"
    }
   ],
   "source": [
    "#Set URL leaf nodes\n",
    "WomenURLs = \n",
    "  c(\"results/1999/cb99f.html\", \"results/2000/Cb003f.htm\", \"results/2001/oof_f.html\",\n",
    "    \"results/2002/ooff.htm\", \"results/2003/CB03-F.HTM\",\n",
    "    \"results/2004/women.htm\", \"results/2005/CB05-F.htm\", \n",
    "    \"results/2006/women.htm\", \"results/2007/women.htm\", \n",
    "    \"results/2008/women.htm\", \"results/2009/09cucb-F.htm\",\n",
    "    \"results/2010/2010cucb10m-F.htm\", \n",
    "    \"results/2011/2011cucb10m-F.htm\",\n",
    "    \"results/2012/2012cucb10m-F.htm\")\n",
    "\n",
    "#Set URL root\n",
    "ubase = \"http://www.cherryblossom.org/\"\n",
    "\n",
    "#Combine URLs into list\n",
    "urls = paste(ubase, WomenURLs, sep = \"\")\n",
    "\n",
    "#Print first 3 URLs\n",
    "urls[1:3]\n",
    "\n",
    "#Create vector of years\n",
    "years = 1999:2012"
   ]
  },
  {
   "cell_type": "code",
   "execution_count": 40,
   "metadata": {},
   "outputs": [],
   "source": [
    "extractResTable =\n",
    "  #\n",
    "  # Retrieve data from web site, \n",
    "  # find the preformatted text,\n",
    "  # and write lines or return as a character vector.\n",
    "  #\n",
    "  function(url = \"http://web.archive.org/web/20180803073407/http://www.cherryblossom.org/results/2009/09cucb-F.htm\",\n",
    "           year = 1999, sex = \"female\", file = NULL)\n",
    "  {\n",
    "    doc = htmlParse(url)\n",
    "\n",
    "    if (year == 2000) {\n",
    "\n",
    "      # Get preformatted text from 4th font element\n",
    "      # The top file is ill formed so the <pre> search doesn't work.\n",
    "      ff = getNodeSet(doc, \"//font\")\n",
    "      txt = xmlValue(ff[[4]])\n",
    "      els = strsplit(txt, \"\\r\\n\")[[1]]\n",
    "    }\n",
    "    else if (year == 2009 & sex == \"female\") {\n",
    "      # Get preformatted text from <div class=\"Section1\"> element\n",
    "      # Each line of results is in a <pre> element\n",
    "      div1 = getNodeSet(doc, \"//div[@class='Section1']\")\n",
    "      pres = getNodeSet(div1[[1]], \"//pre\")\n",
    "      els = sapply(pres, xmlValue)\n",
    "    }\n",
    "    else if (year == 1999 & sex == \"female\") {\n",
    "      # Get preformatted text from <pre> elements\n",
    "      pres = getNodeSet(doc, \"//pre\")\n",
    "      txt = xmlValue(pres[[1]])\n",
    "      els = strsplit(txt, \"\\n\")[[1]]   \n",
    "    } \n",
    "  \n",
    "    \n",
    "    else {\n",
    "      # Get preformatted text from <pre> elements\n",
    "      pres = getNodeSet(doc, \"//pre\")\n",
    "      txt = xmlValue(pres[[1]])\n",
    "      els = strsplit(txt, \"\\r\\n\")[[1]]   \n",
    "    } \n",
    "    \n",
    "    if (is.null(file)) return(els)\n",
    "    # Write the lines as a text file.\n",
    "    writeLines(els, con = file)\n",
    "  }"
   ]
  },
  {
   "cell_type": "code",
   "execution_count": 41,
   "metadata": {},
   "outputs": [
    {
     "ename": "ERROR",
     "evalue": "Error: failed to load HTTP resource\n\n",
     "output_type": "error",
     "traceback": [
      "Error: failed to load HTTP resource\n\nTraceback:\n",
      "1. mapply(extractResTable, url = urls, year = years)",
      "2. (function (url = \"http://web.archive.org/web/20180803073407/http://www.cherryblossom.org/results/2009/09cucb-F.htm\", \n .     year = 1999, sex = \"male\", file = NULL) \n . {\n .     doc = htmlParse(url)\n .     if (year == 2000) {\n .         ff = getNodeSet(doc, \"//font\")\n .         txt = xmlValue(ff[[4]])\n .         els = strsplit(txt, \"\\r\\n\")[[1]]\n .     }\n .     else if (year == 2009 & sex == \"male\") {\n .         div1 = getNodeSet(doc, \"//div[@class='Section1']\")\n .         pres = getNodeSet(div1[[1]], \"//pre\")\n .         els = sapply(pres, xmlValue)\n .     }\n .     else if (year == 1999 & sex == \"male\") {\n .         pres = getNodeSet(doc, \"//pre\")\n .         txt = xmlValue(pres[[1]])\n .         els = strsplit(txt, \"\\n\")[[1]]\n .     }\n .     else {\n .         pres = getNodeSet(doc, \"//pre\")\n .         txt = xmlValue(pres[[1]])\n .         els = strsplit(txt, \"\\r\\n\")[[1]]\n .     }\n .     if (is.null(file)) \n .         return(els)\n .     writeLines(els, con = file)\n . })(url = dots[[1L]][[2L]], year = dots[[2L]][[2L]])",
      "3. htmlParse(url)   # at line 10 of file <text>",
      "4. (function (msg, code, domain, line, col, level, filename, class = \"XMLError\") \n . {\n .     e = makeXMLError(msg, code, domain, line, col, level, filename, \n .         class)\n .     dom = names(e$domain)\n .     class(e) = c(names(e$code), sprintf(\"%s_Error\", gsub(\"_FROM_\", \n .         \"_\", dom)), class(e))\n .     if (e$code == xmlParserErrors[\"XML_IO_LOAD_ERROR\"]) \n .         stop(e)\n . })(\"failed to load HTTP resource\\n\", 1549L, 8L, 0L, 0L, 1L, character(0))"
     ]
    }
   ],
   "source": [
    "#Format XML into table\n",
    "WomenTables = mapply(extractResTable, url = urls, year = years)\n",
    "names(WomenTables) = years\n",
    "sapply(WomenTables, length)"
   ]
  },
  {
   "cell_type": "code",
   "execution_count": null,
   "metadata": {},
   "outputs": [],
   "source": [
    "#Create separate 2012 table\n",
    "w2012 = WomenTables$'2012'[-1:-8]\n",
    "\n",
    "els = WomenTables$'2012'\n",
    "\n",
    "els[1:10]"
   ]
  },
  {
   "cell_type": "code",
   "execution_count": null,
   "metadata": {},
   "outputs": [],
   "source": [
    "#Create separate 2011 table\n",
    "els2011 = WomenTables$'2011'\n",
    "els2011[1:10]"
   ]
  },
  {
   "cell_type": "code",
   "execution_count": null,
   "metadata": {},
   "outputs": [],
   "source": [
    "#Search for spacer in tables\n",
    "eqIndex = grep(\"^===\", els)\n",
    "eqIndex"
   ]
  },
  {
   "cell_type": "code",
   "execution_count": null,
   "metadata": {},
   "outputs": [],
   "source": [
    "#Search for spacer in first three entries\n",
    "first3 = substr(els, 1, 3)\n",
    "which(first3 == \"===\")"
   ]
  },
  {
   "cell_type": "code",
   "execution_count": null,
   "metadata": {},
   "outputs": [],
   "source": [
    "#Establish where spacer, header and body are in each table\n",
    "spacerRow = els[eqIndex]\n",
    "headerRow = els[eqIndex - 1]\n",
    "body = els[ -(1:eqIndex) ]\n",
    "\n",
    "#Convert header to lower case\n",
    "headerRow = tolower(headerRow)"
   ]
  },
  {
   "cell_type": "code",
   "execution_count": null,
   "metadata": {},
   "outputs": [],
   "source": [
    "#Find age in header row\n",
    "ageStart = regexpr(\"ag\", headerRow)\n",
    "ageStart\n",
    "\n",
    "#Extract ages\n",
    "age = substr(body, start = ageStart, stop = ageStart + 1)\n",
    "head(age)\n",
    "\n",
    "#Print summary of ages\n",
    "summary(as.numeric(age))"
   ]
  },
  {
   "cell_type": "code",
   "execution_count": null,
   "metadata": {},
   "outputs": [],
   "source": [
    "#Find spaces in data\n",
    "blankLocs = gregexpr(\" \", spacerRow)\n",
    "blankLocs\n",
    "\n",
    "#Give those space locations as search locations\n",
    "searchLocs = c(0, blankLocs[[1]])\n",
    "\n",
    "#Create a df of those locations\n",
    "Values = mapply(substr, list(body), \n",
    "                start = searchLocs[ -length(searchLocs)] + 1, \n",
    "                stop = searchLocs[ -1 ] - 1)"
   ]
  }
 ],
 "metadata": {
  "kernelspec": {
   "display_name": "R",
   "language": "R",
   "name": "ir"
  },
  "language_info": {
   "codemirror_mode": "r",
   "file_extension": ".r",
   "mimetype": "text/x-r-source",
   "name": "R",
   "pygments_lexer": "r",
   "version": "3.6.1"
  }
 },
 "nbformat": 4,
 "nbformat_minor": 4
}
