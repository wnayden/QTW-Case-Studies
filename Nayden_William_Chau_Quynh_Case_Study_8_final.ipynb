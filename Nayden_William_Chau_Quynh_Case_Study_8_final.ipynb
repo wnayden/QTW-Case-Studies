{
 "cells": [
  {
   "cell_type": "markdown",
   "metadata": {},
   "source": [
    "# Case Study Eight: XGBoost, Random Forest and SVM Predictors \n",
    "by Billy Nayden and Quynh Chau March 1, 2021"
   ]
  },
  {
   "cell_type": "markdown",
   "metadata": {},
   "source": [
    "# 1 INTRODUCTION\n",
    "\n",
    "The purpose of this case study is to implement XGBoost, Random Forest and SVM classification algorithms and evaluate performance based on log loss where applicable (SVM is the exception).  In addition, a rough scaling of SVM using a range of data sample sizes will be approximated.  "
   ]
  },
  {
   "cell_type": "markdown",
   "metadata": {},
   "source": [
    "# 2 METHODS\n",
    "\n",
    "\n",
    "### RANDOM FOREST (RF)\n",
    "\n",
    "A RandomForest algorithm using the label encoded categorical variables along with our continuous variables as the input. Our baseline log loss was `7.61` and our baseline accuracy was `78%` using the default hyperparameters for RandomForest.\n",
    "\n",
    "We were not able to produce tuning with the full complement of all features in the data set within a reasonable run time, so we decided to reduce the number of features. We found that 37 features accounted for >99% of all variance in our initial model, so we used those 37 features for parameter tuning. This process was accomplished via `sklearn`'s `SelectFromModel` function.\n",
    "\n",
    "The hyperparameters we tuned can be described as follows:\n",
    "\n",
    ">`bootstrap` is a statistical resampling technique involving random sampling. Can be true or false.\n",
    "\n",
    ">`max_depth` is the maximum number of levels in each decision tree.\n",
    "\n",
    ">`max_features` is the maximum number of features Random Forest is allowed to try in individual tree.\n",
    "\n",
    ">`min_samples_leaf` is the minimum number of leaf nodes you can have.\n",
    "\n",
    ">`min_samples_split` is the minimum number of samples placed in a node before the node is aplit.\n",
    "\n",
    ">`n_estimators` is the number of trees you want to build before taking the maximum voting or averages of predictions. Higher number of trees give you better performance but makes your code slower.\n",
    "\n",
    "\n",
    "### SUPPORT VECTOR MACHINE (SVC)\n",
    "\n",
    "##### Categorical Variables Preprocessing\n",
    "\n",
    "There were 19 categorical features in the dataset that was converted to numerical values for data modeling.  Since we had features with a multitude of categories (features with high cardinality), we would expand the feature space dramatically using one hot encoding with binary values 0 or 1.  Alternatively, for each variable, we examined the frequency of values, kept the values that made up rough 87%-90% of occurrences and combined the rest of the values into a single variable.  In some instances, though the value of occurence per single instance was low, when these low frequency occuring values were combined, their total frequency made up the bulk of the occurence.  This process was used in order to minimize the feature space since support vector machine implementations could take a long time given the size of the dataset.  Categorical features were converted to numerics using label encoder.\n",
    "\n",
    "##### Train/Test Split, Cross Validation and Parameter Tuning\n",
    "\n",
    "Using a 70:30 Train/test split of the data containing numerical features and the label encoding of categorical features, SVC() was implemented with RandomizedSearchCV with 3-fold cross validation for tuning of paramters C, gamma, and kernel = 'linear'.  C is a regularization parameter that prevents overfitting and has value range {0.1,10,100,1000} where the strength of the regularization is inversely proportional to C.  Gamma has a value range {1,0.1,0.01,0.001,0.0001.0.00001} where the higher the gamma value, the higher the priority is to classify all training examples correctly vs. keeping the decision surface simple and smooth.  Kernel types included 'linear' or 'rbf'.  The combination of C and gamma is important to the performance of the SVC() algorithm and finding the optimal values of C-gamma pairing for each kernel type was done using RandomizedSearchhCV.\n",
    "\n",
    "SVC() algorithm is time consuming and implementation time took several hours without yielding results.\n",
    "\n",
    "##### Sample Sampling for SVM\n",
    "\n",
    "Random samplings of the dataset with sample sizes of 1000,2000,5000 and 10000 were used to test implementation times for  Support Vector Machine classification, SVC(), with 70:30 train/test split and RandommisedSearchCV() with the parameter tuning for a range of 'C'(from 1 to 1000) and 'gamma' (from 0.0001 to 1).  For each sample sizes, the algorithm was implemented with 3-fold cross validation, and 30 iterations.  Performance was evaluated using classification report for F1-score and accuracy as well as confusion matrix. Lastly, verbose = 1 was chosen for progression tracking.\n",
    "\n",
    "\n",
    "### XGBOOST (XGB)\n",
    "\n",
    "The XGBoost model using the label encoded categorical variables along with  continuous variables as the input. Our baseline log loss was `0.55` and our baseline accuracy was `76%` using the default hyperparameters for XGBoost.\n",
    "\n",
    "The hyperparameters we tuned using grid search can be defined as follows:\n",
    "\n",
    "> `colsample_bytree` is the subsample ratio of columns when constructing each tree. Subsampling occurs once for every tree constructed.\n",
    "\n",
    "> `eta` Step size shrinkage used in update to prevents overfitting. After each boosting step, we can directly get the weights of new features, and eta shrinks the feature weights to make the boosting process more conservative.\n",
    "\n",
    "> `eval_metric` is the way we will evaluate our best set of parameters, in this case `logloss`\n",
    "\n",
    "> `max_depth` is the maximum depth of a tree. Increasing this value will make the model more complex and more likely to overfit.\n",
    "\n",
    "> `min_child_weight` is the minimum sum of instance weight needed in a child. A larger weight will result in a more conservative algorithm.\n",
    "\n",
    "> `objective` is the type of algorithm\n",
    "\n",
    "> `subsample` is the subsample ratio of the training instances. A value of 0.5 means half the data would be randomly sampled."
   ]
  },
  {
   "cell_type": "markdown",
   "metadata": {},
   "source": [
    "# 3 RESULTS\n",
    "\n",
    "\n",
    "### SAMPLE SUPPORT VECTOR MACHINE CLASSIFIER\n",
    "\n",
    "The results for sampling of SVC() implementation using randomizedsearch CV parameter tuning for 30 iterations showed that given the same set of parameters, processing time was faster for smaller sample sizes with non-differentiating performance results.  \n",
    "\n",
    "|Sample size|Average Time (sec)|Accuracy|\n",
    "|-----------|------------------|--------|\n",
    " 10000|0.026|77%|    \n",
    " 2000|0.093|76%|\n",
    " 5000|0.563|76%|\n",
    "10000|3.190|75%|\n",
    "50000|544|76%|\n",
    "\n",
    "However, it was noted that the confusion matrices for these samplings only identified true negatives and false positives. Even using a random sample size of 50,000 rows did not make a difference in accuracy.\n",
    "\n",
    "Results for support vector machine classifier using the same parameters with randomized search CV 3-fold were not available at this time due to it running overnight and is still going after two days.  \n",
    "\n",
    "\n",
    "### XGBOOST CLASSIFIER\n",
    "\n",
    "|Hyperparameter|Value|\n",
    "| --- | --- |\n",
    "|'colsample_bytree'|1.0|\n",
    " |'eta'|0.01|\n",
    " |'eval_metric'|'logloss'|\n",
    " |'max_depth'|9|\n",
    "| 'min_child_weight'|5|\n",
    " |'objective'|'binary:logistic'|\n",
    " |'subsample'|1.0|\n",
    " \n",
    "While the `eta` value of `0.005` was slightly lower log loss, it took twice as long to run as `eta` of `.01` so we opted to sacrifice that small log loss for a faster run time.\n",
    "\n",
    "Our tuned model reduced log loss to `0.47` while increasing accuracy to `77%`.\n",
    "\n",
    "### RANDOM FOREST CLASSIFIER\n",
    "\n",
    "RandomForest grid search and a random search to tune hyperparameters, and got the following as our results:\n",
    "\n",
    "|Hyperparameter|Value|\n",
    "| --- | --- |\n",
    "|'bootstrap'|True|\n",
    " |'max_depth'|80|\n",
    " |'max_features'|3|\n",
    " |'min_samples_leaf'|4|\n",
    " |'min_samples_split'|10|\n",
    " |'n_estimators'|1000|\n",
    " \n",
    "Our tuned model reduced log loss to `7.35` while increasing accuracy to `79%`."
   ]
  },
  {
   "cell_type": "markdown",
   "metadata": {},
   "source": [
    "# 4 Conclusion\n",
    "\n",
    "XGBoost Classifier is the best algorithm to use for this dataset based on log loss of 0.47 and accuracy of 77%.  Comparatively, Random Forest Classifier yielded a log loss of 7.35 with 79% accuracy.  In addition, XGBoost took about 2 hours to run in contrast to over 5 hours for Random Forest.  \n",
    "\n",
    "Support vector machine (SVM) was the worst performer as measured by implementation time, due to the sample size.  Based on a random sampling of sample size, accuracies ranged from 75%-77%, but runtime very time consuming.  In addition, the confusion matrix revealed that SVM only yielded false positives and true negatives, therefore, evaluating model performance based on accuracies alone can be misleading.  Moreover, random sampling for the SVM samples may have caused imbalanced subsets of the data, which may impact the results as shown by the confusion matrices.  "
   ]
  },
  {
   "cell_type": "markdown",
   "metadata": {},
   "source": [
    "# Appendix: Code"
   ]
  },
  {
   "cell_type": "markdown",
   "metadata": {},
   "source": [
    "## XGBOOST"
   ]
  },
  {
   "cell_type": "code",
   "execution_count": 1,
   "metadata": {},
   "outputs": [],
   "source": [
    "import numpy as np\n",
    "import pandas as pd\n",
    "import xgboost as xgb\n",
    "import warnings\n",
    "warnings.filterwarnings(\"ignore\")"
   ]
  },
  {
   "cell_type": "code",
   "execution_count": 2,
   "metadata": {},
   "outputs": [],
   "source": [
    "df = pd.read_csv(\"C://Users//WilliamNayden//Documents//MSDS//case_8.csv\", index_col=0)\n",
    "target = df['target']\n",
    "df.drop(['target'],inplace=True, axis=1)"
   ]
  },
  {
   "cell_type": "code",
   "execution_count": 3,
   "metadata": {},
   "outputs": [
    {
     "name": "stdout",
     "output_type": "stream",
     "text": [
      "Index(['v3', 'v22', 'v24', 'v30', 'v31', 'v47', 'v52', 'v56', 'v66', 'v71',\n",
      "       'v74', 'v75', 'v79', 'v91', 'v107', 'v110', 'v112', 'v113', 'v125'],\n",
      "      dtype='object')\n",
      "<class 'pandas.core.frame.DataFrame'>\n",
      "Int64Index: 114321 entries, 3 to 228713\n",
      "Columns: 131 entries, v1 to v131\n",
      "dtypes: float64(108), int32(19), int64(4)\n",
      "memory usage: 106.8 MB\n",
      "None\n"
     ]
    }
   ],
   "source": [
    "objList = df.select_dtypes(include = \"object\").columns\n",
    "print (objList)\n",
    "\n",
    "#Label Encoding for object to numeric conversion\n",
    "from sklearn.preprocessing import LabelEncoder\n",
    "le = LabelEncoder()\n",
    "\n",
    "for feat in objList:\n",
    "    df[feat] = le.fit_transform(df[feat].astype(str))\n",
    "\n",
    "print (df.info())"
   ]
  },
  {
   "cell_type": "code",
   "execution_count": 5,
   "metadata": {},
   "outputs": [
    {
     "name": "stdout",
     "output_type": "stream",
     "text": [
      "              v1        v2  v3        v4         v5        v6        v7  \\\n",
      "ID                                                                        \n",
      "3       1.335739  8.727474   2  3.921026   7.915266  2.599278  3.176895   \n",
      "4       1.630686  7.464411   2  4.145098   9.191265  2.436402  2.483921   \n",
      "5       0.943877  5.310079   2  4.410969   5.326159  3.979592  3.928571   \n",
      "6       0.797415  8.304757   2  4.225930  11.627438  2.097700  1.987549   \n",
      "8       1.630686  7.464411   2  4.145098   8.742359  2.436402  2.483921   \n",
      "...          ...       ...  ..       ...        ...       ...       ...   \n",
      "228708  1.630686  7.464411   2  4.145098   8.742359  2.436402  2.483921   \n",
      "228710  1.630686  7.464411   2  4.145098   8.742359  2.436402  2.483921   \n",
      "228711  1.630686  7.464411   2  4.145098  10.069277  2.436402  2.483921   \n",
      "228712  1.630686  7.464411   2  4.145098  10.106144  2.436402  2.483921   \n",
      "228713  1.619763  7.932978   2  4.640085   8.473141  2.351470  2.826766   \n",
      "\n",
      "              v8         v9       v10  ...      v122      v123      v124  \\\n",
      "ID                                     ...                                 \n",
      "3       0.012941   9.999999  0.503281  ...  8.000000  1.989780  0.035754   \n",
      "4       2.301630   9.031859  1.312910  ...  6.822439  3.549938  0.598896   \n",
      "5       0.019645  12.666667  0.765864  ...  9.333333  2.477596  0.013452   \n",
      "6       0.171947   8.965516  6.542669  ...  7.018256  1.812795  0.002267   \n",
      "8       1.496569   9.031859  1.050328  ...  6.822439  3.549938  0.919812   \n",
      "...          ...        ...       ...  ...       ...       ...       ...   \n",
      "228708  1.496569   9.031859  1.444201  ...  6.822439  3.549938  0.919812   \n",
      "228710  1.496569   9.031859  6.236324  ...  6.822439  3.549938  0.919812   \n",
      "228711  0.323324   9.031859  2.078775  ...  6.822439  3.549938  0.156764   \n",
      "228712  0.309226   9.031859  1.291029  ...  6.822439  3.549938  0.490658   \n",
      "228713  3.479754   9.629630  0.853391  ...  7.936508  2.944285  3.135205   \n",
      "\n",
      "        v125      v126      v127      v128  v129      v130      v131  \n",
      "ID                                                                    \n",
      "3         21  1.804126  3.113719  2.024285     0  0.636365  2.857144  \n",
      "4          6  1.672658  3.239542  1.957825     0  1.925763  1.739389  \n",
      "5          5  1.773709  3.922193  1.120468     2  0.883118  1.176472  \n",
      "6         64  1.415230  2.954381  1.990847     1  1.677108  1.034483  \n",
      "8         89  1.672658  3.239542  2.030373     0  1.925763  1.739389  \n",
      "...      ...       ...       ...       ...   ...       ...       ...  \n",
      "228708    12  1.672658  3.239542  2.030373     0  1.925763  1.739389  \n",
      "228710    68  1.672658  3.239542  2.030373     1  1.925763  1.739389  \n",
      "228711    80  1.672658  3.239542  2.417606     2  1.925763  1.739389  \n",
      "228712    50  1.672658  3.239542  3.526650     0  1.925763  1.739389  \n",
      "228713    85  1.943149  4.385553  1.604493     0  1.787610  1.386138  \n",
      "\n",
      "[114321 rows x 131 columns]\n"
     ]
    }
   ],
   "source": [
    "train = df\n",
    "print(train)"
   ]
  },
  {
   "cell_type": "code",
   "execution_count": 6,
   "metadata": {},
   "outputs": [
    {
     "name": "stdout",
     "output_type": "stream",
     "text": [
      "Dataset has 114321 entries and 131 features\n"
     ]
    }
   ],
   "source": [
    "print(\"Dataset has {} entries and {} features\".format(*train.shape))"
   ]
  },
  {
   "cell_type": "code",
   "execution_count": 7,
   "metadata": {},
   "outputs": [],
   "source": [
    "from sklearn.model_selection import train_test_split\n",
    "X_train, X_test, y_train, y_test = train_test_split(train, target, test_size=0.33, random_state=42)"
   ]
  },
  {
   "cell_type": "code",
   "execution_count": 7,
   "metadata": {},
   "outputs": [],
   "source": [
    "xgtrain = xgb.DMatrix(X_train.values, y_train.values)\n",
    "xgtest = xgb.DMatrix(X_test.values, y_test.values)"
   ]
  },
  {
   "cell_type": "code",
   "execution_count": 8,
   "metadata": {},
   "outputs": [],
   "source": [
    "import xgboost as xgb\n",
    "dtrain = xgb.DMatrix(X_train, label=y_train)\n",
    "dtest = xgb.DMatrix(X_test, label=y_test)"
   ]
  },
  {
   "cell_type": "code",
   "execution_count": 9,
   "metadata": {},
   "outputs": [],
   "source": [
    "from sklearn.metrics import log_loss, accuracy_score"
   ]
  },
  {
   "cell_type": "code",
   "execution_count": 17,
   "metadata": {},
   "outputs": [
    {
     "name": "stdout",
     "output_type": "stream",
     "text": [
      "Baseline Accuracy is 0.76\n",
      "Baseline Log Loss is 0.55\n"
     ]
    }
   ],
   "source": [
    "import numpy as np\n",
    "# \"Learn\" the mean from the training data\n",
    "mean_train = np.mean(y_train)\n",
    "# Get predictions on the test set\n",
    "baseline_predictions = np.ones(y_test.shape) * mean_train\n",
    "\n",
    "# Compute Log Loss and Accuracy\n",
    "log_baseline = log_loss(y_test, baseline_predictions)\n",
    "acc_baseline = accuracy_score(y_test, np.ones(baseline_predictions.shape))\n",
    "\n",
    "print(\"Baseline Accuracy is {:.2f}\".format(acc_baseline))\n",
    "print(\"Baseline Log Loss is {:.2f}\".format(log_baseline))"
   ]
  },
  {
   "cell_type": "code",
   "execution_count": 18,
   "metadata": {},
   "outputs": [],
   "source": [
    "params = {\n",
    "    # Parameters that we are going to tune.\n",
    "    'max_depth':6,\n",
    "    'min_child_weight': 1,\n",
    "    'eta':.3,\n",
    "    'subsample': 1,\n",
    "    'colsample_bytree': 1,\n",
    "    # Other parameters\n",
    "    'objective':'reg:squarederror',\n",
    "}"
   ]
  },
  {
   "cell_type": "code",
   "execution_count": 19,
   "metadata": {},
   "outputs": [],
   "source": [
    "params['eval_metric'] = \"logloss\""
   ]
  },
  {
   "cell_type": "code",
   "execution_count": 20,
   "metadata": {},
   "outputs": [],
   "source": [
    "num_boost_round = 999"
   ]
  },
  {
   "cell_type": "code",
   "execution_count": 21,
   "metadata": {},
   "outputs": [
    {
     "name": "stdout",
     "output_type": "stream",
     "text": [
      "[0]\tTest-logloss:0.59585\n",
      "[1]\tTest-logloss:0.54349\n",
      "[2]\tTest-logloss:0.51408\n",
      "[3]\tTest-logloss:0.49622\n",
      "[4]\tTest-logloss:0.48699\n",
      "[5]\tTest-logloss:0.48083\n",
      "[6]\tTest-logloss:0.47772\n",
      "[7]\tTest-logloss:0.47577\n",
      "[8]\tTest-logloss:0.47423\n",
      "[9]\tTest-logloss:0.47283\n",
      "[10]\tTest-logloss:0.47257\n",
      "[11]\tTest-logloss:0.47378\n",
      "[12]\tTest-logloss:0.47440\n",
      "[13]\tTest-logloss:0.47358\n",
      "[14]\tTest-logloss:0.47444\n",
      "[15]\tTest-logloss:0.47440\n",
      "[16]\tTest-logloss:0.47383\n",
      "[17]\tTest-logloss:0.47389\n",
      "[18]\tTest-logloss:0.47399\n",
      "[19]\tTest-logloss:0.47445\n",
      "[20]\tTest-logloss:0.47463\n"
     ]
    }
   ],
   "source": [
    "model = xgb.train(\n",
    "    params,\n",
    "    dtrain,\n",
    "    num_boost_round=num_boost_round,\n",
    "    evals=[(dtest, \"Test\")],\n",
    "    early_stopping_rounds=10\n",
    ")"
   ]
  },
  {
   "cell_type": "code",
   "execution_count": 22,
   "metadata": {},
   "outputs": [
    {
     "name": "stdout",
     "output_type": "stream",
     "text": [
      "Best Log Loss: 0.47 with 11 rounds\n"
     ]
    }
   ],
   "source": [
    "print(\"Best Log Loss: {:.2f} with {} rounds\".format(\n",
    "                 model.best_score,\n",
    "                 model.best_iteration+1))"
   ]
  },
  {
   "cell_type": "code",
   "execution_count": 23,
   "metadata": {},
   "outputs": [
    {
     "data": {
      "text/html": [
       "<div>\n",
       "<style scoped>\n",
       "    .dataframe tbody tr th:only-of-type {\n",
       "        vertical-align: middle;\n",
       "    }\n",
       "\n",
       "    .dataframe tbody tr th {\n",
       "        vertical-align: top;\n",
       "    }\n",
       "\n",
       "    .dataframe thead th {\n",
       "        text-align: right;\n",
       "    }\n",
       "</style>\n",
       "<table border=\"1\" class=\"dataframe\">\n",
       "  <thead>\n",
       "    <tr style=\"text-align: right;\">\n",
       "      <th></th>\n",
       "      <th>train-logloss-mean</th>\n",
       "      <th>train-logloss-std</th>\n",
       "      <th>train-error-mean</th>\n",
       "      <th>train-error-std</th>\n",
       "      <th>test-logloss-mean</th>\n",
       "      <th>test-logloss-std</th>\n",
       "      <th>test-error-mean</th>\n",
       "      <th>test-error-std</th>\n",
       "    </tr>\n",
       "  </thead>\n",
       "  <tbody>\n",
       "    <tr>\n",
       "      <th>0</th>\n",
       "      <td>0.594222</td>\n",
       "      <td>0.000169</td>\n",
       "      <td>0.219355</td>\n",
       "      <td>0.000534</td>\n",
       "      <td>0.596227</td>\n",
       "      <td>0.000418</td>\n",
       "      <td>0.224218</td>\n",
       "      <td>0.002851</td>\n",
       "    </tr>\n",
       "    <tr>\n",
       "      <th>1</th>\n",
       "      <td>0.540254</td>\n",
       "      <td>0.000323</td>\n",
       "      <td>0.217635</td>\n",
       "      <td>0.000961</td>\n",
       "      <td>0.543916</td>\n",
       "      <td>0.000762</td>\n",
       "      <td>0.222469</td>\n",
       "      <td>0.002365</td>\n",
       "    </tr>\n",
       "    <tr>\n",
       "      <th>2</th>\n",
       "      <td>0.509214</td>\n",
       "      <td>0.000319</td>\n",
       "      <td>0.217090</td>\n",
       "      <td>0.000899</td>\n",
       "      <td>0.514469</td>\n",
       "      <td>0.001079</td>\n",
       "      <td>0.221777</td>\n",
       "      <td>0.003009</td>\n",
       "    </tr>\n",
       "    <tr>\n",
       "      <th>3</th>\n",
       "      <td>0.490312</td>\n",
       "      <td>0.000534</td>\n",
       "      <td>0.216398</td>\n",
       "      <td>0.000668</td>\n",
       "      <td>0.497500</td>\n",
       "      <td>0.001061</td>\n",
       "      <td>0.221385</td>\n",
       "      <td>0.002789</td>\n",
       "    </tr>\n",
       "    <tr>\n",
       "      <th>4</th>\n",
       "      <td>0.478276</td>\n",
       "      <td>0.000566</td>\n",
       "      <td>0.215363</td>\n",
       "      <td>0.000992</td>\n",
       "      <td>0.487557</td>\n",
       "      <td>0.001440</td>\n",
       "      <td>0.221529</td>\n",
       "      <td>0.002131</td>\n",
       "    </tr>\n",
       "    <tr>\n",
       "      <th>5</th>\n",
       "      <td>0.470668</td>\n",
       "      <td>0.000516</td>\n",
       "      <td>0.214616</td>\n",
       "      <td>0.000748</td>\n",
       "      <td>0.482328</td>\n",
       "      <td>0.001366</td>\n",
       "      <td>0.221673</td>\n",
       "      <td>0.002325</td>\n",
       "    </tr>\n",
       "    <tr>\n",
       "      <th>6</th>\n",
       "      <td>0.465326</td>\n",
       "      <td>0.000499</td>\n",
       "      <td>0.213781</td>\n",
       "      <td>0.000831</td>\n",
       "      <td>0.479303</td>\n",
       "      <td>0.001508</td>\n",
       "      <td>0.221712</td>\n",
       "      <td>0.002283</td>\n",
       "    </tr>\n",
       "    <tr>\n",
       "      <th>7</th>\n",
       "      <td>0.461288</td>\n",
       "      <td>0.000448</td>\n",
       "      <td>0.212416</td>\n",
       "      <td>0.001194</td>\n",
       "      <td>0.477426</td>\n",
       "      <td>0.001778</td>\n",
       "      <td>0.221359</td>\n",
       "      <td>0.002064</td>\n",
       "    </tr>\n",
       "  </tbody>\n",
       "</table>\n",
       "</div>"
      ],
      "text/plain": [
       "   train-logloss-mean  train-logloss-std  train-error-mean  train-error-std  \\\n",
       "0            0.594222           0.000169          0.219355         0.000534   \n",
       "1            0.540254           0.000323          0.217635         0.000961   \n",
       "2            0.509214           0.000319          0.217090         0.000899   \n",
       "3            0.490312           0.000534          0.216398         0.000668   \n",
       "4            0.478276           0.000566          0.215363         0.000992   \n",
       "5            0.470668           0.000516          0.214616         0.000748   \n",
       "6            0.465326           0.000499          0.213781         0.000831   \n",
       "7            0.461288           0.000448          0.212416         0.001194   \n",
       "\n",
       "   test-logloss-mean  test-logloss-std  test-error-mean  test-error-std  \n",
       "0           0.596227          0.000418         0.224218        0.002851  \n",
       "1           0.543916          0.000762         0.222469        0.002365  \n",
       "2           0.514469          0.001079         0.221777        0.003009  \n",
       "3           0.497500          0.001061         0.221385        0.002789  \n",
       "4           0.487557          0.001440         0.221529        0.002131  \n",
       "5           0.482328          0.001366         0.221673        0.002325  \n",
       "6           0.479303          0.001508         0.221712        0.002283  \n",
       "7           0.477426          0.001778         0.221359        0.002064  "
      ]
     },
     "execution_count": 23,
     "metadata": {},
     "output_type": "execute_result"
    }
   ],
   "source": [
    "cv_results = xgb.cv(\n",
    "    params,\n",
    "    dtrain,\n",
    "    num_boost_round=num_boost_round,\n",
    "    seed=42,\n",
    "    nfold=5,\n",
    "    metrics={'logloss','error'},\n",
    "    early_stopping_rounds=10\n",
    ")\n",
    "cv_results"
   ]
  },
  {
   "cell_type": "code",
   "execution_count": 24,
   "metadata": {},
   "outputs": [
    {
     "data": {
      "text/plain": [
       "0.47742579999999996"
      ]
     },
     "execution_count": 24,
     "metadata": {},
     "output_type": "execute_result"
    }
   ],
   "source": [
    "print('Best Accuracy: {}', (1-cv_results['test-error-mean'].min()))\n",
    "print('Best Log Loss: {}'cv_results['test-logloss-mean'].min())"
   ]
  },
  {
   "cell_type": "code",
   "execution_count": 25,
   "metadata": {},
   "outputs": [],
   "source": [
    "gridsearch_params = [\n",
    "    (max_depth, min_child_weight)\n",
    "    for max_depth in range(9,12)\n",
    "    for min_child_weight in range(5,8)\n",
    "]"
   ]
  },
  {
   "cell_type": "code",
   "execution_count": 26,
   "metadata": {},
   "outputs": [
    {
     "name": "stdout",
     "output_type": "stream",
     "text": [
      "CV with max_depth=9, min_child_weight=5\n",
      "\\Log Loss 0.48336480000000004 for 6 rounds\n",
      "\\Accuracy 0.7757031999999999 for 6 rounds\n",
      "CV with max_depth=9, min_child_weight=6\n",
      "\\Log Loss 0.4841996 for 6 rounds\n",
      "\\Accuracy 0.7746982 for 6 rounds\n",
      "CV with max_depth=9, min_child_weight=7\n",
      "\\Log Loss 0.48552100000000004 for 6 rounds\n",
      "\\Accuracy 0.775168 for 6 rounds\n",
      "CV with max_depth=10, min_child_weight=5\n",
      "\\Log Loss 0.48895039999999995 for 6 rounds\n",
      "\\Accuracy 0.7722826 for 6 rounds\n",
      "CV with max_depth=10, min_child_weight=6\n",
      "\\Log Loss 0.4901923999999999 for 5 rounds\n",
      "\\Accuracy 0.7731184 for 5 rounds\n",
      "CV with max_depth=10, min_child_weight=7\n",
      "\\Log Loss 0.48927000000000004 for 5 rounds\n",
      "\\Accuracy 0.7733534 for 5 rounds\n",
      "CV with max_depth=11, min_child_weight=5\n",
      "\\Log Loss 0.49479239999999997 for 5 rounds\n",
      "\\Accuracy 0.7702854 for 5 rounds\n",
      "CV with max_depth=11, min_child_weight=6\n",
      "\\Log Loss 0.493811 for 5 rounds\n",
      "\\Accuracy 0.7701938 for 5 rounds\n",
      "CV with max_depth=11, min_child_weight=7\n",
      "\\Log Loss 0.49371279999999995 for 5 rounds\n",
      "\\Accuracy 0.7714994 for 5 rounds\n",
      "Best params: 9, 5, Log Loss: 0.48336480000000004, Accuracy: 0.7714994\n"
     ]
    }
   ],
   "source": [
    "# Define initial best params and Log Loss\n",
    "min_logloss = float(\"Inf\")\n",
    "best_params = None\n",
    "for max_depth, min_child_weight in gridsearch_params:\n",
    "    print(\"CV with max_depth={}, min_child_weight={}\".format(\n",
    "                             max_depth,\n",
    "                             min_child_weight))\n",
    "    # Update our parameters\n",
    "    params['max_depth'] = max_depth\n",
    "    params['min_child_weight'] = min_child_weight\n",
    "    # Run CV\n",
    "    cv_results = xgb.cv(\n",
    "        params,\n",
    "        dtrain,\n",
    "        num_boost_round=num_boost_round,\n",
    "        seed=42,\n",
    "        nfold=5,\n",
    "        metrics={'logloss', 'error'},\n",
    "        early_stopping_rounds=10\n",
    "    )\n",
    "    # Update best Log Loss\n",
    "    mean_logloss = cv_results['test-logloss-mean'].min()\n",
    "    mean_error = cv_results['test-error-mean'].min()\n",
    "    boost_rounds = cv_results['test-logloss-mean'].argmin()\n",
    "    print(\"\\Log Loss {} for {} rounds\".format(mean_logloss, boost_rounds))\n",
    "    print(\"\\Accuracy {} for {} rounds\".format((1-mean_error), boost_rounds))\n",
    "    if mean_logloss < min_logloss:\n",
    "        min_logloss = mean_logloss\n",
    "        best_params = (max_depth,min_child_weight)\n",
    "print(\"Best params: {}, {}, Log Loss: {}, Accuracy: {}\".format(best_params[0], best_params[1], min_logloss, (1-mean_error)))"
   ]
  },
  {
   "cell_type": "code",
   "execution_count": 27,
   "metadata": {},
   "outputs": [],
   "source": [
    "params['max_depth'] = 9\n",
    "params['min_child_weight'] = 5"
   ]
  },
  {
   "cell_type": "code",
   "execution_count": 28,
   "metadata": {},
   "outputs": [],
   "source": [
    "gridsearch_params = [\n",
    "    (subsample, colsample)\n",
    "    for subsample in [i/10. for i in range(7,11)]\n",
    "    for colsample in [i/10. for i in range(7,11)]\n",
    "]"
   ]
  },
  {
   "cell_type": "code",
   "execution_count": 29,
   "metadata": {},
   "outputs": [
    {
     "name": "stdout",
     "output_type": "stream",
     "text": [
      "CV with subsample=1.0, colsample=1.0\n",
      "\tLog Loss 0.48336480000000004 for 6 rounds\n",
      "\tAccuracy 0.7757031999999999 for 6 rounds\n",
      "CV with subsample=1.0, colsample=0.9\n",
      "\tLog Loss 0.48473760000000005 for 7 rounds\n",
      "\tAccuracy 0.7745544 for 7 rounds\n",
      "CV with subsample=1.0, colsample=0.8\n",
      "\tLog Loss 0.48653880000000005 for 7 rounds\n",
      "\tAccuracy 0.774228 for 7 rounds\n",
      "CV with subsample=1.0, colsample=0.7\n",
      "\tLog Loss 0.48524400000000006 for 6 rounds\n",
      "\tAccuracy 0.7760036 for 6 rounds\n",
      "CV with subsample=0.9, colsample=1.0\n",
      "\tLog Loss 0.486137 for 6 rounds\n",
      "\tAccuracy 0.7745936 for 6 rounds\n",
      "CV with subsample=0.9, colsample=0.9\n",
      "\tLog Loss 0.48725879999999994 for 6 rounds\n",
      "\tAccuracy 0.7741366000000001 for 6 rounds\n",
      "CV with subsample=0.9, colsample=0.8\n",
      "\tLog Loss 0.4877432 for 6 rounds\n",
      "\tAccuracy 0.774437 for 6 rounds\n",
      "CV with subsample=0.9, colsample=0.7\n",
      "\tLog Loss 0.4893510000000001 for 5 rounds\n",
      "\tAccuracy 0.7747499999999999 for 5 rounds\n",
      "CV with subsample=0.8, colsample=1.0\n",
      "\tLog Loss 0.49988839999999996 for 3 rounds\n",
      "\tAccuracy 0.7740844 for 3 rounds\n",
      "CV with subsample=0.8, colsample=0.9\n",
      "\tLog Loss 0.48957839999999997 for 6 rounds\n",
      "\tAccuracy 0.773471 for 6 rounds\n",
      "CV with subsample=0.8, colsample=0.8\n",
      "\tLog Loss 0.4885256 for 6 rounds\n",
      "\tAccuracy 0.7740586 for 6 rounds\n",
      "CV with subsample=0.8, colsample=0.7\n",
      "\tLog Loss 0.488768 for 6 rounds\n",
      "\tAccuracy 0.774894 for 6 rounds\n",
      "CV with subsample=0.7, colsample=1.0\n",
      "\tLog Loss 0.48931700000000006 for 5 rounds\n",
      "\tAccuracy 0.7731706 for 5 rounds\n",
      "CV with subsample=0.7, colsample=0.9\n",
      "\tLog Loss 0.49524840000000003 for 4 rounds\n",
      "\tAccuracy 0.7731444 for 4 rounds\n",
      "CV with subsample=0.7, colsample=0.8\n",
      "\tLog Loss 0.49497160000000007 for 4 rounds\n",
      "\tAccuracy 0.7732228 for 4 rounds\n",
      "CV with subsample=0.7, colsample=0.7\n",
      "\tLog Loss 0.49046939999999994 for 6 rounds\n",
      "\tAccuracy 0.773549 for 6 rounds\n",
      "Best params: 1.0, 1.0, Log Loss: 0.48336480000000004, Accuracy: 0.773549\n"
     ]
    }
   ],
   "source": [
    "min_logloss = float(\"Inf\")\n",
    "best_params = None\n",
    "# We start by the largest values and go down to the smallest\n",
    "for subsample, colsample in reversed(gridsearch_params):\n",
    "    print(\"CV with subsample={}, colsample={}\".format(\n",
    "                             subsample,\n",
    "                             colsample))\n",
    "    # We update our parameters\n",
    "    params['subsample'] = subsample\n",
    "    params['colsample_bytree'] = colsample\n",
    "    # Run CV\n",
    "    cv_results = xgb.cv(\n",
    "        params,\n",
    "        dtrain,\n",
    "        num_boost_round=num_boost_round,\n",
    "        seed=42,\n",
    "        nfold=5,\n",
    "        metrics={'logloss', 'error'},\n",
    "        early_stopping_rounds=10\n",
    "    )\n",
    "    # Update best score\n",
    "    mean_logloss = cv_results['test-logloss-mean'].min()\n",
    "    mean_error = cv_results['test-error-mean'].min()\n",
    "    boost_rounds = cv_results['test-logloss-mean'].argmin()\n",
    "    print(\"\\tLog Loss {} for {} rounds\".format(mean_logloss, boost_rounds))\n",
    "    print(\"\\tAccuracy {} for {} rounds\".format((1-mean_error), boost_rounds))\n",
    "    if mean_logloss < min_logloss:\n",
    "        min_logloss = mean_logloss\n",
    "        best_params = (subsample,colsample)\n",
    "print(\"Best params: {}, {}, Log Loss: {}, Accuracy: {}\".format(best_params[0], best_params[1], min_logloss, (1-mean_error)))"
   ]
  },
  {
   "cell_type": "code",
   "execution_count": 30,
   "metadata": {},
   "outputs": [],
   "source": [
    "params['subsample'] = 1.0\n",
    "params['colsample_bytree'] = 1.0"
   ]
  },
  {
   "cell_type": "code",
   "execution_count": 32,
   "metadata": {},
   "outputs": [
    {
     "name": "stdout",
     "output_type": "stream",
     "text": [
      "Wall time: 0 ns\n",
      "CV with eta=0.3\n",
      "Wall time: 34.7 s\n",
      "\tLog Loss 0.48336480000000004 for 6 rounds\n",
      "\n",
      "\tAccuracy 0.7757031999999999 for 6 rounds\n",
      "CV with eta=0.2\n",
      "Wall time: 1min 7s\n",
      "\tLog Loss 0.4802938 for 11 rounds\n",
      "\n",
      "\tAccuracy 0.777009 for 11 rounds\n",
      "CV with eta=0.1\n",
      "Wall time: 2min 11s\n",
      "\tLog Loss 0.4761602 for 32 rounds\n",
      "\n",
      "\tAccuracy 0.7786150000000001 for 32 rounds\n",
      "CV with eta=0.05\n",
      "Wall time: 2min 27s\n",
      "\tLog Loss 0.4761278000000001 for 51 rounds\n",
      "\n",
      "\tAccuracy 0.7786801999999999 for 51 rounds\n",
      "CV with eta=0.01\n",
      "Wall time: 3min 43s\n",
      "\tLog Loss 0.5274683999999998 for 85 rounds\n",
      "\n",
      "\tAccuracy 0.7775574 for 85 rounds\n",
      "CV with eta=0.005\n",
      "Wall time: 3min 38s\n",
      "\tLog Loss 0.582802 for 83 rounds\n",
      "\n",
      "\tAccuracy 0.7761342 for 83 rounds\n",
      "Best params: 0.05, Log Loss: 0.4761278000000001, Accuracy: 0.7761342\n"
     ]
    }
   ],
   "source": [
    "%time\n",
    "\n",
    "# This can take some time…\n",
    "min_logloss = float(\"Inf\")\n",
    "best_params = None\n",
    "\n",
    "for eta in [.3, .2, .1, .05, .01, .005]:\n",
    "    print(\"CV with eta={}\".format(eta))\n",
    "    \n",
    "    # We update our parameters\n",
    "    params['eta'] = eta\n",
    "    \n",
    "    # Run and time CV\n",
    "    %time cv_results = xgb.cv(params,dtrain,num_boost_round=num_boost_round,seed=42,nfold=5,metrics=['logloss', 'error'],early_stopping_rounds=10)\n",
    "    \n",
    "    # Update best score\n",
    "    mean_logloss = cv_results['test-logloss-mean'].min()\n",
    "    mean_error = cv_results['test-error-mean'].min()\n",
    "    boost_rounds = cv_results['test-logloss-mean'].argmin()\n",
    "    print(\"\\tLog Loss {} for {} rounds\\n\".format(mean_logloss, boost_rounds))\n",
    "    print(\"\\tAccuracy {} for {} rounds\".format((1-mean_error), boost_rounds))\n",
    "    if mean_logloss < min_logloss:\n",
    "        min_logloss = mean_logloss\n",
    "        best_params = eta\n",
    "print(\"Best params: {}, Log Loss: {}, Accuracy: {}\".format(best_params, min_logloss, (1-mean_error)))"
   ]
  },
  {
   "cell_type": "code",
   "execution_count": 33,
   "metadata": {},
   "outputs": [],
   "source": [
    "#Significantly reduces runtime\n",
    "params['eta'] = .01"
   ]
  },
  {
   "cell_type": "code",
   "execution_count": 34,
   "metadata": {},
   "outputs": [
    {
     "data": {
      "text/plain": [
       "{'colsample_bytree': 1.0,\n",
       " 'eta': 0.01,\n",
       " 'eval_metric': 'logloss',\n",
       " 'max_depth': 9,\n",
       " 'min_child_weight': 5,\n",
       " 'objective': 'reg:linear',\n",
       " 'subsample': 1.0}"
      ]
     },
     "execution_count": 34,
     "metadata": {},
     "output_type": "execute_result"
    }
   ],
   "source": [
    "params\n",
    "{'colsample_bytree': 1.0,\n",
    " 'eta': 0.01,\n",
    " 'eval_metric': 'logloss',\n",
    " 'max_depth': 9,\n",
    " 'min_child_weight': 5,\n",
    " 'objective': 'reg:linear',\n",
    " 'subsample': 1.0}"
   ]
  },
  {
   "cell_type": "code",
   "execution_count": 35,
   "metadata": {},
   "outputs": [
    {
     "name": "stdout",
     "output_type": "stream",
     "text": [
      "[0]\tTest-logloss:0.68934\n",
      "[1]\tTest-logloss:0.68560\n",
      "[2]\tTest-logloss:0.68194\n",
      "[3]\tTest-logloss:0.67836\n",
      "[4]\tTest-logloss:0.67484\n",
      "[5]\tTest-logloss:0.67139\n",
      "[6]\tTest-logloss:0.66799\n",
      "[7]\tTest-logloss:0.66467\n",
      "[8]\tTest-logloss:0.66141\n",
      "[9]\tTest-logloss:0.65821\n",
      "[10]\tTest-logloss:0.65507\n",
      "[11]\tTest-logloss:0.65200\n",
      "[12]\tTest-logloss:0.64899\n",
      "[13]\tTest-logloss:0.64603\n",
      "[14]\tTest-logloss:0.64313\n",
      "[15]\tTest-logloss:0.64030\n",
      "[16]\tTest-logloss:0.63749\n",
      "[17]\tTest-logloss:0.63475\n",
      "[18]\tTest-logloss:0.63205\n",
      "[19]\tTest-logloss:0.62942\n",
      "[20]\tTest-logloss:0.62681\n",
      "[21]\tTest-logloss:0.62426\n",
      "[22]\tTest-logloss:0.62176\n",
      "[23]\tTest-logloss:0.61930\n",
      "[24]\tTest-logloss:0.61689\n",
      "[25]\tTest-logloss:0.61453\n",
      "[26]\tTest-logloss:0.61219\n",
      "[27]\tTest-logloss:0.60991\n",
      "[28]\tTest-logloss:0.60767\n",
      "[29]\tTest-logloss:0.60545\n",
      "[30]\tTest-logloss:0.60328\n",
      "[31]\tTest-logloss:0.60116\n",
      "[32]\tTest-logloss:0.59905\n",
      "[33]\tTest-logloss:0.59700\n",
      "[34]\tTest-logloss:0.59496\n",
      "[35]\tTest-logloss:0.59300\n",
      "[36]\tTest-logloss:0.59105\n",
      "[37]\tTest-logloss:0.58912\n",
      "[38]\tTest-logloss:0.58725\n",
      "[39]\tTest-logloss:0.58539\n",
      "[40]\tTest-logloss:0.58356\n",
      "[41]\tTest-logloss:0.58177\n",
      "[42]\tTest-logloss:0.58000\n",
      "[43]\tTest-logloss:0.57827\n",
      "[44]\tTest-logloss:0.57656\n",
      "[45]\tTest-logloss:0.57488\n",
      "[46]\tTest-logloss:0.57323\n",
      "[47]\tTest-logloss:0.57161\n",
      "[48]\tTest-logloss:0.57000\n",
      "[49]\tTest-logloss:0.56842\n",
      "[50]\tTest-logloss:0.56688\n",
      "[51]\tTest-logloss:0.56536\n",
      "[52]\tTest-logloss:0.56386\n",
      "[53]\tTest-logloss:0.56239\n",
      "[54]\tTest-logloss:0.56093\n",
      "[55]\tTest-logloss:0.55951\n",
      "[56]\tTest-logloss:0.55811\n",
      "[57]\tTest-logloss:0.55673\n",
      "[58]\tTest-logloss:0.55536\n",
      "[59]\tTest-logloss:0.55403\n",
      "[60]\tTest-logloss:0.55273\n",
      "[61]\tTest-logloss:0.55143\n",
      "[62]\tTest-logloss:0.55015\n",
      "[63]\tTest-logloss:0.54891\n",
      "[64]\tTest-logloss:0.54767\n",
      "[65]\tTest-logloss:0.54646\n",
      "[66]\tTest-logloss:0.54529\n",
      "[67]\tTest-logloss:0.54410\n",
      "[68]\tTest-logloss:0.54295\n",
      "[69]\tTest-logloss:0.54181\n",
      "[70]\tTest-logloss:0.54068\n",
      "[71]\tTest-logloss:0.53958\n",
      "[72]\tTest-logloss:0.53850\n",
      "[73]\tTest-logloss:0.53742\n",
      "[74]\tTest-logloss:0.53638\n",
      "[75]\tTest-logloss:0.53536\n",
      "[76]\tTest-logloss:0.53434\n",
      "[77]\tTest-logloss:0.53333\n",
      "[78]\tTest-logloss:0.53235\n",
      "[79]\tTest-logloss:0.53138\n",
      "[80]\tTest-logloss:0.53044\n",
      "[81]\tTest-logloss:0.52950\n",
      "[82]\tTest-logloss:0.52859\n",
      "[83]\tTest-logloss:0.52769\n",
      "[84]\tTest-logloss:0.52679\n",
      "[85]\tTest-logloss:0.52591\n",
      "[86]\tTest-logloss:0.52505\n",
      "[87]\tTest-logloss:0.52418\n",
      "[88]\tTest-logloss:0.52336\n",
      "[89]\tTest-logloss:0.52253\n",
      "[90]\tTest-logloss:0.52172\n",
      "[91]\tTest-logloss:0.52092\n",
      "[92]\tTest-logloss:0.52011\n",
      "[93]\tTest-logloss:0.51934\n",
      "[94]\tTest-logloss:0.51859\n",
      "[95]\tTest-logloss:0.51785\n",
      "[96]\tTest-logloss:0.51713\n",
      "[97]\tTest-logloss:0.51639\n",
      "[98]\tTest-logloss:0.51567\n",
      "[99]\tTest-logloss:0.51499\n",
      "[100]\tTest-logloss:0.51431\n",
      "[101]\tTest-logloss:0.51361\n",
      "[102]\tTest-logloss:0.51293\n",
      "[103]\tTest-logloss:0.51229\n",
      "[104]\tTest-logloss:0.51163\n",
      "[105]\tTest-logloss:0.51100\n",
      "[106]\tTest-logloss:0.51038\n",
      "[107]\tTest-logloss:0.50975\n",
      "[108]\tTest-logloss:0.50914\n",
      "[109]\tTest-logloss:0.50853\n",
      "[110]\tTest-logloss:0.50795\n",
      "[111]\tTest-logloss:0.50737\n",
      "[112]\tTest-logloss:0.50681\n",
      "[113]\tTest-logloss:0.50625\n",
      "[114]\tTest-logloss:0.50569\n",
      "[115]\tTest-logloss:0.50513\n",
      "[116]\tTest-logloss:0.50460\n",
      "[117]\tTest-logloss:0.50409\n",
      "[118]\tTest-logloss:0.50356\n",
      "[119]\tTest-logloss:0.50306\n",
      "[120]\tTest-logloss:0.50256\n",
      "[121]\tTest-logloss:0.50204\n",
      "[122]\tTest-logloss:0.50155\n",
      "[123]\tTest-logloss:0.50108\n",
      "[124]\tTest-logloss:0.50060\n",
      "[125]\tTest-logloss:0.50012\n",
      "[126]\tTest-logloss:0.49966\n",
      "[127]\tTest-logloss:0.49921\n",
      "[128]\tTest-logloss:0.49878\n",
      "[129]\tTest-logloss:0.49835\n",
      "[130]\tTest-logloss:0.49791\n",
      "[131]\tTest-logloss:0.49748\n",
      "[132]\tTest-logloss:0.49705\n",
      "[133]\tTest-logloss:0.49664\n",
      "[134]\tTest-logloss:0.49624\n",
      "[135]\tTest-logloss:0.49585\n",
      "[136]\tTest-logloss:0.49545\n",
      "[137]\tTest-logloss:0.49506\n",
      "[138]\tTest-logloss:0.49467\n",
      "[139]\tTest-logloss:0.49430\n",
      "[140]\tTest-logloss:0.49391\n",
      "[141]\tTest-logloss:0.49356\n",
      "[142]\tTest-logloss:0.49320\n",
      "[143]\tTest-logloss:0.49283\n",
      "[144]\tTest-logloss:0.49248\n",
      "[145]\tTest-logloss:0.49212\n",
      "[146]\tTest-logloss:0.49179\n",
      "[147]\tTest-logloss:0.49144\n",
      "[148]\tTest-logloss:0.49112\n",
      "[149]\tTest-logloss:0.49081\n",
      "[150]\tTest-logloss:0.49047\n",
      "[151]\tTest-logloss:0.49017\n",
      "[152]\tTest-logloss:0.48988\n",
      "[153]\tTest-logloss:0.48956\n",
      "[154]\tTest-logloss:0.48926\n",
      "[155]\tTest-logloss:0.48895\n",
      "[156]\tTest-logloss:0.48865\n",
      "[157]\tTest-logloss:0.48835\n",
      "[158]\tTest-logloss:0.48808\n",
      "[159]\tTest-logloss:0.48780\n",
      "[160]\tTest-logloss:0.48753\n",
      "[161]\tTest-logloss:0.48726\n",
      "[162]\tTest-logloss:0.48698\n",
      "[163]\tTest-logloss:0.48671\n",
      "[164]\tTest-logloss:0.48646\n",
      "[165]\tTest-logloss:0.48618\n",
      "[166]\tTest-logloss:0.48593\n",
      "[167]\tTest-logloss:0.48569\n",
      "[168]\tTest-logloss:0.48544\n",
      "[169]\tTest-logloss:0.48518\n",
      "[170]\tTest-logloss:0.48493\n",
      "[171]\tTest-logloss:0.48471\n",
      "[172]\tTest-logloss:0.48447\n",
      "[173]\tTest-logloss:0.48422\n",
      "[174]\tTest-logloss:0.48398\n",
      "[175]\tTest-logloss:0.48376\n",
      "[176]\tTest-logloss:0.48354\n",
      "[177]\tTest-logloss:0.48333\n",
      "[178]\tTest-logloss:0.48310\n",
      "[179]\tTest-logloss:0.48291\n",
      "[180]\tTest-logloss:0.48271\n",
      "[181]\tTest-logloss:0.48249\n",
      "[182]\tTest-logloss:0.48229\n",
      "[183]\tTest-logloss:0.48210\n",
      "[184]\tTest-logloss:0.48190\n",
      "[185]\tTest-logloss:0.48173\n",
      "[186]\tTest-logloss:0.48153\n",
      "[187]\tTest-logloss:0.48137\n",
      "[188]\tTest-logloss:0.48118\n",
      "[189]\tTest-logloss:0.48100\n",
      "[190]\tTest-logloss:0.48082\n",
      "[191]\tTest-logloss:0.48065\n",
      "[192]\tTest-logloss:0.48050\n",
      "[193]\tTest-logloss:0.48032\n",
      "[194]\tTest-logloss:0.48016\n",
      "[195]\tTest-logloss:0.48002\n",
      "[196]\tTest-logloss:0.47985\n",
      "[197]\tTest-logloss:0.47969\n",
      "[198]\tTest-logloss:0.47954\n",
      "[199]\tTest-logloss:0.47941\n",
      "[200]\tTest-logloss:0.47925\n",
      "[201]\tTest-logloss:0.47910\n",
      "[202]\tTest-logloss:0.47894\n",
      "[203]\tTest-logloss:0.47881\n",
      "[204]\tTest-logloss:0.47868\n",
      "[205]\tTest-logloss:0.47855\n",
      "[206]\tTest-logloss:0.47841\n",
      "[207]\tTest-logloss:0.47828\n",
      "[208]\tTest-logloss:0.47815\n",
      "[209]\tTest-logloss:0.47801\n",
      "[210]\tTest-logloss:0.47789\n",
      "[211]\tTest-logloss:0.47776\n",
      "[212]\tTest-logloss:0.47764\n",
      "[213]\tTest-logloss:0.47751\n",
      "[214]\tTest-logloss:0.47739\n",
      "[215]\tTest-logloss:0.47727\n",
      "[216]\tTest-logloss:0.47716\n",
      "[217]\tTest-logloss:0.47705\n",
      "[218]\tTest-logloss:0.47693\n",
      "[219]\tTest-logloss:0.47682\n",
      "[220]\tTest-logloss:0.47672\n",
      "[221]\tTest-logloss:0.47661\n",
      "[222]\tTest-logloss:0.47649\n",
      "[223]\tTest-logloss:0.47638\n",
      "[224]\tTest-logloss:0.47628\n",
      "[225]\tTest-logloss:0.47617\n",
      "[226]\tTest-logloss:0.47607\n",
      "[227]\tTest-logloss:0.47598\n",
      "[228]\tTest-logloss:0.47588\n",
      "[229]\tTest-logloss:0.47579\n",
      "[230]\tTest-logloss:0.47569\n",
      "[231]\tTest-logloss:0.47559\n",
      "[232]\tTest-logloss:0.47549\n",
      "[233]\tTest-logloss:0.47540\n",
      "[234]\tTest-logloss:0.47531\n",
      "[235]\tTest-logloss:0.47523\n",
      "[236]\tTest-logloss:0.47514\n",
      "[237]\tTest-logloss:0.47505\n",
      "[238]\tTest-logloss:0.47497\n",
      "[239]\tTest-logloss:0.47490\n",
      "[240]\tTest-logloss:0.47481\n",
      "[241]\tTest-logloss:0.47473\n",
      "[242]\tTest-logloss:0.47465\n",
      "[243]\tTest-logloss:0.47458\n",
      "[244]\tTest-logloss:0.47451\n",
      "[245]\tTest-logloss:0.47443\n",
      "[246]\tTest-logloss:0.47434\n",
      "[247]\tTest-logloss:0.47425\n",
      "[248]\tTest-logloss:0.47417\n",
      "[249]\tTest-logloss:0.47410\n",
      "[250]\tTest-logloss:0.47403\n",
      "[251]\tTest-logloss:0.47397\n",
      "[252]\tTest-logloss:0.47390\n",
      "[253]\tTest-logloss:0.47382\n",
      "[254]\tTest-logloss:0.47374\n",
      "[255]\tTest-logloss:0.47367\n",
      "[256]\tTest-logloss:0.47361\n",
      "[257]\tTest-logloss:0.47353\n",
      "[258]\tTest-logloss:0.47345\n",
      "[259]\tTest-logloss:0.47340\n",
      "[260]\tTest-logloss:0.47333\n",
      "[261]\tTest-logloss:0.47327\n",
      "[262]\tTest-logloss:0.47321\n",
      "[263]\tTest-logloss:0.47314\n",
      "[264]\tTest-logloss:0.47309\n",
      "[265]\tTest-logloss:0.47303\n",
      "[266]\tTest-logloss:0.47295\n",
      "[267]\tTest-logloss:0.47288\n",
      "[268]\tTest-logloss:0.47283\n",
      "[269]\tTest-logloss:0.47277\n",
      "[270]\tTest-logloss:0.47269\n",
      "[271]\tTest-logloss:0.47265\n",
      "[272]\tTest-logloss:0.47260\n",
      "[273]\tTest-logloss:0.47253\n",
      "[274]\tTest-logloss:0.47249\n",
      "[275]\tTest-logloss:0.47242\n",
      "[276]\tTest-logloss:0.47238\n",
      "[277]\tTest-logloss:0.47231\n",
      "[278]\tTest-logloss:0.47226\n",
      "[279]\tTest-logloss:0.47219\n",
      "[280]\tTest-logloss:0.47214\n",
      "[281]\tTest-logloss:0.47208\n",
      "[282]\tTest-logloss:0.47204\n",
      "[283]\tTest-logloss:0.47199\n",
      "[284]\tTest-logloss:0.47192\n",
      "[285]\tTest-logloss:0.47188\n",
      "[286]\tTest-logloss:0.47185\n",
      "[287]\tTest-logloss:0.47178\n",
      "[288]\tTest-logloss:0.47173\n",
      "[289]\tTest-logloss:0.47168\n",
      "[290]\tTest-logloss:0.47164\n",
      "[291]\tTest-logloss:0.47160\n",
      "[292]\tTest-logloss:0.47153\n",
      "[293]\tTest-logloss:0.47150\n",
      "[294]\tTest-logloss:0.47146\n",
      "[295]\tTest-logloss:0.47143\n",
      "[296]\tTest-logloss:0.47139\n",
      "[297]\tTest-logloss:0.47137\n",
      "[298]\tTest-logloss:0.47132\n",
      "[299]\tTest-logloss:0.47129\n",
      "[300]\tTest-logloss:0.47122\n",
      "[301]\tTest-logloss:0.47119\n",
      "[302]\tTest-logloss:0.47115\n",
      "[303]\tTest-logloss:0.47112\n",
      "[304]\tTest-logloss:0.47110\n",
      "[305]\tTest-logloss:0.47105\n",
      "[306]\tTest-logloss:0.47103\n",
      "[307]\tTest-logloss:0.47100\n",
      "[308]\tTest-logloss:0.47097\n",
      "[309]\tTest-logloss:0.47094\n",
      "[310]\tTest-logloss:0.47091\n",
      "[311]\tTest-logloss:0.47087\n",
      "[312]\tTest-logloss:0.47085\n",
      "[313]\tTest-logloss:0.47082\n",
      "[314]\tTest-logloss:0.47078\n",
      "[315]\tTest-logloss:0.47076\n",
      "[316]\tTest-logloss:0.47072\n",
      "[317]\tTest-logloss:0.47069\n",
      "[318]\tTest-logloss:0.47065\n",
      "[319]\tTest-logloss:0.47063\n",
      "[320]\tTest-logloss:0.47059\n",
      "[321]\tTest-logloss:0.47057\n",
      "[322]\tTest-logloss:0.47054\n",
      "[323]\tTest-logloss:0.47051\n",
      "[324]\tTest-logloss:0.47048\n",
      "[325]\tTest-logloss:0.47044\n",
      "[326]\tTest-logloss:0.47043\n",
      "[327]\tTest-logloss:0.47037\n",
      "[328]\tTest-logloss:0.47032\n",
      "[329]\tTest-logloss:0.47030\n",
      "[330]\tTest-logloss:0.47026\n",
      "[331]\tTest-logloss:0.47023\n",
      "[332]\tTest-logloss:0.47017\n",
      "[333]\tTest-logloss:0.47015\n",
      "[334]\tTest-logloss:0.47013\n",
      "[335]\tTest-logloss:0.47009\n",
      "[336]\tTest-logloss:0.47006\n",
      "[337]\tTest-logloss:0.47004\n",
      "[338]\tTest-logloss:0.47003\n",
      "[339]\tTest-logloss:0.46998\n",
      "[340]\tTest-logloss:0.46993\n",
      "[341]\tTest-logloss:0.46991\n",
      "[342]\tTest-logloss:0.46988\n",
      "[343]\tTest-logloss:0.46983\n",
      "[344]\tTest-logloss:0.46982\n",
      "[345]\tTest-logloss:0.46977\n",
      "[346]\tTest-logloss:0.46976\n",
      "[347]\tTest-logloss:0.46970\n",
      "[348]\tTest-logloss:0.46969\n",
      "[349]\tTest-logloss:0.46968\n",
      "[350]\tTest-logloss:0.46964\n",
      "[351]\tTest-logloss:0.46961\n",
      "[352]\tTest-logloss:0.46961\n",
      "[353]\tTest-logloss:0.46958\n",
      "[354]\tTest-logloss:0.46957\n",
      "[355]\tTest-logloss:0.46954\n",
      "[356]\tTest-logloss:0.46950\n",
      "[357]\tTest-logloss:0.46948\n",
      "[358]\tTest-logloss:0.46947\n",
      "[359]\tTest-logloss:0.46944\n",
      "[360]\tTest-logloss:0.46942\n",
      "[361]\tTest-logloss:0.46941\n",
      "[362]\tTest-logloss:0.46937\n",
      "[363]\tTest-logloss:0.46935\n",
      "[364]\tTest-logloss:0.46933\n",
      "[365]\tTest-logloss:0.46929\n",
      "[366]\tTest-logloss:0.46927\n",
      "[367]\tTest-logloss:0.46926\n",
      "[368]\tTest-logloss:0.46923\n",
      "[369]\tTest-logloss:0.46922\n",
      "[370]\tTest-logloss:0.46919\n",
      "[371]\tTest-logloss:0.46917\n",
      "[372]\tTest-logloss:0.46918\n",
      "[373]\tTest-logloss:0.46916\n",
      "[374]\tTest-logloss:0.46913\n",
      "[375]\tTest-logloss:0.46911\n",
      "[376]\tTest-logloss:0.46909\n",
      "[377]\tTest-logloss:0.46908\n",
      "[378]\tTest-logloss:0.46906\n",
      "[379]\tTest-logloss:0.46904\n",
      "[380]\tTest-logloss:0.46902\n",
      "[381]\tTest-logloss:0.46900\n",
      "[382]\tTest-logloss:0.46897\n",
      "[383]\tTest-logloss:0.46897\n",
      "[384]\tTest-logloss:0.46896\n",
      "[385]\tTest-logloss:0.46896\n",
      "[386]\tTest-logloss:0.46893\n",
      "[387]\tTest-logloss:0.46892\n",
      "[388]\tTest-logloss:0.46891\n",
      "[389]\tTest-logloss:0.46890\n",
      "[390]\tTest-logloss:0.46888\n",
      "[391]\tTest-logloss:0.46887\n",
      "[392]\tTest-logloss:0.46885\n",
      "[393]\tTest-logloss:0.46885\n",
      "[394]\tTest-logloss:0.46883\n",
      "[395]\tTest-logloss:0.46881\n",
      "[396]\tTest-logloss:0.46878\n",
      "[397]\tTest-logloss:0.46875\n",
      "[398]\tTest-logloss:0.46873\n",
      "[399]\tTest-logloss:0.46871\n",
      "[400]\tTest-logloss:0.46868\n",
      "[401]\tTest-logloss:0.46868\n",
      "[402]\tTest-logloss:0.46867\n",
      "[403]\tTest-logloss:0.46867\n",
      "[404]\tTest-logloss:0.46866\n",
      "[405]\tTest-logloss:0.46864\n",
      "[406]\tTest-logloss:0.46864\n",
      "[407]\tTest-logloss:0.46864\n",
      "[408]\tTest-logloss:0.46863\n",
      "[409]\tTest-logloss:0.46862\n",
      "[410]\tTest-logloss:0.46862\n",
      "[411]\tTest-logloss:0.46859\n",
      "[412]\tTest-logloss:0.46860\n",
      "[413]\tTest-logloss:0.46859\n",
      "[414]\tTest-logloss:0.46858\n",
      "[415]\tTest-logloss:0.46856\n",
      "[416]\tTest-logloss:0.46855\n",
      "[417]\tTest-logloss:0.46852\n",
      "[418]\tTest-logloss:0.46850\n",
      "[419]\tTest-logloss:0.46850\n",
      "[420]\tTest-logloss:0.46849\n",
      "[421]\tTest-logloss:0.46847\n",
      "[422]\tTest-logloss:0.46845\n",
      "[423]\tTest-logloss:0.46844\n",
      "[424]\tTest-logloss:0.46843\n",
      "[425]\tTest-logloss:0.46841\n",
      "[426]\tTest-logloss:0.46841\n",
      "[427]\tTest-logloss:0.46839\n",
      "[428]\tTest-logloss:0.46838\n",
      "[429]\tTest-logloss:0.46835\n",
      "[430]\tTest-logloss:0.46834\n",
      "[431]\tTest-logloss:0.46834\n",
      "[432]\tTest-logloss:0.46833\n",
      "[433]\tTest-logloss:0.46831\n",
      "[434]\tTest-logloss:0.46830\n",
      "[435]\tTest-logloss:0.46830\n",
      "[436]\tTest-logloss:0.46828\n",
      "[437]\tTest-logloss:0.46828\n",
      "[438]\tTest-logloss:0.46826\n",
      "[439]\tTest-logloss:0.46825\n",
      "[440]\tTest-logloss:0.46824\n",
      "[441]\tTest-logloss:0.46824\n",
      "[442]\tTest-logloss:0.46824\n",
      "[443]\tTest-logloss:0.46820\n",
      "[444]\tTest-logloss:0.46818\n",
      "[445]\tTest-logloss:0.46817\n",
      "[446]\tTest-logloss:0.46815\n",
      "[447]\tTest-logloss:0.46812\n",
      "[448]\tTest-logloss:0.46808\n",
      "[449]\tTest-logloss:0.46807\n",
      "[450]\tTest-logloss:0.46806\n",
      "[451]\tTest-logloss:0.46807\n",
      "[452]\tTest-logloss:0.46804\n",
      "[453]\tTest-logloss:0.46803\n",
      "[454]\tTest-logloss:0.46802\n",
      "[455]\tTest-logloss:0.46802\n",
      "[456]\tTest-logloss:0.46803\n",
      "[457]\tTest-logloss:0.46800\n",
      "[458]\tTest-logloss:0.46800\n",
      "[459]\tTest-logloss:0.46800\n",
      "[460]\tTest-logloss:0.46799\n",
      "[461]\tTest-logloss:0.46799\n",
      "[462]\tTest-logloss:0.46800\n",
      "[463]\tTest-logloss:0.46799\n",
      "[464]\tTest-logloss:0.46796\n",
      "[465]\tTest-logloss:0.46794\n",
      "[466]\tTest-logloss:0.46794\n",
      "[467]\tTest-logloss:0.46792\n",
      "[468]\tTest-logloss:0.46791\n",
      "[469]\tTest-logloss:0.46791\n",
      "[470]\tTest-logloss:0.46788\n",
      "[471]\tTest-logloss:0.46787\n",
      "[472]\tTest-logloss:0.46788\n",
      "[473]\tTest-logloss:0.46788\n",
      "[474]\tTest-logloss:0.46787\n",
      "[475]\tTest-logloss:0.46787\n",
      "[476]\tTest-logloss:0.46784\n",
      "[477]\tTest-logloss:0.46783\n",
      "[478]\tTest-logloss:0.46783\n",
      "[479]\tTest-logloss:0.46782\n",
      "[480]\tTest-logloss:0.46781\n",
      "[481]\tTest-logloss:0.46780\n",
      "[482]\tTest-logloss:0.46779\n",
      "[483]\tTest-logloss:0.46779\n",
      "[484]\tTest-logloss:0.46779\n",
      "[485]\tTest-logloss:0.46780\n",
      "[486]\tTest-logloss:0.46780\n",
      "[487]\tTest-logloss:0.46779\n",
      "[488]\tTest-logloss:0.46777\n",
      "[489]\tTest-logloss:0.46775\n",
      "[490]\tTest-logloss:0.46776\n",
      "[491]\tTest-logloss:0.46776\n",
      "[492]\tTest-logloss:0.46776\n",
      "[493]\tTest-logloss:0.46775\n",
      "[494]\tTest-logloss:0.46775\n",
      "[495]\tTest-logloss:0.46773\n",
      "[496]\tTest-logloss:0.46774\n",
      "[497]\tTest-logloss:0.46774\n",
      "[498]\tTest-logloss:0.46772\n",
      "[499]\tTest-logloss:0.46769\n",
      "[500]\tTest-logloss:0.46768\n",
      "[501]\tTest-logloss:0.46767\n",
      "[502]\tTest-logloss:0.46765\n",
      "[503]\tTest-logloss:0.46765\n",
      "[504]\tTest-logloss:0.46765\n",
      "[505]\tTest-logloss:0.46765\n",
      "[506]\tTest-logloss:0.46764\n",
      "[507]\tTest-logloss:0.46761\n",
      "[508]\tTest-logloss:0.46761\n",
      "[509]\tTest-logloss:0.46761\n",
      "[510]\tTest-logloss:0.46761\n",
      "[511]\tTest-logloss:0.46761\n",
      "[512]\tTest-logloss:0.46762\n",
      "[513]\tTest-logloss:0.46761\n",
      "[514]\tTest-logloss:0.46762\n",
      "[515]\tTest-logloss:0.46762\n",
      "[516]\tTest-logloss:0.46761\n",
      "[517]\tTest-logloss:0.46761\n",
      "[518]\tTest-logloss:0.46759\n",
      "[519]\tTest-logloss:0.46759\n",
      "[520]\tTest-logloss:0.46758\n",
      "[521]\tTest-logloss:0.46758\n",
      "[522]\tTest-logloss:0.46758\n",
      "[523]\tTest-logloss:0.46756\n",
      "[524]\tTest-logloss:0.46756\n",
      "[525]\tTest-logloss:0.46757\n",
      "[526]\tTest-logloss:0.46757\n",
      "[527]\tTest-logloss:0.46757\n",
      "[528]\tTest-logloss:0.46756\n",
      "[529]\tTest-logloss:0.46757\n",
      "[530]\tTest-logloss:0.46756\n",
      "[531]\tTest-logloss:0.46757\n",
      "[532]\tTest-logloss:0.46755\n",
      "[533]\tTest-logloss:0.46755\n",
      "[534]\tTest-logloss:0.46828\n",
      "[535]\tTest-logloss:0.46827\n",
      "[536]\tTest-logloss:0.46827\n",
      "[537]\tTest-logloss:0.46827\n",
      "[538]\tTest-logloss:0.46826\n",
      "[539]\tTest-logloss:0.46825\n",
      "[540]\tTest-logloss:0.46828\n",
      "[541]\tTest-logloss:0.46827\n",
      "Best Log Loss: 0.47 in 533 rounds\n",
      "Best Accuracy: 0.78\n"
     ]
    }
   ],
   "source": [
    "model = xgb.train(\n",
    "    params,\n",
    "    dtrain,\n",
    "    num_boost_round=num_boost_round,\n",
    "    evals=[(dtest, \"Test\")],\n",
    "    early_stopping_rounds=10\n",
    ")\n",
    "\n",
    "cv_results = xgb.cv(\n",
    "    params,\n",
    "    dtrain,\n",
    "    num_boost_round=num_boost_round,\n",
    "    seed=42,\n",
    "    nfold=5,\n",
    "    metrics={'logloss','error'},\n",
    "    early_stopping_rounds=10\n",
    ")\n",
    "\n",
    "print(\"Best Log Loss: {:.2f} in {} rounds\".format(model.best_score, model.best_iteration+1))\n",
    "print(\"Best Accuracy: {:.2f}\".format(1-cv_results['test-error-mean'].min()))\n"
   ]
  },
  {
   "cell_type": "code",
   "execution_count": 60,
   "metadata": {},
   "outputs": [],
   "source": [
    "d1 = model.get_score(importance_type='gain')\n",
    "l1 = list(d1.items())"
   ]
  },
  {
   "cell_type": "code",
   "execution_count": 66,
   "metadata": {},
   "outputs": [
    {
     "name": "stdout",
     "output_type": "stream",
     "text": [
      "Variable: v50                  Importance: 8038\n",
      "Variable: v21                  Importance: 3342\n",
      "Variable: v22                  Importance: 3336\n",
      "Variable: v34                  Importance: 3138\n",
      "Variable: v10                  Importance: 3103\n",
      "Variable: v14                  Importance: 2767\n",
      "Variable: v12                  Importance: 2719\n",
      "Variable: v40                  Importance: 2701\n",
      "Variable: v66                  Importance: 2432\n",
      "Variable: v125                 Importance: 2107\n",
      "Variable: v56                  Importance: 2068\n",
      "Variable: v114                 Importance: 1818\n",
      "Variable: v113                 Importance: 1532\n",
      "Variable: v24                  Importance: 1498\n",
      "Variable: v47                  Importance: 1456\n",
      "Variable: v52                  Importance: 1416\n",
      "Variable: v23                  Importance: 1416\n",
      "Variable: v6                   Importance: 1386\n",
      "Variable: v99                  Importance: 1318\n",
      "Variable: v112                 Importance: 1285\n",
      "Variable: v88                  Importance: 1208\n",
      "Variable: v120                 Importance: 1136\n",
      "Variable: v57                  Importance: 1119\n",
      "Variable: v102                 Importance: 1116\n",
      "Variable: v39                  Importance: 1101\n",
      "Variable: v1                   Importance: 1042\n",
      "Variable: v9                   Importance: 1039\n",
      "Variable: v79                  Importance: 1037\n",
      "Variable: v124                 Importance: 1035\n",
      "Variable: v69                  Importance: 1030\n",
      "Variable: v127                 Importance: 1021\n",
      "Variable: v119                 Importance: 1021\n",
      "Variable: v78                  Importance: 1017\n",
      "Variable: v82                  Importance: 1003\n",
      "Variable: v45                  Importance: 990\n",
      "Variable: v97                  Importance: 985\n",
      "Variable: v2                   Importance: 977\n",
      "Variable: v37                  Importance: 950\n",
      "Variable: v16                  Importance: 949\n",
      "Variable: v68                  Importance: 932\n",
      "Variable: v18                  Importance: 930\n",
      "Variable: v85                  Importance: 909\n",
      "Variable: v131                 Importance: 907\n",
      "Variable: v35                  Importance: 890\n",
      "Variable: v58                  Importance: 884\n",
      "Variable: v28                  Importance: 882\n",
      "Variable: v90                  Importance: 878\n",
      "Variable: v122                 Importance: 870\n",
      "Variable: v42                  Importance: 868\n",
      "Variable: v117                 Importance: 860\n",
      "Variable: v19                  Importance: 845\n",
      "Variable: v80                  Importance: 820\n",
      "Variable: v36                  Importance: 817\n",
      "Variable: v4                   Importance: 789\n",
      "Variable: v11                  Importance: 777\n",
      "Variable: v5                   Importance: 771\n",
      "Variable: v126                 Importance: 771\n",
      "Variable: v98                  Importance: 765\n",
      "Variable: v20                  Importance: 744\n",
      "Variable: v44                  Importance: 736\n",
      "Variable: v27                  Importance: 733\n",
      "Variable: v13                  Importance: 718\n",
      "Variable: v111                 Importance: 718\n",
      "Variable: v59                  Importance: 712\n",
      "Variable: v15                  Importance: 704\n",
      "Variable: v7                   Importance: 702\n",
      "Variable: v87                  Importance: 702\n",
      "Variable: v107                 Importance: 698\n",
      "Variable: v54                  Importance: 691\n",
      "Variable: v103                 Importance: 688\n",
      "Variable: v100                 Importance: 672\n",
      "Variable: v118                 Importance: 665\n",
      "Variable: v51                  Importance: 658\n",
      "Variable: v104                 Importance: 657\n",
      "Variable: v86                  Importance: 657\n",
      "Variable: v94                  Importance: 656\n",
      "Variable: v70                  Importance: 653\n",
      "Variable: v32                  Importance: 652\n",
      "Variable: v91                  Importance: 651\n",
      "Variable: v84                  Importance: 646\n",
      "Variable: v26                  Importance: 645\n",
      "Variable: v53                  Importance: 639\n",
      "Variable: v60                  Importance: 636\n",
      "Variable: v116                 Importance: 627\n",
      "Variable: v43                  Importance: 623\n",
      "Variable: v61                  Importance: 615\n",
      "Variable: v130                 Importance: 608\n",
      "Variable: v101                 Importance: 605\n",
      "Variable: v81                  Importance: 604\n",
      "Variable: v89                  Importance: 589\n",
      "Variable: v123                 Importance: 586\n",
      "Variable: v73                  Importance: 583\n",
      "Variable: v8                   Importance: 579\n",
      "Variable: v25                  Importance: 578\n",
      "Variable: v31                  Importance: 567\n",
      "Variable: v109                 Importance: 566\n",
      "Variable: v95                  Importance: 560\n",
      "Variable: v108                 Importance: 545\n",
      "Variable: v29                  Importance: 539\n",
      "Variable: v49                  Importance: 537\n",
      "Variable: v33                  Importance: 535\n",
      "Variable: v93                  Importance: 528\n",
      "Variable: v92                  Importance: 523\n",
      "Variable: v83                  Importance: 517\n",
      "Variable: v65                  Importance: 516\n",
      "Variable: v115                 Importance: 514\n",
      "Variable: v55                  Importance: 511\n",
      "Variable: v77                  Importance: 510\n",
      "Variable: v105                 Importance: 495\n",
      "Variable: v46                  Importance: 483\n",
      "Variable: v67                  Importance: 480\n",
      "Variable: v71                  Importance: 453\n",
      "Variable: v121                 Importance: 449\n",
      "Variable: v62                  Importance: 439\n",
      "Variable: v63                  Importance: 426\n",
      "Variable: v41                  Importance: 425\n",
      "Variable: v72                  Importance: 413\n",
      "Variable: v17                  Importance: 403\n",
      "Variable: v128                 Importance: 367\n",
      "Variable: v129                 Importance: 351\n",
      "Variable: v48                  Importance: 326\n",
      "Variable: v96                  Importance: 296\n",
      "Variable: v30                  Importance: 289\n",
      "Variable: v106                 Importance: 219\n",
      "Variable: v38                  Importance: 206\n",
      "Variable: v76                  Importance: 180\n",
      "Variable: v64                  Importance: 180\n",
      "Variable: v74                  Importance: 144\n",
      "Variable: v110                 Importance: 36\n",
      "Variable: v75                  Importance: 27\n"
     ]
    }
   ],
   "source": [
    "# List of tuples with variable and importance\n",
    "feature_importances = list(model.get_score(importance_type='weight').items())\n",
    "\n",
    "# Sort the feature importances by most important first\n",
    "feature_importances = sorted(feature_importances, key = lambda x: x[1], reverse = True)\n",
    "\n",
    "# Print out the feature and importances \n",
    "[print('Variable: {:20} Importance: {}'.format(*pair)) for pair in feature_importances];"
   ]
  },
  {
   "cell_type": "code",
   "execution_count": 65,
   "metadata": {},
   "outputs": [
    {
     "data": {
      "image/png": "[encoded data removed]",
      "text/plain": [
       "<Figure size 432x288 with 1 Axes>"
      ]
     },
     "metadata": {
      "needs_background": "light"
     },
     "output_type": "display_data"
    }
   ],
   "source": [
    "import matplotlib.pyplot as plt\n",
    "\n",
    "# List of features sorted from most to least important\n",
    "sorted_importances = [importance[1] for importance in feature_importances]\n",
    "sorted_features = [importance[0] for importance in feature_importances]\n",
    "\n",
    "# Cumulative importances\n",
    "cumulative_importances = np.cumsum(sorted_importances)\n",
    "\n",
    "# list of x locations for plotting\n",
    "x_values = list(range(len(feature_importances)))\n",
    "\n",
    "# Make a line graph\n",
    "plt.plot(x_values, cumulative_importances, 'g-')\n",
    "\n",
    "# Draw line at 95% of importance retained\n",
    "plt.hlines(y = 0.95, xmin=0, xmax=len(sorted_importances), color = 'r', linestyles = 'dashed')\n",
    "\n",
    "# Format x ticks and labels\n",
    "plt.xticks(x_values, sorted_features, rotation = 'vertical')\n",
    "\n",
    "# Axis labels and title\n",
    "plt.xlabel('Variable'); plt.ylabel('Cumulative Importance'); plt.title('Cumulative Importances');"
   ]
  },
  {
   "cell_type": "code",
   "execution_count": 75,
   "metadata": {},
   "outputs": [
    {
     "ename": "SyntaxError",
     "evalue": "unexpected EOF while parsing (<ipython-input-75-29cddb0ced68>, line 3)",
     "output_type": "error",
     "traceback": [
      "\u001b[1;36m  File \u001b[1;32m\"<ipython-input-75-29cddb0ced68>\"\u001b[1;36m, line \u001b[1;32m3\u001b[0m\n\u001b[1;33m    print('Number of features for 95% importance:', np.where(((sum(range(sorted_importances))/cumulative_importances) > 0.95)[0][0] + 1)\u001b[0m\n\u001b[1;37m                                                                                                                                        ^\u001b[0m\n\u001b[1;31mSyntaxError\u001b[0m\u001b[1;31m:\u001b[0m unexpected EOF while parsing\n"
     ]
    }
   ],
   "source": [
    "# Find number of features for cumulative importance of 95%\n",
    "# Add 1 because Python is zero-indexed\n",
    "print('Number of features for 95% importance:', np.where(((sum(range(sorted_importances))/cumulative_importances) > 0.95)[0][0] + 1)"
   ]
  },
  {
   "cell_type": "markdown",
   "metadata": {},
   "source": [
    "## RANDOM FOREST"
   ]
  },
  {
   "cell_type": "code",
   "execution_count": 8,
   "metadata": {},
   "outputs": [],
   "source": [
    "# Convert to numpy arrays\n",
    "import numpy as np\n",
    "\n",
    "original_features = np.array(train)\n",
    "original_labels = np.array(target)\n",
    "\n",
    "# Training and Testing Sets\n",
    "from sklearn.model_selection import train_test_split\n",
    "\n",
    "original_train_features, original_test_features, original_train_labels, original_test_labels = train_test_split(original_features, original_labels, \n",
    "                                                                            test_size = 0.33, random_state = 42)"
   ]
  },
  {
   "cell_type": "code",
   "execution_count": 10,
   "metadata": {},
   "outputs": [
    {
     "name": "stdout",
     "output_type": "stream",
     "text": [
      "Average log loss: 7.61 .\n",
      "Average accuracy: 0.78 .\n"
     ]
    }
   ],
   "source": [
    "from sklearn.metrics import classification_report, confusion_matrix, accuracy_score, log_loss\n",
    "feature_list = list(train.columns)\n",
    "\n",
    "# Import the model we are using\n",
    "from sklearn.ensemble import RandomForestClassifier\n",
    "\n",
    "# Instantiate model \n",
    "rf = RandomForestClassifier()\n",
    "\n",
    "# Train the model on training data\n",
    "rf.fit(original_train_features, original_train_labels);\n",
    "\n",
    "# Use the forest's predict method on the test data\n",
    "predictions = rf.predict(original_test_features)\n",
    "\n",
    "#Get Log Loss and Accuracy\n",
    "score = log_loss(original_test_labels, predictions)\n",
    "acc = accuracy_score(original_test_labels, predictions)\n",
    "# Print out the mean absolute error (mae)\n",
    "print('Average log loss:', round(np.mean(score), 2),'.')\n",
    "print('Average accuracy:', round(np.mean(acc), 2),'.')"
   ]
  },
  {
   "cell_type": "code",
   "execution_count": 11,
   "metadata": {},
   "outputs": [
    {
     "name": "stdout",
     "output_type": "stream",
     "text": [
      "Variable: v50                  Importance: 0.08\n",
      "Variable: v12                  Importance: 0.04\n",
      "Variable: v10                  Importance: 0.03\n",
      "Variable: v14                  Importance: 0.03\n",
      "Variable: v21                  Importance: 0.03\n",
      "Variable: v22                  Importance: 0.03\n",
      "Variable: v34                  Importance: 0.03\n",
      "Variable: v40                  Importance: 0.03\n",
      "Variable: v114                 Importance: 0.03\n",
      "Variable: v52                  Importance: 0.02\n",
      "Variable: v56                  Importance: 0.02\n",
      "Variable: v66                  Importance: 0.02\n",
      "Variable: v112                 Importance: 0.02\n",
      "Variable: v125                 Importance: 0.02\n",
      "Variable: v1                   Importance: 0.01\n",
      "Variable: v5                   Importance: 0.01\n",
      "Variable: v6                   Importance: 0.01\n",
      "Variable: v24                  Importance: 0.01\n",
      "Variable: v28                  Importance: 0.01\n",
      "Variable: v31                  Importance: 0.01\n",
      "Variable: v36                  Importance: 0.01\n",
      "Variable: v47                  Importance: 0.01\n",
      "Variable: v54                  Importance: 0.01\n",
      "Variable: v62                  Importance: 0.01\n",
      "Variable: v68                  Importance: 0.01\n",
      "Variable: v70                  Importance: 0.01\n",
      "Variable: v71                  Importance: 0.01\n",
      "Variable: v72                  Importance: 0.01\n",
      "Variable: v79                  Importance: 0.01\n",
      "Variable: v82                  Importance: 0.01\n",
      "Variable: v88                  Importance: 0.01\n",
      "Variable: v91                  Importance: 0.01\n",
      "Variable: v98                  Importance: 0.01\n",
      "Variable: v99                  Importance: 0.01\n",
      "Variable: v107                 Importance: 0.01\n",
      "Variable: v110                 Importance: 0.01\n",
      "Variable: v113                 Importance: 0.01\n",
      "Variable: v117                 Importance: 0.01\n",
      "Variable: v120                 Importance: 0.01\n",
      "Variable: v124                 Importance: 0.01\n",
      "Variable: v129                 Importance: 0.01\n",
      "Variable: v2                   Importance: 0.0\n",
      "Variable: v3                   Importance: 0.0\n",
      "Variable: v4                   Importance: 0.0\n",
      "Variable: v7                   Importance: 0.0\n",
      "Variable: v8                   Importance: 0.0\n",
      "Variable: v9                   Importance: 0.0\n",
      "Variable: v11                  Importance: 0.0\n",
      "Variable: v13                  Importance: 0.0\n",
      "Variable: v15                  Importance: 0.0\n",
      "Variable: v16                  Importance: 0.0\n",
      "Variable: v17                  Importance: 0.0\n",
      "Variable: v18                  Importance: 0.0\n",
      "Variable: v19                  Importance: 0.0\n",
      "Variable: v20                  Importance: 0.0\n",
      "Variable: v23                  Importance: 0.0\n",
      "Variable: v25                  Importance: 0.0\n",
      "Variable: v26                  Importance: 0.0\n",
      "Variable: v27                  Importance: 0.0\n",
      "Variable: v29                  Importance: 0.0\n",
      "Variable: v30                  Importance: 0.0\n",
      "Variable: v32                  Importance: 0.0\n",
      "Variable: v33                  Importance: 0.0\n",
      "Variable: v35                  Importance: 0.0\n",
      "Variable: v37                  Importance: 0.0\n",
      "Variable: v38                  Importance: 0.0\n",
      "Variable: v39                  Importance: 0.0\n",
      "Variable: v41                  Importance: 0.0\n",
      "Variable: v42                  Importance: 0.0\n",
      "Variable: v43                  Importance: 0.0\n",
      "Variable: v44                  Importance: 0.0\n",
      "Variable: v45                  Importance: 0.0\n",
      "Variable: v46                  Importance: 0.0\n",
      "Variable: v48                  Importance: 0.0\n",
      "Variable: v49                  Importance: 0.0\n",
      "Variable: v51                  Importance: 0.0\n",
      "Variable: v53                  Importance: 0.0\n",
      "Variable: v55                  Importance: 0.0\n",
      "Variable: v57                  Importance: 0.0\n",
      "Variable: v58                  Importance: 0.0\n",
      "Variable: v59                  Importance: 0.0\n",
      "Variable: v60                  Importance: 0.0\n",
      "Variable: v61                  Importance: 0.0\n",
      "Variable: v63                  Importance: 0.0\n",
      "Variable: v64                  Importance: 0.0\n",
      "Variable: v65                  Importance: 0.0\n",
      "Variable: v67                  Importance: 0.0\n",
      "Variable: v69                  Importance: 0.0\n",
      "Variable: v73                  Importance: 0.0\n",
      "Variable: v74                  Importance: 0.0\n",
      "Variable: v75                  Importance: 0.0\n",
      "Variable: v76                  Importance: 0.0\n",
      "Variable: v77                  Importance: 0.0\n",
      "Variable: v78                  Importance: 0.0\n",
      "Variable: v80                  Importance: 0.0\n",
      "Variable: v81                  Importance: 0.0\n",
      "Variable: v83                  Importance: 0.0\n",
      "Variable: v84                  Importance: 0.0\n",
      "Variable: v85                  Importance: 0.0\n",
      "Variable: v86                  Importance: 0.0\n",
      "Variable: v87                  Importance: 0.0\n",
      "Variable: v89                  Importance: 0.0\n",
      "Variable: v90                  Importance: 0.0\n",
      "Variable: v92                  Importance: 0.0\n",
      "Variable: v93                  Importance: 0.0\n",
      "Variable: v94                  Importance: 0.0\n",
      "Variable: v95                  Importance: 0.0\n",
      "Variable: v96                  Importance: 0.0\n",
      "Variable: v97                  Importance: 0.0\n",
      "Variable: v100                 Importance: 0.0\n",
      "Variable: v101                 Importance: 0.0\n",
      "Variable: v102                 Importance: 0.0\n",
      "Variable: v103                 Importance: 0.0\n",
      "Variable: v104                 Importance: 0.0\n",
      "Variable: v105                 Importance: 0.0\n",
      "Variable: v106                 Importance: 0.0\n",
      "Variable: v108                 Importance: 0.0\n",
      "Variable: v109                 Importance: 0.0\n",
      "Variable: v111                 Importance: 0.0\n",
      "Variable: v115                 Importance: 0.0\n",
      "Variable: v116                 Importance: 0.0\n",
      "Variable: v118                 Importance: 0.0\n",
      "Variable: v119                 Importance: 0.0\n",
      "Variable: v121                 Importance: 0.0\n",
      "Variable: v122                 Importance: 0.0\n",
      "Variable: v123                 Importance: 0.0\n",
      "Variable: v126                 Importance: 0.0\n",
      "Variable: v127                 Importance: 0.0\n",
      "Variable: v128                 Importance: 0.0\n",
      "Variable: v130                 Importance: 0.0\n",
      "Variable: v131                 Importance: 0.0\n"
     ]
    }
   ],
   "source": [
    "# Get numerical feature importances\n",
    "importances = list(rf.feature_importances_)\n",
    "\n",
    "# List of tuples with variable and importance\n",
    "feature_importances = [(feature, round(importance, 2)) for feature, importance in zip(feature_list, importances)]\n",
    "\n",
    "# Sort the feature importances by most important first\n",
    "feature_importances = sorted(feature_importances, key = lambda x: x[1], reverse = True)\n",
    "\n",
    "# Print out the feature and importances \n",
    "[print('Variable: {:20} Importance: {}'.format(*pair)) for pair in feature_importances];"
   ]
  },
  {
   "cell_type": "code",
   "execution_count": 13,
   "metadata": {},
   "outputs": [
    {
     "data": {
      "image/png": "[encoded data removed]",
      "text/plain": [
       "<Figure size 432x288 with 1 Axes>"
      ]
     },
     "metadata": {},
     "output_type": "display_data"
    }
   ],
   "source": [
    "import matplotlib.pyplot as plt\n",
    "\n",
    "# Reset style \n",
    "plt.style.use('fivethirtyeight')\n",
    "\n",
    "# list of x locations for plotting\n",
    "x_values = list(range(len(importances)))\n",
    "\n",
    "# List of features sorted from most to least important\n",
    "sorted_importances = [importance[1] for importance in feature_importances]\n",
    "sorted_features = [importance[0] for importance in feature_importances]\n",
    "\n",
    "# Cumulative importances\n",
    "cumulative_importances = np.cumsum(sorted_importances)\n",
    "\n",
    "# Make a line graph\n",
    "plt.plot(x_values, cumulative_importances, 'g-')\n",
    "\n",
    "# Draw line at 95% of importance retained\n",
    "plt.hlines(y = 0.66, xmin=0, xmax=len(sorted_importances), color = 'r', linestyles = 'dashed')\n",
    "\n",
    "# Format x ticks and labels\n",
    "plt.xticks(x_values, sorted_features, rotation = 'vertical')\n",
    "\n",
    "# Axis labels and title\n",
    "plt.xlabel('Variable'); plt.ylabel('Cumulative Importance'); plt.title('Cumulative Importances');"
   ]
  },
  {
   "cell_type": "code",
   "execution_count": 14,
   "metadata": {},
   "outputs": [
    {
     "name": "stdout",
     "output_type": "stream",
     "text": [
      "Number of features for max importance: 37\n"
     ]
    }
   ],
   "source": [
    "# Find number of features for cumulative importance of 66% (max importance)\n",
    "# Add 1 because Python is zero-indexed\n",
    "print('Number of features for max importance:', np.where(cumulative_importances > 0.66)[0][0] + 1)"
   ]
  },
  {
   "cell_type": "code",
   "execution_count": 11,
   "metadata": {},
   "outputs": [
    {
     "data": {
      "text/plain": [
       "SelectFromModel(estimator=RandomForestClassifier(bootstrap=True, ccp_alpha=0.0,\n",
       "                                                 class_weight=None,\n",
       "                                                 criterion='gini',\n",
       "                                                 max_depth=None,\n",
       "                                                 max_features='auto',\n",
       "                                                 max_leaf_nodes=None,\n",
       "                                                 max_samples=None,\n",
       "                                                 min_impurity_decrease=0.0,\n",
       "                                                 min_impurity_split=None,\n",
       "                                                 min_samples_leaf=1,\n",
       "                                                 min_samples_split=2,\n",
       "                                                 min_weight_fraction_leaf=0.0,\n",
       "                                                 n_estimators=100, n_jobs=None,\n",
       "                                                 oob_score=False,\n",
       "                                                 random_state=None, verbose=0,\n",
       "                                                 warm_start=False),\n",
       "                max_features=None, norm_order=1, prefit=False, threshold=0.01)"
      ]
     },
     "execution_count": 11,
     "metadata": {},
     "output_type": "execute_result"
    }
   ],
   "source": [
    "from sklearn.feature_selection import SelectFromModel\n",
    "\n",
    "# Create a selector object that will use the random forest classifier to identify\n",
    "# features that have an importance of more than 0.01\n",
    "sfm = SelectFromModel(rf, threshold=0.01)\n",
    "\n",
    "# Train the selector\n",
    "sfm.fit(original_train_features, original_train_labels)"
   ]
  },
  {
   "cell_type": "code",
   "execution_count": 12,
   "metadata": {},
   "outputs": [
    {
     "name": "stdout",
     "output_type": "stream",
     "text": [
      "v10\n",
      "v12\n",
      "v14\n",
      "v21\n",
      "v22\n",
      "v34\n",
      "v40\n",
      "v47\n",
      "v50\n",
      "v52\n",
      "v56\n",
      "v66\n",
      "v79\n",
      "v91\n",
      "v107\n",
      "v112\n",
      "v113\n",
      "v114\n",
      "v125\n"
     ]
    }
   ],
   "source": [
    "# Print the names of the most important features\n",
    "feat_labels = list(train.columns)\n",
    "\n",
    "for feature_list_index in sfm.get_support(indices=True):\n",
    "    print(feat_labels[feature_list_index])"
   ]
  },
  {
   "cell_type": "code",
   "execution_count": 13,
   "metadata": {},
   "outputs": [],
   "source": [
    "# Transform the data to create a new dataset containing only the most important features\n",
    "# Note: We have to apply the transform to both the training X and test X data.\n",
    "X_important_train = sfm.transform(X_train)\n",
    "X_important_test = sfm.transform(X_test)"
   ]
  },
  {
   "cell_type": "code",
   "execution_count": 14,
   "metadata": {},
   "outputs": [
    {
     "data": {
      "text/plain": [
       "RandomForestClassifier(bootstrap=True, ccp_alpha=0.0, class_weight=None,\n",
       "                       criterion='gini', max_depth=None, max_features='auto',\n",
       "                       max_leaf_nodes=None, max_samples=None,\n",
       "                       min_impurity_decrease=0.0, min_impurity_split=None,\n",
       "                       min_samples_leaf=1, min_samples_split=2,\n",
       "                       min_weight_fraction_leaf=0.0, n_estimators=100,\n",
       "                       n_jobs=None, oob_score=False, random_state=None,\n",
       "                       verbose=0, warm_start=False)"
      ]
     },
     "execution_count": 14,
     "metadata": {},
     "output_type": "execute_result"
    }
   ],
   "source": [
    "# Create a new random forest classifier for the most important features\n",
    "clf_important = RandomForestClassifier()\n",
    "\n",
    "# Train the new classifier on the new dataset containing the most important features\n",
    "clf_important.fit(X_important_train, y_train)"
   ]
  },
  {
   "cell_type": "code",
   "execution_count": 15,
   "metadata": {},
   "outputs": [
    {
     "name": "stdout",
     "output_type": "stream",
     "text": [
      "0.7792503843503155\n",
      "7.624571249925074\n"
     ]
    }
   ],
   "source": [
    "# Apply The Full Featured Classifier To The Test Data\n",
    "y_important_pred = clf_important.predict(X_important_test)\n",
    "\n",
    "# View The Accuracy Of Our  Model\n",
    "print(accuracy_score(y_test, y_important_pred))\n",
    "print(log_loss(y_test,y_important_pred))"
   ]
  },
  {
   "cell_type": "code",
   "execution_count": 22,
   "metadata": {},
   "outputs": [
    {
     "name": "stdout",
     "output_type": "stream",
     "text": [
      "{'n_estimators': [200, 400, 600, 800, 1000, 1200, 1400, 1600, 1800, 2000], 'max_features': ['auto', 'sqrt'], 'max_depth': [10, 20, 30, 40, 50, 60, 70, 80, 90, 100, 110, None], 'min_samples_split': [2, 5, 10], 'min_samples_leaf': [1, 2, 4], 'bootstrap': [True, False]}\n"
     ]
    }
   ],
   "source": [
    "from sklearn.model_selection import RandomizedSearchCV\n",
    "\n",
    "# Number of trees in random forest\n",
    "n_estimators = [int(x) for x in np.linspace(start = 200, stop = 2000, num = 10)]\n",
    "# Number of features to consider at every split\n",
    "max_features = ['auto', 'sqrt']\n",
    "# Maximum number of levels in tree\n",
    "max_depth = [int(x) for x in np.linspace(10, 110, num = 11)]\n",
    "max_depth.append(None)\n",
    "# Minimum number of samples required to split a node\n",
    "min_samples_split = [2, 5, 10]\n",
    "# Minimum number of samples required at each leaf node\n",
    "min_samples_leaf = [1, 2, 4]\n",
    "# Method of selecting samples for training each tree\n",
    "bootstrap = [True, False]\n",
    "\n",
    "# Create the random grid\n",
    "random_grid = {'n_estimators': n_estimators,\n",
    "               'max_features': max_features,\n",
    "               'max_depth': max_depth,\n",
    "               'min_samples_split': min_samples_split,\n",
    "               'min_samples_leaf': min_samples_leaf,\n",
    "               'bootstrap': bootstrap}\n",
    "\n",
    "print(random_grid)"
   ]
  },
  {
   "cell_type": "code",
   "execution_count": 23,
   "metadata": {},
   "outputs": [
    {
     "name": "stdout",
     "output_type": "stream",
     "text": [
      "Fitting 3 folds for each of 100 candidates, totalling 300 fits\n"
     ]
    },
    {
     "name": "stderr",
     "output_type": "stream",
     "text": [
      "[Parallel(n_jobs=-1)]: Using backend LokyBackend with 8 concurrent workers.\n",
      "[Parallel(n_jobs=-1)]: Done  25 tasks      | elapsed: 35.2min\n",
      "[Parallel(n_jobs=-1)]: Done 146 tasks      | elapsed: 164.7min\n",
      "[Parallel(n_jobs=-1)]: Done 300 out of 300 | elapsed: 323.4min finished\n"
     ]
    }
   ],
   "source": [
    "# Use the random grid to search for best hyperparameters\n",
    "# First create the base model to tune\n",
    "rf = RandomForestClassifier(random_state = 42)\n",
    "# Random search of parameters, using 3 fold cross validation, \n",
    "# search across 100 different combinations, and use all available cores\n",
    "rf_random = RandomizedSearchCV(estimator=rf, param_distributions=random_grid,\n",
    "                              n_iter = 100, \n",
    "                              cv = 3, verbose=2, random_state=42, n_jobs=-1,\n",
    "                              return_train_score=True)\n",
    "\n",
    "# Fit the random search model\n",
    "rf_random.fit(X_important_train, y_train);"
   ]
  },
  {
   "cell_type": "code",
   "execution_count": 24,
   "metadata": {},
   "outputs": [
    {
     "data": {
      "text/plain": [
       "{'n_estimators': 1800,\n",
       " 'min_samples_split': 2,\n",
       " 'min_samples_leaf': 2,\n",
       " 'max_features': 'auto',\n",
       " 'max_depth': None,\n",
       " 'bootstrap': True}"
      ]
     },
     "execution_count": 24,
     "metadata": {},
     "output_type": "execute_result"
    }
   ],
   "source": [
    "rf_random.best_params_"
   ]
  },
  {
   "cell_type": "code",
   "execution_count": 14,
   "metadata": {},
   "outputs": [],
   "source": [
    "from sklearn.model_selection import GridSearchCV\n",
    "\n",
    "# Create the parameter grid based on the results of random search \n",
    "param_grid = {\n",
    "    'bootstrap': [True],\n",
    "    'max_depth': [80, 90, 100, 110],\n",
    "    'max_features': [2, 3],\n",
    "    'min_samples_leaf': [3, 4, 5],\n",
    "    'min_samples_split': [8, 10, 12],\n",
    "    'n_estimators': [100, 200, 300, 1000]\n",
    "}\n",
    "\n",
    "# Create a base model\n",
    "rf = RandomForestClassifier(random_state = 42)\n",
    "\n",
    "# Instantiate the grid search model\n",
    "grid_search = GridSearchCV(estimator = rf, param_grid = param_grid, \n",
    "                          cv = 3, n_jobs = -1, verbose = 2, return_train_score=True)"
   ]
  },
  {
   "cell_type": "code",
   "execution_count": 15,
   "metadata": {},
   "outputs": [
    {
     "name": "stdout",
     "output_type": "stream",
     "text": [
      "Fitting 3 folds for each of 288 candidates, totalling 864 fits\n"
     ]
    },
    {
     "name": "stderr",
     "output_type": "stream",
     "text": [
      "[Parallel(n_jobs=-1)]: Using backend LokyBackend with 8 concurrent workers.\n",
      "[Parallel(n_jobs=-1)]: Done  25 tasks      | elapsed:  5.4min\n",
      "[Parallel(n_jobs=-1)]: Done 146 tasks      | elapsed: 40.6min\n",
      "[Parallel(n_jobs=-1)]: Done 349 tasks      | elapsed: 113.5min\n",
      "[Parallel(n_jobs=-1)]: Done 632 tasks      | elapsed: 196.3min\n",
      "[Parallel(n_jobs=-1)]: Done 864 out of 864 | elapsed: 272.8min finished\n"
     ]
    }
   ],
   "source": [
    "# Fit the grid search to the data\n",
    "grid_search.fit(X_important_train, y_train);"
   ]
  },
  {
   "cell_type": "code",
   "execution_count": 16,
   "metadata": {
    "scrolled": true
   },
   "outputs": [
    {
     "data": {
      "text/plain": [
       "{'bootstrap': True,\n",
       " 'max_depth': 80,\n",
       " 'max_features': 3,\n",
       " 'min_samples_leaf': 4,\n",
       " 'min_samples_split': 10,\n",
       " 'n_estimators': 1000}"
      ]
     },
     "execution_count": 16,
     "metadata": {},
     "output_type": "execute_result"
    }
   ],
   "source": [
    "grid_search.best_params_"
   ]
  },
  {
   "cell_type": "code",
   "execution_count": 17,
   "metadata": {},
   "outputs": [
    {
     "name": "stdout",
     "output_type": "stream",
     "text": [
      "0.7817420346710492\n",
      "7.53851746548729\n"
     ]
    }
   ],
   "source": [
    "# Apply The Full Featured Classifier To The Test Data\n",
    "y_important_pred = grid_search.predict(X_important_test)\n",
    "\n",
    "# View The Accuracy Of Our  Model\n",
    "print(accuracy_score(y_test, y_important_pred))\n",
    "print(log_loss(y_test,y_important_pred))"
   ]
  },
  {
   "cell_type": "markdown",
   "metadata": {},
   "source": [
    "## SUPPORT VECTOR MACHINE"
   ]
  },
  {
   "cell_type": "code",
   "execution_count": 1,
   "metadata": {},
   "outputs": [
    {
     "name": "stdout",
     "output_type": "stream",
     "text": [
      "C:\\Users\\Owner\n"
     ]
    }
   ],
   "source": [
    "# Reading in data file\n",
    "\n",
    "import os\n",
    "cwd = os.getcwd()\n",
    "print(cwd)"
   ]
  },
  {
   "cell_type": "code",
   "execution_count": null,
   "metadata": {},
   "outputs": [],
   "source": [
    "\n",
    "\n",
    "\n",
    "# Reading in data file\n",
    "\n",
    "import os\n",
    "cwd = os.getcwd()\n",
    "print(cwd)"
   ]
  },
  {
   "cell_type": "code",
   "execution_count": 1,
   "metadata": {},
   "outputs": [
    {
     "name": "stdout",
     "output_type": "stream",
     "text": [
      "C:\\Users\\Owner\n"
     ]
    }
   ],
   "source": [
    "# Reading in data file\n",
    "\n",
    "import os\n",
    "cwd = os.getcwd()\n",
    "print(cwd)"
   ]
  },
  {
   "cell_type": "code",
   "execution_count": 3,
   "metadata": {
    "scrolled": true
   },
   "outputs": [
    {
     "data": {
      "text/plain": [
       "ID          int64\n",
       "target      int64\n",
       "v1        float64\n",
       "v2        float64\n",
       "v3         object\n",
       "           ...   \n",
       "v127      float64\n",
       "v128      float64\n",
       "v129        int64\n",
       "v130      float64\n",
       "v131      float64\n",
       "Length: 133, dtype: object"
      ]
     },
     "execution_count": 3,
     "metadata": {},
     "output_type": "execute_result"
    }
   ],
   "source": [
    "df.dtypes"
   ]
  },
  {
   "cell_type": "code",
   "execution_count": 4,
   "metadata": {},
   "outputs": [
    {
     "name": "stdout",
     "output_type": "stream",
     "text": [
      "<class 'pandas.core.frame.DataFrame'>\n",
      "RangeIndex: 114321 entries, 0 to 114320\n",
      "Columns: 133 entries, ID to v131\n",
      "dtypes: float64(108), int64(6), object(19)\n",
      "memory usage: 116.0+ MB\n"
     ]
    }
   ],
   "source": [
    "df.info()"
   ]
  },
  {
   "cell_type": "code",
   "execution_count": 5,
   "metadata": {},
   "outputs": [
    {
     "data": {
      "text/html": [
       "<div>\n",
       "<style scoped>\n",
       "    .dataframe tbody tr th:only-of-type {\n",
       "        vertical-align: middle;\n",
       "    }\n",
       "\n",
       "    .dataframe tbody tr th {\n",
       "        vertical-align: top;\n",
       "    }\n",
       "\n",
       "    .dataframe thead th {\n",
       "        text-align: right;\n",
       "    }\n",
       "</style>\n",
       "<table border=\"1\" class=\"dataframe\">\n",
       "  <thead>\n",
       "    <tr style=\"text-align: right;\">\n",
       "      <th></th>\n",
       "      <th>ID</th>\n",
       "      <th>target</th>\n",
       "      <th>v1</th>\n",
       "      <th>v2</th>\n",
       "      <th>v3</th>\n",
       "      <th>v4</th>\n",
       "      <th>v5</th>\n",
       "      <th>v6</th>\n",
       "      <th>v7</th>\n",
       "      <th>v8</th>\n",
       "      <th>...</th>\n",
       "      <th>v122</th>\n",
       "      <th>v123</th>\n",
       "      <th>v124</th>\n",
       "      <th>v125</th>\n",
       "      <th>v126</th>\n",
       "      <th>v127</th>\n",
       "      <th>v128</th>\n",
       "      <th>v129</th>\n",
       "      <th>v130</th>\n",
       "      <th>v131</th>\n",
       "    </tr>\n",
       "  </thead>\n",
       "  <tbody>\n",
       "    <tr>\n",
       "      <th>0</th>\n",
       "      <td>3</td>\n",
       "      <td>1</td>\n",
       "      <td>1.335739</td>\n",
       "      <td>8.727474</td>\n",
       "      <td>C</td>\n",
       "      <td>3.921026</td>\n",
       "      <td>7.915266</td>\n",
       "      <td>2.599278</td>\n",
       "      <td>3.176895</td>\n",
       "      <td>0.012941</td>\n",
       "      <td>...</td>\n",
       "      <td>8.000000</td>\n",
       "      <td>1.989780</td>\n",
       "      <td>0.035754</td>\n",
       "      <td>AU</td>\n",
       "      <td>1.804126</td>\n",
       "      <td>3.113719</td>\n",
       "      <td>2.024285</td>\n",
       "      <td>0</td>\n",
       "      <td>0.636365</td>\n",
       "      <td>2.857144</td>\n",
       "    </tr>\n",
       "    <tr>\n",
       "      <th>1</th>\n",
       "      <td>4</td>\n",
       "      <td>1</td>\n",
       "      <td>1.630686</td>\n",
       "      <td>7.464411</td>\n",
       "      <td>C</td>\n",
       "      <td>4.145098</td>\n",
       "      <td>9.191265</td>\n",
       "      <td>2.436402</td>\n",
       "      <td>2.483921</td>\n",
       "      <td>2.301630</td>\n",
       "      <td>...</td>\n",
       "      <td>6.822439</td>\n",
       "      <td>3.549938</td>\n",
       "      <td>0.598896</td>\n",
       "      <td>AF</td>\n",
       "      <td>1.672658</td>\n",
       "      <td>3.239542</td>\n",
       "      <td>1.957825</td>\n",
       "      <td>0</td>\n",
       "      <td>1.925763</td>\n",
       "      <td>1.739389</td>\n",
       "    </tr>\n",
       "    <tr>\n",
       "      <th>2</th>\n",
       "      <td>5</td>\n",
       "      <td>1</td>\n",
       "      <td>0.943877</td>\n",
       "      <td>5.310079</td>\n",
       "      <td>C</td>\n",
       "      <td>4.410969</td>\n",
       "      <td>5.326159</td>\n",
       "      <td>3.979592</td>\n",
       "      <td>3.928571</td>\n",
       "      <td>0.019645</td>\n",
       "      <td>...</td>\n",
       "      <td>9.333333</td>\n",
       "      <td>2.477596</td>\n",
       "      <td>0.013452</td>\n",
       "      <td>AE</td>\n",
       "      <td>1.773709</td>\n",
       "      <td>3.922193</td>\n",
       "      <td>1.120468</td>\n",
       "      <td>2</td>\n",
       "      <td>0.883118</td>\n",
       "      <td>1.176472</td>\n",
       "    </tr>\n",
       "    <tr>\n",
       "      <th>3</th>\n",
       "      <td>6</td>\n",
       "      <td>1</td>\n",
       "      <td>0.797415</td>\n",
       "      <td>8.304757</td>\n",
       "      <td>C</td>\n",
       "      <td>4.225930</td>\n",
       "      <td>11.627438</td>\n",
       "      <td>2.097700</td>\n",
       "      <td>1.987549</td>\n",
       "      <td>0.171947</td>\n",
       "      <td>...</td>\n",
       "      <td>7.018256</td>\n",
       "      <td>1.812795</td>\n",
       "      <td>0.002267</td>\n",
       "      <td>CJ</td>\n",
       "      <td>1.415230</td>\n",
       "      <td>2.954381</td>\n",
       "      <td>1.990847</td>\n",
       "      <td>1</td>\n",
       "      <td>1.677108</td>\n",
       "      <td>1.034483</td>\n",
       "    </tr>\n",
       "    <tr>\n",
       "      <th>4</th>\n",
       "      <td>8</td>\n",
       "      <td>1</td>\n",
       "      <td>1.630686</td>\n",
       "      <td>7.464411</td>\n",
       "      <td>C</td>\n",
       "      <td>4.145098</td>\n",
       "      <td>8.742359</td>\n",
       "      <td>2.436402</td>\n",
       "      <td>2.483921</td>\n",
       "      <td>1.496569</td>\n",
       "      <td>...</td>\n",
       "      <td>6.822439</td>\n",
       "      <td>3.549938</td>\n",
       "      <td>0.919812</td>\n",
       "      <td>Z</td>\n",
       "      <td>1.672658</td>\n",
       "      <td>3.239542</td>\n",
       "      <td>2.030373</td>\n",
       "      <td>0</td>\n",
       "      <td>1.925763</td>\n",
       "      <td>1.739389</td>\n",
       "    </tr>\n",
       "  </tbody>\n",
       "</table>\n",
       "<p>5 rows × 133 columns</p>\n",
       "</div>"
      ],
      "text/plain": [
       "   ID  target        v1        v2 v3        v4         v5        v6        v7  \\\n",
       "0   3       1  1.335739  8.727474  C  3.921026   7.915266  2.599278  3.176895   \n",
       "1   4       1  1.630686  7.464411  C  4.145098   9.191265  2.436402  2.483921   \n",
       "2   5       1  0.943877  5.310079  C  4.410969   5.326159  3.979592  3.928571   \n",
       "3   6       1  0.797415  8.304757  C  4.225930  11.627438  2.097700  1.987549   \n",
       "4   8       1  1.630686  7.464411  C  4.145098   8.742359  2.436402  2.483921   \n",
       "\n",
       "         v8  ...      v122      v123      v124  v125      v126      v127  \\\n",
       "0  0.012941  ...  8.000000  1.989780  0.035754    AU  1.804126  3.113719   \n",
       "1  2.301630  ...  6.822439  3.549938  0.598896    AF  1.672658  3.239542   \n",
       "2  0.019645  ...  9.333333  2.477596  0.013452    AE  1.773709  3.922193   \n",
       "3  0.171947  ...  7.018256  1.812795  0.002267    CJ  1.415230  2.954381   \n",
       "4  1.496569  ...  6.822439  3.549938  0.919812     Z  1.672658  3.239542   \n",
       "\n",
       "       v128  v129      v130      v131  \n",
       "0  2.024285     0  0.636365  2.857144  \n",
       "1  1.957825     0  1.925763  1.739389  \n",
       "2  1.120468     2  0.883118  1.176472  \n",
       "3  1.990847     1  1.677108  1.034483  \n",
       "4  2.030373     0  1.925763  1.739389  \n",
       "\n",
       "[5 rows x 133 columns]"
      ]
     },
     "execution_count": 5,
     "metadata": {},
     "output_type": "execute_result"
    }
   ],
   "source": [
    "df.head(5)"
   ]
  },
  {
   "cell_type": "code",
   "execution_count": 6,
   "metadata": {},
   "outputs": [
    {
     "data": {
      "text/plain": [
       "array([1, 0], dtype=int64)"
      ]
     },
     "execution_count": 6,
     "metadata": {},
     "output_type": "execute_result"
    }
   ],
   "source": [
    "df['target'].unique()"
   ]
  },
  {
   "cell_type": "code",
   "execution_count": 7,
   "metadata": {
    "scrolled": true
   },
   "outputs": [
    {
     "name": "stdout",
     "output_type": "stream",
     "text": [
      "<class 'pandas.core.frame.DataFrame'>\n",
      "RangeIndex: 114321 entries, 0 to 114320\n",
      "Data columns (total 19 columns):\n",
      " #   Column  Non-Null Count   Dtype \n",
      "---  ------  --------------   ----- \n",
      " 0   v3      114321 non-null  object\n",
      " 1   v22     114321 non-null  object\n",
      " 2   v24     114321 non-null  object\n",
      " 3   v30     114321 non-null  object\n",
      " 4   v31     114321 non-null  object\n",
      " 5   v47     114321 non-null  object\n",
      " 6   v52     114321 non-null  object\n",
      " 7   v56     114321 non-null  object\n",
      " 8   v66     114321 non-null  object\n",
      " 9   v71     114321 non-null  object\n",
      " 10  v74     114321 non-null  object\n",
      " 11  v75     114321 non-null  object\n",
      " 12  v79     114321 non-null  object\n",
      " 13  v91     114321 non-null  object\n",
      " 14  v107    114321 non-null  object\n",
      " 15  v110    114321 non-null  object\n",
      " 16  v112    114321 non-null  object\n",
      " 17  v113    114321 non-null  object\n",
      " 18  v125    114321 non-null  object\n",
      "dtypes: object(19)\n",
      "memory usage: 16.6+ MB\n"
     ]
    }
   ],
   "source": [
    "df_cat = df.select_dtypes('object')\n",
    "df_cat.info()"
   ]
  },
  {
   "cell_type": "code",
   "execution_count": null,
   "metadata": {},
   "outputs": [],
   "source": [
    "Variable 'v3' Combination\n",
    "df_cat['v3'].value_counts()\n",
    "C    114041\n",
    "A       227\n",
    "B        53\n",
    "Name: v3, dtype: int64\n",
    "df_cat['v3'] = df_cat['v3'].replace(['C','A','B'],['C','AB','AB'])\n",
    "df_cat['v3'].value_counts()\n",
    "C     114041\n",
    "AB       280\n",
    "Name: v3, dtype: int64\n"
   ]
  },
  {
   "cell_type": "markdown",
   "metadata": {},
   "source": [
    "# Variable 'v22' Combination"
   ]
  },
  {
   "cell_type": "code",
   "execution_count": 10,
   "metadata": {
    "scrolled": true
   },
   "outputs": [
    {
     "data": {
      "text/plain": [
       "AGDF    2886\n",
       "YGJ     2119\n",
       "QKI      668\n",
       "PWR      649\n",
       "HZE      423\n",
       "        ... \n",
       "ACKY       1\n",
       "PPF        1\n",
       "MMC        1\n",
       "WXH        1\n",
       "ZDI        1\n",
       "Name: v22, Length: 18210, dtype: int64"
      ]
     },
     "execution_count": 10,
     "metadata": {},
     "output_type": "execute_result"
    }
   ],
   "source": [
    "df_cat['v22'].value_counts()"
   ]
  },
  {
   "cell_type": "code",
   "execution_count": 11,
   "metadata": {},
   "outputs": [
    {
     "data": {
      "text/plain": [
       "N!!     107576\n",
       "AGDF      2886\n",
       "YGJ       2119\n",
       "QKI        668\n",
       "PWR        649\n",
       "HZE        423\n",
       "Name: v22, dtype: int64"
      ]
     },
     "execution_count": 11,
     "metadata": {},
     "output_type": "execute_result"
    }
   ],
   "source": [
    "v22_dict = ['AGDF','YGJ','QKI','PWR','HZE']\n",
    "df_cat.loc[~df_cat[\"v22\"].isin(v22_dict), \"v22\"] = \"N!!\"\n",
    "df_cat['v22'].value_counts()"
   ]
  },
  {
   "cell_type": "code",
   "execution_count": null,
   "metadata": {},
   "outputs": [],
   "source": [
    "# Variable 'v22' Combination\n",
    "\n",
    "df_cat['v22'].value_counts()\n",
    "\n",
    "v22_dict = ['AGDF','YGJ','QKI','PWR','HZE']\n",
    "df_cat.loc[~df_cat[\"v22\"].isin(v22_dict), \"v22\"] = \"N!!\"\n",
    "df_cat['v22'].value_counts()"
   ]
  },
  {
   "cell_type": "markdown",
   "metadata": {},
   "source": [
    "# Variable 'v24' Combination"
   ]
  },
  {
   "cell_type": "code",
   "execution_count": 12,
   "metadata": {},
   "outputs": [
    {
     "data": {
      "text/plain": [
       "E    55177\n",
       "D    26333\n",
       "C    20872\n",
       "B     8150\n",
       "A     3789\n",
       "Name: v24, dtype: int64"
      ]
     },
     "execution_count": 12,
     "metadata": {},
     "output_type": "execute_result"
    }
   ],
   "source": [
    "df_cat['v24'].value_counts()"
   ]
  },
  {
   "cell_type": "code",
   "execution_count": 13,
   "metadata": {},
   "outputs": [
    {
     "data": {
      "text/plain": [
       "E     55177\n",
       "D     26333\n",
       "C     20872\n",
       "BA    11939\n",
       "Name: v24, dtype: int64"
      ]
     },
     "execution_count": 13,
     "metadata": {},
     "output_type": "execute_result"
    }
   ],
   "source": [
    "df_cat['v24'] = df_cat['v24'].replace(['E','D','C','B','A'],['E','D','C','BA','BA'])\n",
    "df_cat['v24'].value_counts()"
   ]
  },
  {
   "cell_type": "markdown",
   "metadata": {},
   "source": [
    "# Variable 'v30' Combination"
   ]
  },
  {
   "cell_type": "code",
   "execution_count": 14,
   "metadata": {},
   "outputs": [
    {
     "data": {
      "text/plain": [
       "C    92288\n",
       "G     8728\n",
       "D     5225\n",
       "E     2973\n",
       "F     2589\n",
       "A     2313\n",
       "B      205\n",
       "Name: v30, dtype: int64"
      ]
     },
     "execution_count": 14,
     "metadata": {},
     "output_type": "execute_result"
    }
   ],
   "source": [
    "df_cat['v30'].value_counts()"
   ]
  },
  {
   "cell_type": "code",
   "execution_count": 15,
   "metadata": {},
   "outputs": [
    {
     "data": {
      "text/plain": [
       "C       92288\n",
       "G        8728\n",
       "EFAB     8080\n",
       "D        5225\n",
       "Name: v30, dtype: int64"
      ]
     },
     "execution_count": 15,
     "metadata": {},
     "output_type": "execute_result"
    }
   ],
   "source": [
    "df_cat['v30'] = df_cat['v30'].replace(['C','G','D','E','F','A','B'],['C','G','D','EFAB','EFAB','EFAB','EFAB'])\n",
    "df_cat['v30'].value_counts()"
   ]
  },
  {
   "cell_type": "markdown",
   "metadata": {},
   "source": [
    "# Variable 'v31' Combination"
   ]
  },
  {
   "cell_type": "code",
   "execution_count": 16,
   "metadata": {},
   "outputs": [
    {
     "data": {
      "text/plain": [
       "A    91804\n",
       "B    18947\n",
       "C     3570\n",
       "Name: v31, dtype: int64"
      ]
     },
     "execution_count": 16,
     "metadata": {},
     "output_type": "execute_result"
    }
   ],
   "source": [
    "df_cat['v31'].value_counts()"
   ]
  },
  {
   "cell_type": "code",
   "execution_count": 17,
   "metadata": {},
   "outputs": [
    {
     "data": {
      "text/plain": [
       "A     91804\n",
       "BC    22517\n",
       "Name: v31, dtype: int64"
      ]
     },
     "execution_count": 17,
     "metadata": {},
     "output_type": "execute_result"
    }
   ],
   "source": [
    "df_cat['v31'] = df_cat['v31'].replace(['A','B','C'],['A','BC','BC'])\n",
    "df_cat['v31'].value_counts()"
   ]
  },
  {
   "cell_type": "markdown",
   "metadata": {},
   "source": [
    "# Variable 'v31' Combination"
   ]
  },
  {
   "cell_type": "code",
   "execution_count": 16,
   "metadata": {},
   "outputs": [
    {
     "data": {
      "text/plain": [
       "A    91804\n",
       "B    18947\n",
       "C     3570\n",
       "Name: v31, dtype: int64"
      ]
     },
     "execution_count": 16,
     "metadata": {},
     "output_type": "execute_result"
    }
   ],
   "source": [
    "df_cat['v31'].value_counts()"
   ]
  },
  {
   "cell_type": "code",
   "execution_count": 17,
   "metadata": {},
   "outputs": [
    {
     "data": {
      "text/plain": [
       "A     91804\n",
       "BC    22517\n",
       "Name: v31, dtype: int64"
      ]
     },
     "execution_count": 17,
     "metadata": {},
     "output_type": "execute_result"
    }
   ],
   "source": [
    "df_cat['v31'] = df_cat['v31'].replace(['A','B','C'],['A','BC','BC'])\n",
    "df_cat['v31'].value_counts()"
   ]
  },
  {
   "cell_type": "code",
   "execution_count": null,
   "metadata": {},
   "outputs": [],
   "source": [
    "# Variable 'v31' Combination\n",
    "\n",
    "df_cat['v31'].value_counts()\n",
    "\n",
    "df_cat['v31'] = df_cat['v31'].replace(['A','B','C'],['A','BC','BC'])\n",
    "df_cat['v31'].value_counts()# Variable 'v52' Combination\n",
    "\n",
    "df_cat['v52'].value_counts()\n",
    "\n",
    "df_cat['v52'] = df_cat['v52'].replace(['J','I','F','C','D','L','G','B','E','K','A','H'],['J','I','F','C','D','L','G','B','E',\n",
    "                                                                                        'KAH','KAH','KAH'])\n",
    "df_cat['v52'].value_counts()"
   ]
  },
  {
   "cell_type": "markdown",
   "metadata": {},
   "source": [
    "# Variable 'v47' Combination"
   ]
  },
  {
   "cell_type": "code",
   "execution_count": 18,
   "metadata": {
    "scrolled": true
   },
   "outputs": [
    {
     "data": {
      "text/plain": [
       "C    55425\n",
       "I    39071\n",
       "E     5301\n",
       "F     4322\n",
       "G     3946\n",
       "D     3157\n",
       "J     3010\n",
       "B       50\n",
       "A       38\n",
       "H        1\n",
       "Name: v47, dtype: int64"
      ]
     },
     "execution_count": 18,
     "metadata": {},
     "output_type": "execute_result"
    }
   ],
   "source": [
    "df_cat['v47'].value_counts()"
   ]
  },
  {
   "cell_type": "code",
   "execution_count": 19,
   "metadata": {},
   "outputs": [
    {
     "data": {
      "text/plain": [
       "C      55425\n",
       "I      39071\n",
       "G_H    10202\n",
       "E       5301\n",
       "F       4322\n",
       "Name: v47, dtype: int64"
      ]
     },
     "execution_count": 19,
     "metadata": {},
     "output_type": "execute_result"
    }
   ],
   "source": [
    "df_cat['v47'] = df_cat['v47'].replace(['C','I','E','F','G','D','J','B','A','H'],\n",
    "                                      ['C','I','E','F','G_H','G_H','G_H','G_H','G_H','G_H'])\n",
    "df_cat['v47'].value_counts()"
   ]
  },
  {
   "cell_type": "markdown",
   "metadata": {},
   "source": [
    "# Variable 'v52' Combination"
   ]
  },
  {
   "cell_type": "code",
   "execution_count": 20,
   "metadata": {
    "scrolled": true
   },
   "outputs": [
    {
     "data": {
      "text/plain": [
       "J    11106\n",
       "I    10260\n",
       "F     9806\n",
       "C     9681\n",
       "D     9607\n",
       "L     9578\n",
       "G     9419\n",
       "B     9385\n",
       "E     9282\n",
       "K     8949\n",
       "A     8925\n",
       "H     8323\n",
       "Name: v52, dtype: int64"
      ]
     },
     "execution_count": 20,
     "metadata": {},
     "output_type": "execute_result"
    }
   ],
   "source": [
    "df_cat['v52'].value_counts()"
   ]
  },
  {
   "cell_type": "code",
   "execution_count": 21,
   "metadata": {},
   "outputs": [
    {
     "data": {
      "text/plain": [
       "KAH    26197\n",
       "J      11106\n",
       "I      10260\n",
       "F       9806\n",
       "C       9681\n",
       "D       9607\n",
       "L       9578\n",
       "G       9419\n",
       "B       9385\n",
       "E       9282\n",
       "Name: v52, dtype: int64"
      ]
     },
     "execution_count": 21,
     "metadata": {},
     "output_type": "execute_result"
    }
   ],
   "source": [
    "df_cat['v52'] = df_cat['v52'].replace(['J','I','F','C','D','L','G','B','E','K','A','H'],['J','I','F','C','D','L','G','B','E',\n",
    "                                                                                        'KAH','KAH','KAH'])\n",
    "df_cat['v52'].value_counts()"
   ]
  },
  {
   "cell_type": "markdown",
   "metadata": {},
   "source": [
    "# Variable 'v56' Combination"
   ]
  },
  {
   "cell_type": "code",
   "execution_count": 22,
   "metadata": {
    "scrolled": false
   },
   "outputs": [
    {
     "data": {
      "text/plain": [
       "BW    18233\n",
       "DI    10256\n",
       "AS     8832\n",
       "BZ     7174\n",
       "AW     6369\n",
       "      ...  \n",
       "CZ        1\n",
       "D         1\n",
       "AX        1\n",
       "DB        1\n",
       "CE        1\n",
       "Name: v56, Length: 122, dtype: int64"
      ]
     },
     "execution_count": 22,
     "metadata": {},
     "output_type": "execute_result"
    }
   ],
   "source": [
    "df_cat['v56'].value_counts()"
   ]
  },
  {
   "cell_type": "code",
   "execution_count": 23,
   "metadata": {},
   "outputs": [
    {
     "data": {
      "text/plain": [
       "C!!    63457\n",
       "BW     18233\n",
       "DI     10256\n",
       "AS      8832\n",
       "BZ      7174\n",
       "AW      6369\n",
       "Name: v56, dtype: int64"
      ]
     },
     "execution_count": 23,
     "metadata": {},
     "output_type": "execute_result"
    }
   ],
   "source": [
    "v56_dict = ['BW','DI','AS','BZ','AW']\n",
    "df_cat.loc[~df_cat[\"v56\"].isin(v56_dict), \"v56\"] = \"C!!\"\n",
    "df_cat['v56'].value_counts()"
   ]
  },
  {
   "cell_type": "code",
   "execution_count": null,
   "metadata": {},
   "outputs": [],
   "source": [
    "# Variable 'v56' Combination\n",
    "\n",
    "df_cat['v56'].value_counts()\n",
    "\n",
    "v56_dict = ['BW','DI','AS','BZ','AW']\n",
    "df_cat.loc[~df_cat[\"v56\"].isin(v56_dict), \"v56\"] = \"C!!\"\n",
    "df_cat['v56'].value_counts()"
   ]
  },
  {
   "cell_type": "markdown",
   "metadata": {},
   "source": [
    "# Variable 'v66' Combination"
   ]
  },
  {
   "cell_type": "code",
   "execution_count": 24,
   "metadata": {},
   "outputs": [
    {
     "data": {
      "text/plain": [
       "A    70353\n",
       "C    25704\n",
       "B    18264\n",
       "Name: v66, dtype: int64"
      ]
     },
     "execution_count": 24,
     "metadata": {},
     "output_type": "execute_result"
    }
   ],
   "source": [
    "df_cat['v66'].value_counts()"
   ]
  },
  {
   "cell_type": "markdown",
   "metadata": {},
   "source": [
    "# Variable 'v71' Combination"
   ]
  },
  {
   "cell_type": "code",
   "execution_count": 25,
   "metadata": {},
   "outputs": [
    {
     "data": {
      "text/plain": [
       "F    75094\n",
       "B    30255\n",
       "C     8947\n",
       "I       16\n",
       "G        5\n",
       "A        1\n",
       "L        1\n",
       "K        1\n",
       "D        1\n",
       "Name: v71, dtype: int64"
      ]
     },
     "execution_count": 25,
     "metadata": {},
     "output_type": "execute_result"
    }
   ],
   "source": [
    "df_cat['v71'].value_counts()"
   ]
  },
  {
   "cell_type": "code",
   "execution_count": 26,
   "metadata": {},
   "outputs": [
    {
     "data": {
      "text/plain": [
       "F         75094\n",
       "B         30255\n",
       "C          8947\n",
       "IGDLKA       25\n",
       "Name: v71, dtype: int64"
      ]
     },
     "execution_count": 26,
     "metadata": {},
     "output_type": "execute_result"
    }
   ],
   "source": [
    "df_cat['v71'] = df_cat['v71'].replace(['F','B','C','I','G','D','L','K','A'],['F','B','C','IGDLKA','IGDLKA','IGDLKA',\n",
    "                                                                            'IGDLKA','IGDLKA','IGDLKA'])\n",
    "                                                                           \n",
    "df_cat['v71'].value_counts()"
   ]
  },
  {
   "cell_type": "markdown",
   "metadata": {},
   "source": [
    "# Variable 'v74' Combination"
   ]
  },
  {
   "cell_type": "code",
   "execution_count": 27,
   "metadata": {},
   "outputs": [
    {
     "data": {
      "text/plain": [
       "B    113560\n",
       "C       716\n",
       "A        45\n",
       "Name: v74, dtype: int64"
      ]
     },
     "execution_count": 27,
     "metadata": {},
     "output_type": "execute_result"
    }
   ],
   "source": [
    "df_cat['v74'].value_counts()"
   ]
  },
  {
   "cell_type": "code",
   "execution_count": 28,
   "metadata": {},
   "outputs": [
    {
     "data": {
      "text/plain": [
       "B     113560\n",
       "CA       761\n",
       "Name: v74, dtype: int64"
      ]
     },
     "execution_count": 28,
     "metadata": {},
     "output_type": "execute_result"
    }
   ],
   "source": [
    "df_cat['v74'] = df_cat['v74'].replace(['B','C','A'],['B','CA','CA'])\n",
    "df_cat['v74'].value_counts()"
   ]
  },
  {
   "cell_type": "markdown",
   "metadata": {},
   "source": [
    "# Variable 'v75' Combination"
   ]
  },
  {
   "cell_type": "code",
   "execution_count": 29,
   "metadata": {
    "scrolled": true
   },
   "outputs": [
    {
     "data": {
      "text/plain": [
       "D    75087\n",
       "B    39192\n",
       "C       24\n",
       "A       18\n",
       "Name: v75, dtype: int64"
      ]
     },
     "execution_count": 29,
     "metadata": {},
     "output_type": "execute_result"
    }
   ],
   "source": [
    "df_cat['v75'].value_counts()"
   ]
  },
  {
   "cell_type": "code",
   "execution_count": 30,
   "metadata": {},
   "outputs": [
    {
     "data": {
      "text/plain": [
       "D     75087\n",
       "B     39192\n",
       "CA       42\n",
       "Name: v75, dtype: int64"
      ]
     },
     "execution_count": 30,
     "metadata": {},
     "output_type": "execute_result"
    }
   ],
   "source": [
    "df_cat['v75'] = df_cat['v75'].replace(['D','B','C','A'],['D','B','CA','CA'])\n",
    "df_cat['v75'].value_counts()"
   ]
  },
  {
   "cell_type": "markdown",
   "metadata": {},
   "source": [
    "# Variable 'v79' Combination"
   ]
  },
  {
   "cell_type": "code",
   "execution_count": 31,
   "metadata": {},
   "outputs": [
    {
     "data": {
      "text/plain": [
       "C    34561\n",
       "B    25801\n",
       "E    25257\n",
       "D     5302\n",
       "I     4561\n",
       "K     4308\n",
       "M     3946\n",
       "O     3331\n",
       "P     2217\n",
       "H     2004\n",
       "Q     1006\n",
       "J      933\n",
       "F      571\n",
       "A      417\n",
       "R       50\n",
       "N       49\n",
       "G        6\n",
       "L        1\n",
       "Name: v79, dtype: int64"
      ]
     },
     "execution_count": 31,
     "metadata": {},
     "output_type": "execute_result"
    }
   ],
   "source": [
    "df_cat['v79'].value_counts()"
   ]
  },
  {
   "cell_type": "code",
   "execution_count": 32,
   "metadata": {},
   "outputs": [
    {
     "data": {
      "text/plain": [
       "C      34561\n",
       "B      25801\n",
       "E      25257\n",
       "O_L    10585\n",
       "D       5302\n",
       "I       4561\n",
       "K       4308\n",
       "M       3946\n",
       "Name: v79, dtype: int64"
      ]
     },
     "execution_count": 32,
     "metadata": {},
     "output_type": "execute_result"
    }
   ],
   "source": [
    "df_cat['v79'] = df_cat['v79'].replace(['C','B','E','D','I','K','M','O','P','H','Q','J','F','A','R','N','G','L'],\n",
    "                                      ['C','B','E','D','I','K','M','O_L','O_L','O_L','O_L','O_L','O_L','O_L','O_L','O_L',\n",
    "                                      'O_L','O_L'])\n",
    "                                                                           \n",
    "df_cat['v79'].value_counts()"
   ]
  },
  {
   "cell_type": "markdown",
   "metadata": {},
   "source": [
    "# Variable 'v91' combination"
   ]
  },
  {
   "cell_type": "code",
   "execution_count": 33,
   "metadata": {},
   "outputs": [
    {
     "data": {
      "text/plain": [
       "A    27082\n",
       "G    24545\n",
       "C    23157\n",
       "B    22683\n",
       "F    13418\n",
       "E     3206\n",
       "D      230\n",
       "Name: v91, dtype: int64"
      ]
     },
     "execution_count": 33,
     "metadata": {},
     "output_type": "execute_result"
    }
   ],
   "source": [
    "df_cat['v91'].value_counts()"
   ]
  },
  {
   "cell_type": "code",
   "execution_count": 34,
   "metadata": {},
   "outputs": [
    {
     "data": {
      "text/plain": [
       "A     27082\n",
       "G     24545\n",
       "C     23157\n",
       "B     22683\n",
       "F     13418\n",
       "ED     3436\n",
       "Name: v91, dtype: int64"
      ]
     },
     "execution_count": 34,
     "metadata": {},
     "output_type": "execute_result"
    }
   ],
   "source": [
    "df_cat['v91'] = df_cat['v91'].replace(['A','G','C','B','F','E','D'],['A','G','C','B','F','ED','ED'])\n",
    "df_cat['v91'].value_counts()"
   ]
  },
  {
   "cell_type": "markdown",
   "metadata": {},
   "source": [
    "# Variable 'v107' Combinations"
   ]
  },
  {
   "cell_type": "code",
   "execution_count": 35,
   "metadata": {},
   "outputs": [
    {
     "data": {
      "text/plain": [
       "E    27082\n",
       "C    24545\n",
       "D    23157\n",
       "B    22683\n",
       "A    13418\n",
       "F     3206\n",
       "G      230\n",
       "Name: v107, dtype: int64"
      ]
     },
     "execution_count": 35,
     "metadata": {},
     "output_type": "execute_result"
    }
   ],
   "source": [
    "df_cat['v107'].value_counts()"
   ]
  },
  {
   "cell_type": "code",
   "execution_count": 36,
   "metadata": {},
   "outputs": [
    {
     "data": {
      "text/plain": [
       "E     27082\n",
       "C     24545\n",
       "D     23157\n",
       "B     22683\n",
       "A     13418\n",
       "FG     3436\n",
       "Name: v107, dtype: int64"
      ]
     },
     "execution_count": 36,
     "metadata": {},
     "output_type": "execute_result"
    }
   ],
   "source": [
    "df_cat['v107'] = df_cat['v107'].replace(['E','C','D','B','A','F','G'],['E','C','D','B','A','FG','FG'])\n",
    "df_cat['v107'].value_counts()"
   ]
  },
  {
   "cell_type": "markdown",
   "metadata": {},
   "source": [
    "# Variable 'v110' Combinations"
   ]
  },
  {
   "cell_type": "code",
   "execution_count": 37,
   "metadata": {},
   "outputs": [
    {
     "data": {
      "text/plain": [
       "A    55688\n",
       "B    55426\n",
       "C     3207\n",
       "Name: v110, dtype: int64"
      ]
     },
     "execution_count": 37,
     "metadata": {},
     "output_type": "execute_result"
    }
   ],
   "source": [
    "df_cat['v110'].value_counts()"
   ]
  },
  {
   "cell_type": "markdown",
   "metadata": {},
   "source": [
    "# Variable 'v112' Combination"
   ]
  },
  {
   "cell_type": "code",
   "execution_count": 38,
   "metadata": {},
   "outputs": [
    {
     "data": {
      "text/plain": [
       "F    22053\n",
       "I    10224\n",
       "A     9545\n",
       "N     9086\n",
       "D     7327\n",
       "H     5651\n",
       "U     4803\n",
       "E     4748\n",
       "P     4675\n",
       "L     4479\n",
       "R     4170\n",
       "T     3980\n",
       "J     3967\n",
       "O     3661\n",
       "K     3252\n",
       "B     2688\n",
       "Q     2346\n",
       "C     2055\n",
       "V     1883\n",
       "G     1702\n",
       "M     1193\n",
       "S      833\n",
       "Name: v112, dtype: int64"
      ]
     },
     "execution_count": 38,
     "metadata": {},
     "output_type": "execute_result"
    }
   ],
   "source": [
    "df_cat['v112'].value_counts()"
   ]
  },
  {
   "cell_type": "code",
   "execution_count": 39,
   "metadata": {},
   "outputs": [
    {
     "data": {
      "text/plain": [
       "F        22053\n",
       "112!!    12700\n",
       "I        10224\n",
       "A         9545\n",
       "N         9086\n",
       "D         7327\n",
       "H         5651\n",
       "U         4803\n",
       "E         4748\n",
       "P         4675\n",
       "L         4479\n",
       "R         4170\n",
       "T         3980\n",
       "J         3967\n",
       "O         3661\n",
       "K         3252\n",
       "Name: v112, dtype: int64"
      ]
     },
     "execution_count": 39,
     "metadata": {},
     "output_type": "execute_result"
    }
   ],
   "source": [
    "v112_dict = ['F','I','A','N','D','H','U','E','P','L','R','T','J','O','K']\n",
    "df_cat.loc[~df_cat[\"v112\"].isin(v112_dict), \"v112\"] = \"112!!\"\n",
    "df_cat['v112'].value_counts()"
   ]
  },
  {
   "cell_type": "markdown",
   "metadata": {},
   "source": [
    "# Variable 'v113' Combination"
   ]
  },
  {
   "cell_type": "code",
   "execution_count": 40,
   "metadata": {},
   "outputs": [
    {
     "data": {
      "text/plain": [
       "G     71556\n",
       "M      7374\n",
       "AC     5956\n",
       "AF     3568\n",
       "I      2605\n",
       "P      1975\n",
       "AG     1712\n",
       "V      1673\n",
       "X      1635\n",
       "T      1608\n",
       "W      1497\n",
       "B      1358\n",
       "Y      1282\n",
       "AB     1273\n",
       "N      1186\n",
       "AJ      872\n",
       "AH      797\n",
       "C       707\n",
       "AE      680\n",
       "S       614\n",
       "U       612\n",
       "Q       594\n",
       "L       477\n",
       "Z       453\n",
       "A       334\n",
       "E       324\n",
       "J       322\n",
       "AI      313\n",
       "AD      265\n",
       "F       233\n",
       "R       181\n",
       "D       142\n",
       "O       100\n",
       "H        41\n",
       "AK        1\n",
       "AA        1\n",
       "Name: v113, dtype: int64"
      ]
     },
     "execution_count": 40,
     "metadata": {},
     "output_type": "execute_result"
    }
   ],
   "source": [
    "df_cat['v113'].value_counts()"
   ]
  },
  {
   "cell_type": "code",
   "execution_count": 41,
   "metadata": {},
   "outputs": [
    {
     "data": {
      "text/plain": [
       "G        71556\n",
       "M         7374\n",
       "AC        5956\n",
       "113!!     5687\n",
       "AF        3568\n",
       "I         2605\n",
       "P         1975\n",
       "AG        1712\n",
       "V         1673\n",
       "X         1635\n",
       "T         1608\n",
       "W         1497\n",
       "B         1358\n",
       "Y         1282\n",
       "AB        1273\n",
       "N         1186\n",
       "AJ         872\n",
       "AH         797\n",
       "C          707\n",
       "Name: v113, dtype: int64"
      ]
     },
     "execution_count": 41,
     "metadata": {},
     "output_type": "execute_result"
    }
   ],
   "source": [
    "v113_dict = ['G','M','AC','AF','I','P','AG','V','X','T','W','B','Y','AB','N','AJ','AH','C']\n",
    "df_cat.loc[~df_cat[\"v113\"].isin(v113_dict), \"v113\"] = \"113!!\"\n",
    "df_cat['v113'].value_counts()"
   ]
  },
  {
   "cell_type": "markdown",
   "metadata": {},
   "source": [
    "# Variable 'v125' Combinations"
   ]
  },
  {
   "cell_type": "code",
   "execution_count": 42,
   "metadata": {},
   "outputs": [
    {
     "data": {
      "text/plain": [
       "BM    5836\n",
       "AK    5337\n",
       "BJ    4465\n",
       "CG    3826\n",
       "AP    3410\n",
       "      ... \n",
       "AB     189\n",
       "AJ      82\n",
       "BB      68\n",
       "AX      13\n",
       "BZ       3\n",
       "Name: v125, Length: 90, dtype: int64"
      ]
     },
     "execution_count": 42,
     "metadata": {},
     "output_type": "execute_result"
    }
   ],
   "source": [
    "df_cat['v125'].value_counts()"
   ]
  },
  {
   "cell_type": "code",
   "execution_count": 43,
   "metadata": {},
   "outputs": [
    {
     "data": {
      "text/plain": [
       "125!!    91447\n",
       "BM        5836\n",
       "AK        5337\n",
       "BJ        4465\n",
       "CG        3826\n",
       "AP        3410\n",
       "Name: v125, dtype: int64"
      ]
     },
     "execution_count": 43,
     "metadata": {},
     "output_type": "execute_result"
    }
   ],
   "source": [
    "v125_dict = ['BM','AK','BJ','CG','AP']\n",
    "df_cat.loc[~df_cat[\"v125\"].isin(v125_dict), \"v125\"] = \"125!!\"\n",
    "df_cat['v125'].value_counts()"
   ]
  },
  {
   "cell_type": "markdown",
   "metadata": {},
   "source": [
    "# Label Encoding the Entire DF_Cat Data Set"
   ]
  },
  {
   "cell_type": "code",
   "execution_count": 44,
   "metadata": {},
   "outputs": [],
   "source": [
    "# Import labelEncoder from sklearn\n",
    "# Create one hot encoder object by default\n",
    "# The entire df_cat dataframe is one hot encoded\n",
    "\n",
    "from sklearn.preprocessing import LabelEncoder\n",
    "le = LabelEncoder()\n",
    "df_cat1 = df_cat.apply(le.fit_transform)"
   ]
  },
  {
   "cell_type": "code",
   "execution_count": 45,
   "metadata": {},
   "outputs": [
    {
     "data": {
      "text/html": [
       "<div>\n",
       "<style scoped>\n",
       "    .dataframe tbody tr th:only-of-type {\n",
       "        vertical-align: middle;\n",
       "    }\n",
       "\n",
       "    .dataframe tbody tr th {\n",
       "        vertical-align: top;\n",
       "    }\n",
       "\n",
       "    .dataframe thead th {\n",
       "        text-align: right;\n",
       "    }\n",
       "</style>\n",
       "<table border=\"1\" class=\"dataframe\">\n",
       "  <thead>\n",
       "    <tr style=\"text-align: right;\">\n",
       "      <th></th>\n",
       "      <th>v3</th>\n",
       "      <th>v22</th>\n",
       "      <th>v24</th>\n",
       "      <th>v30</th>\n",
       "      <th>v31</th>\n",
       "      <th>v47</th>\n",
       "      <th>v52</th>\n",
       "      <th>v56</th>\n",
       "      <th>v66</th>\n",
       "      <th>v71</th>\n",
       "      <th>v74</th>\n",
       "      <th>v75</th>\n",
       "      <th>v79</th>\n",
       "      <th>v91</th>\n",
       "      <th>v107</th>\n",
       "      <th>v110</th>\n",
       "      <th>v112</th>\n",
       "      <th>v113</th>\n",
       "      <th>v125</th>\n",
       "    </tr>\n",
       "  </thead>\n",
       "  <tbody>\n",
       "    <tr>\n",
       "      <th>0</th>\n",
       "      <td>1</td>\n",
       "      <td>2</td>\n",
       "      <td>1</td>\n",
       "      <td>0</td>\n",
       "      <td>0</td>\n",
       "      <td>0</td>\n",
       "      <td>5</td>\n",
       "      <td>5</td>\n",
       "      <td>2</td>\n",
       "      <td>2</td>\n",
       "      <td>0</td>\n",
       "      <td>2</td>\n",
       "      <td>3</td>\n",
       "      <td>0</td>\n",
       "      <td>4</td>\n",
       "      <td>1</td>\n",
       "      <td>11</td>\n",
       "      <td>9</td>\n",
       "      <td>0</td>\n",
       "    </tr>\n",
       "    <tr>\n",
       "      <th>1</th>\n",
       "      <td>1</td>\n",
       "      <td>2</td>\n",
       "      <td>1</td>\n",
       "      <td>0</td>\n",
       "      <td>0</td>\n",
       "      <td>1</td>\n",
       "      <td>5</td>\n",
       "      <td>4</td>\n",
       "      <td>0</td>\n",
       "      <td>2</td>\n",
       "      <td>0</td>\n",
       "      <td>2</td>\n",
       "      <td>2</td>\n",
       "      <td>1</td>\n",
       "      <td>1</td>\n",
       "      <td>0</td>\n",
       "      <td>15</td>\n",
       "      <td>9</td>\n",
       "      <td>0</td>\n",
       "    </tr>\n",
       "    <tr>\n",
       "      <th>2</th>\n",
       "      <td>1</td>\n",
       "      <td>2</td>\n",
       "      <td>3</td>\n",
       "      <td>0</td>\n",
       "      <td>0</td>\n",
       "      <td>0</td>\n",
       "      <td>4</td>\n",
       "      <td>0</td>\n",
       "      <td>0</td>\n",
       "      <td>0</td>\n",
       "      <td>0</td>\n",
       "      <td>0</td>\n",
       "      <td>3</td>\n",
       "      <td>5</td>\n",
       "      <td>2</td>\n",
       "      <td>1</td>\n",
       "      <td>0</td>\n",
       "      <td>9</td>\n",
       "      <td>0</td>\n",
       "    </tr>\n",
       "    <tr>\n",
       "      <th>3</th>\n",
       "      <td>1</td>\n",
       "      <td>2</td>\n",
       "      <td>2</td>\n",
       "      <td>0</td>\n",
       "      <td>1</td>\n",
       "      <td>0</td>\n",
       "      <td>8</td>\n",
       "      <td>2</td>\n",
       "      <td>0</td>\n",
       "      <td>2</td>\n",
       "      <td>0</td>\n",
       "      <td>2</td>\n",
       "      <td>0</td>\n",
       "      <td>1</td>\n",
       "      <td>1</td>\n",
       "      <td>1</td>\n",
       "      <td>7</td>\n",
       "      <td>9</td>\n",
       "      <td>0</td>\n",
       "    </tr>\n",
       "    <tr>\n",
       "      <th>4</th>\n",
       "      <td>1</td>\n",
       "      <td>2</td>\n",
       "      <td>3</td>\n",
       "      <td>0</td>\n",
       "      <td>0</td>\n",
       "      <td>4</td>\n",
       "      <td>8</td>\n",
       "      <td>2</td>\n",
       "      <td>2</td>\n",
       "      <td>2</td>\n",
       "      <td>0</td>\n",
       "      <td>2</td>\n",
       "      <td>1</td>\n",
       "      <td>5</td>\n",
       "      <td>2</td>\n",
       "      <td>0</td>\n",
       "      <td>14</td>\n",
       "      <td>9</td>\n",
       "      <td>0</td>\n",
       "    </tr>\n",
       "  </tbody>\n",
       "</table>\n",
       "</div>"
      ],
      "text/plain": [
       "   v3  v22  v24  v30  v31  v47  v52  v56  v66  v71  v74  v75  v79  v91  v107  \\\n",
       "0   1    2    1    0    0    0    5    5    2    2    0    2    3    0     4   \n",
       "1   1    2    1    0    0    1    5    4    0    2    0    2    2    1     1   \n",
       "2   1    2    3    0    0    0    4    0    0    0    0    0    3    5     2   \n",
       "3   1    2    2    0    1    0    8    2    0    2    0    2    0    1     1   \n",
       "4   1    2    3    0    0    4    8    2    2    2    0    2    1    5     2   \n",
       "\n",
       "   v110  v112  v113  v125  \n",
       "0     1    11     9     0  \n",
       "1     0    15     9     0  \n",
       "2     1     0     9     0  \n",
       "3     1     7     9     0  \n",
       "4     0    14     9     0  "
      ]
     },
     "execution_count": 45,
     "metadata": {},
     "output_type": "execute_result"
    }
   ],
   "source": [
    "df_cat1.head(5)"
   ]
  },
  {
   "cell_type": "markdown",
   "metadata": {},
   "source": [
    "# Creating dataframe with  numerical features"
   ]
  },
  {
   "cell_type": "code",
   "execution_count": 46,
   "metadata": {},
   "outputs": [
    {
     "name": "stdout",
     "output_type": "stream",
     "text": [
      "<class 'pandas.core.frame.DataFrame'>\n",
      "RangeIndex: 114321 entries, 0 to 114320\n",
      "Columns: 114 entries, ID to v131\n",
      "dtypes: float64(108), int64(6)\n",
      "memory usage: 99.4 MB\n"
     ]
    },
    {
     "data": {
      "text/html": [
       "<div>\n",
       "<style scoped>\n",
       "    .dataframe tbody tr th:only-of-type {\n",
       "        vertical-align: middle;\n",
       "    }\n",
       "\n",
       "    .dataframe tbody tr th {\n",
       "        vertical-align: top;\n",
       "    }\n",
       "\n",
       "    .dataframe thead th {\n",
       "        text-align: right;\n",
       "    }\n",
       "</style>\n",
       "<table border=\"1\" class=\"dataframe\">\n",
       "  <thead>\n",
       "    <tr style=\"text-align: right;\">\n",
       "      <th></th>\n",
       "      <th>ID</th>\n",
       "      <th>target</th>\n",
       "      <th>v1</th>\n",
       "      <th>v2</th>\n",
       "      <th>v4</th>\n",
       "      <th>v5</th>\n",
       "      <th>v6</th>\n",
       "      <th>v7</th>\n",
       "      <th>v8</th>\n",
       "      <th>v9</th>\n",
       "      <th>...</th>\n",
       "      <th>v121</th>\n",
       "      <th>v122</th>\n",
       "      <th>v123</th>\n",
       "      <th>v124</th>\n",
       "      <th>v126</th>\n",
       "      <th>v127</th>\n",
       "      <th>v128</th>\n",
       "      <th>v129</th>\n",
       "      <th>v130</th>\n",
       "      <th>v131</th>\n",
       "    </tr>\n",
       "  </thead>\n",
       "  <tbody>\n",
       "    <tr>\n",
       "      <th>0</th>\n",
       "      <td>3</td>\n",
       "      <td>1</td>\n",
       "      <td>1.335739</td>\n",
       "      <td>8.727474</td>\n",
       "      <td>3.921026</td>\n",
       "      <td>7.915266</td>\n",
       "      <td>2.599278</td>\n",
       "      <td>3.176895</td>\n",
       "      <td>0.012941</td>\n",
       "      <td>9.999999</td>\n",
       "      <td>...</td>\n",
       "      <td>0.803572</td>\n",
       "      <td>8.000000</td>\n",
       "      <td>1.989780</td>\n",
       "      <td>0.035754</td>\n",
       "      <td>1.804126</td>\n",
       "      <td>3.113719</td>\n",
       "      <td>2.024285</td>\n",
       "      <td>0</td>\n",
       "      <td>0.636365</td>\n",
       "      <td>2.857144</td>\n",
       "    </tr>\n",
       "    <tr>\n",
       "      <th>1</th>\n",
       "      <td>4</td>\n",
       "      <td>1</td>\n",
       "      <td>1.630686</td>\n",
       "      <td>7.464411</td>\n",
       "      <td>4.145098</td>\n",
       "      <td>9.191265</td>\n",
       "      <td>2.436402</td>\n",
       "      <td>2.483921</td>\n",
       "      <td>2.301630</td>\n",
       "      <td>9.031859</td>\n",
       "      <td>...</td>\n",
       "      <td>2.737596</td>\n",
       "      <td>6.822439</td>\n",
       "      <td>3.549938</td>\n",
       "      <td>0.598896</td>\n",
       "      <td>1.672658</td>\n",
       "      <td>3.239542</td>\n",
       "      <td>1.957825</td>\n",
       "      <td>0</td>\n",
       "      <td>1.925763</td>\n",
       "      <td>1.739389</td>\n",
       "    </tr>\n",
       "    <tr>\n",
       "      <th>2</th>\n",
       "      <td>5</td>\n",
       "      <td>1</td>\n",
       "      <td>0.943877</td>\n",
       "      <td>5.310079</td>\n",
       "      <td>4.410969</td>\n",
       "      <td>5.326159</td>\n",
       "      <td>3.979592</td>\n",
       "      <td>3.928571</td>\n",
       "      <td>0.019645</td>\n",
       "      <td>12.666667</td>\n",
       "      <td>...</td>\n",
       "      <td>2.238806</td>\n",
       "      <td>9.333333</td>\n",
       "      <td>2.477596</td>\n",
       "      <td>0.013452</td>\n",
       "      <td>1.773709</td>\n",
       "      <td>3.922193</td>\n",
       "      <td>1.120468</td>\n",
       "      <td>2</td>\n",
       "      <td>0.883118</td>\n",
       "      <td>1.176472</td>\n",
       "    </tr>\n",
       "    <tr>\n",
       "      <th>3</th>\n",
       "      <td>6</td>\n",
       "      <td>1</td>\n",
       "      <td>0.797415</td>\n",
       "      <td>8.304757</td>\n",
       "      <td>4.225930</td>\n",
       "      <td>11.627438</td>\n",
       "      <td>2.097700</td>\n",
       "      <td>1.987549</td>\n",
       "      <td>0.171947</td>\n",
       "      <td>8.965516</td>\n",
       "      <td>...</td>\n",
       "      <td>1.956521</td>\n",
       "      <td>7.018256</td>\n",
       "      <td>1.812795</td>\n",
       "      <td>0.002267</td>\n",
       "      <td>1.415230</td>\n",
       "      <td>2.954381</td>\n",
       "      <td>1.990847</td>\n",
       "      <td>1</td>\n",
       "      <td>1.677108</td>\n",
       "      <td>1.034483</td>\n",
       "    </tr>\n",
       "    <tr>\n",
       "      <th>4</th>\n",
       "      <td>8</td>\n",
       "      <td>1</td>\n",
       "      <td>1.630686</td>\n",
       "      <td>7.464411</td>\n",
       "      <td>4.145098</td>\n",
       "      <td>8.742359</td>\n",
       "      <td>2.436402</td>\n",
       "      <td>2.483921</td>\n",
       "      <td>1.496569</td>\n",
       "      <td>9.031859</td>\n",
       "      <td>...</td>\n",
       "      <td>2.737596</td>\n",
       "      <td>6.822439</td>\n",
       "      <td>3.549938</td>\n",
       "      <td>0.919812</td>\n",
       "      <td>1.672658</td>\n",
       "      <td>3.239542</td>\n",
       "      <td>2.030373</td>\n",
       "      <td>0</td>\n",
       "      <td>1.925763</td>\n",
       "      <td>1.739389</td>\n",
       "    </tr>\n",
       "  </tbody>\n",
       "</table>\n",
       "<p>5 rows × 114 columns</p>\n",
       "</div>"
      ],
      "text/plain": [
       "   ID  target        v1        v2        v4         v5        v6        v7  \\\n",
       "0   3       1  1.335739  8.727474  3.921026   7.915266  2.599278  3.176895   \n",
       "1   4       1  1.630686  7.464411  4.145098   9.191265  2.436402  2.483921   \n",
       "2   5       1  0.943877  5.310079  4.410969   5.326159  3.979592  3.928571   \n",
       "3   6       1  0.797415  8.304757  4.225930  11.627438  2.097700  1.987549   \n",
       "4   8       1  1.630686  7.464411  4.145098   8.742359  2.436402  2.483921   \n",
       "\n",
       "         v8         v9  ...      v121      v122      v123      v124      v126  \\\n",
       "0  0.012941   9.999999  ...  0.803572  8.000000  1.989780  0.035754  1.804126   \n",
       "1  2.301630   9.031859  ...  2.737596  6.822439  3.549938  0.598896  1.672658   \n",
       "2  0.019645  12.666667  ...  2.238806  9.333333  2.477596  0.013452  1.773709   \n",
       "3  0.171947   8.965516  ...  1.956521  7.018256  1.812795  0.002267  1.415230   \n",
       "4  1.496569   9.031859  ...  2.737596  6.822439  3.549938  0.919812  1.672658   \n",
       "\n",
       "       v127      v128  v129      v130      v131  \n",
       "0  3.113719  2.024285     0  0.636365  2.857144  \n",
       "1  3.239542  1.957825     0  1.925763  1.739389  \n",
       "2  3.922193  1.120468     2  0.883118  1.176472  \n",
       "3  2.954381  1.990847     1  1.677108  1.034483  \n",
       "4  3.239542  2.030373     0  1.925763  1.739389  \n",
       "\n",
       "[5 rows x 114 columns]"
      ]
     },
     "execution_count": 46,
     "metadata": {},
     "output_type": "execute_result"
    }
   ],
   "source": [
    "df_num =df.select_dtypes(exclude='object')\n",
    "df_num.info()\n",
    "df_num.head(5)"
   ]
  },
  {
   "cell_type": "markdown",
   "metadata": {},
   "source": [
    "# Append df_num and df_cat1 (label encoded)"
   ]
  },
  {
   "cell_type": "code",
   "execution_count": 47,
   "metadata": {},
   "outputs": [
    {
     "data": {
      "text/html": [
       "<div>\n",
       "<style scoped>\n",
       "    .dataframe tbody tr th:only-of-type {\n",
       "        vertical-align: middle;\n",
       "    }\n",
       "\n",
       "    .dataframe tbody tr th {\n",
       "        vertical-align: top;\n",
       "    }\n",
       "\n",
       "    .dataframe thead th {\n",
       "        text-align: right;\n",
       "    }\n",
       "</style>\n",
       "<table border=\"1\" class=\"dataframe\">\n",
       "  <thead>\n",
       "    <tr style=\"text-align: right;\">\n",
       "      <th></th>\n",
       "      <th>ID</th>\n",
       "      <th>target</th>\n",
       "      <th>v1</th>\n",
       "      <th>v2</th>\n",
       "      <th>v4</th>\n",
       "      <th>v5</th>\n",
       "      <th>v6</th>\n",
       "      <th>v7</th>\n",
       "      <th>v8</th>\n",
       "      <th>v9</th>\n",
       "      <th>...</th>\n",
       "      <th>v71</th>\n",
       "      <th>v74</th>\n",
       "      <th>v75</th>\n",
       "      <th>v79</th>\n",
       "      <th>v91</th>\n",
       "      <th>v107</th>\n",
       "      <th>v110</th>\n",
       "      <th>v112</th>\n",
       "      <th>v113</th>\n",
       "      <th>v125</th>\n",
       "    </tr>\n",
       "  </thead>\n",
       "  <tbody>\n",
       "    <tr>\n",
       "      <th>0</th>\n",
       "      <td>3</td>\n",
       "      <td>1</td>\n",
       "      <td>1.335739</td>\n",
       "      <td>8.727474</td>\n",
       "      <td>3.921026</td>\n",
       "      <td>7.915266</td>\n",
       "      <td>2.599278</td>\n",
       "      <td>3.176895</td>\n",
       "      <td>0.012941</td>\n",
       "      <td>9.999999</td>\n",
       "      <td>...</td>\n",
       "      <td>2</td>\n",
       "      <td>0</td>\n",
       "      <td>2</td>\n",
       "      <td>3</td>\n",
       "      <td>0</td>\n",
       "      <td>4</td>\n",
       "      <td>1</td>\n",
       "      <td>11</td>\n",
       "      <td>9</td>\n",
       "      <td>0</td>\n",
       "    </tr>\n",
       "    <tr>\n",
       "      <th>1</th>\n",
       "      <td>4</td>\n",
       "      <td>1</td>\n",
       "      <td>1.630686</td>\n",
       "      <td>7.464411</td>\n",
       "      <td>4.145098</td>\n",
       "      <td>9.191265</td>\n",
       "      <td>2.436402</td>\n",
       "      <td>2.483921</td>\n",
       "      <td>2.301630</td>\n",
       "      <td>9.031859</td>\n",
       "      <td>...</td>\n",
       "      <td>2</td>\n",
       "      <td>0</td>\n",
       "      <td>2</td>\n",
       "      <td>2</td>\n",
       "      <td>1</td>\n",
       "      <td>1</td>\n",
       "      <td>0</td>\n",
       "      <td>15</td>\n",
       "      <td>9</td>\n",
       "      <td>0</td>\n",
       "    </tr>\n",
       "    <tr>\n",
       "      <th>2</th>\n",
       "      <td>5</td>\n",
       "      <td>1</td>\n",
       "      <td>0.943877</td>\n",
       "      <td>5.310079</td>\n",
       "      <td>4.410969</td>\n",
       "      <td>5.326159</td>\n",
       "      <td>3.979592</td>\n",
       "      <td>3.928571</td>\n",
       "      <td>0.019645</td>\n",
       "      <td>12.666667</td>\n",
       "      <td>...</td>\n",
       "      <td>0</td>\n",
       "      <td>0</td>\n",
       "      <td>0</td>\n",
       "      <td>3</td>\n",
       "      <td>5</td>\n",
       "      <td>2</td>\n",
       "      <td>1</td>\n",
       "      <td>0</td>\n",
       "      <td>9</td>\n",
       "      <td>0</td>\n",
       "    </tr>\n",
       "    <tr>\n",
       "      <th>3</th>\n",
       "      <td>6</td>\n",
       "      <td>1</td>\n",
       "      <td>0.797415</td>\n",
       "      <td>8.304757</td>\n",
       "      <td>4.225930</td>\n",
       "      <td>11.627438</td>\n",
       "      <td>2.097700</td>\n",
       "      <td>1.987549</td>\n",
       "      <td>0.171947</td>\n",
       "      <td>8.965516</td>\n",
       "      <td>...</td>\n",
       "      <td>2</td>\n",
       "      <td>0</td>\n",
       "      <td>2</td>\n",
       "      <td>0</td>\n",
       "      <td>1</td>\n",
       "      <td>1</td>\n",
       "      <td>1</td>\n",
       "      <td>7</td>\n",
       "      <td>9</td>\n",
       "      <td>0</td>\n",
       "    </tr>\n",
       "    <tr>\n",
       "      <th>4</th>\n",
       "      <td>8</td>\n",
       "      <td>1</td>\n",
       "      <td>1.630686</td>\n",
       "      <td>7.464411</td>\n",
       "      <td>4.145098</td>\n",
       "      <td>8.742359</td>\n",
       "      <td>2.436402</td>\n",
       "      <td>2.483921</td>\n",
       "      <td>1.496569</td>\n",
       "      <td>9.031859</td>\n",
       "      <td>...</td>\n",
       "      <td>2</td>\n",
       "      <td>0</td>\n",
       "      <td>2</td>\n",
       "      <td>1</td>\n",
       "      <td>5</td>\n",
       "      <td>2</td>\n",
       "      <td>0</td>\n",
       "      <td>14</td>\n",
       "      <td>9</td>\n",
       "      <td>0</td>\n",
       "    </tr>\n",
       "    <tr>\n",
       "      <th>...</th>\n",
       "      <td>...</td>\n",
       "      <td>...</td>\n",
       "      <td>...</td>\n",
       "      <td>...</td>\n",
       "      <td>...</td>\n",
       "      <td>...</td>\n",
       "      <td>...</td>\n",
       "      <td>...</td>\n",
       "      <td>...</td>\n",
       "      <td>...</td>\n",
       "      <td>...</td>\n",
       "      <td>...</td>\n",
       "      <td>...</td>\n",
       "      <td>...</td>\n",
       "      <td>...</td>\n",
       "      <td>...</td>\n",
       "      <td>...</td>\n",
       "      <td>...</td>\n",
       "      <td>...</td>\n",
       "      <td>...</td>\n",
       "      <td>...</td>\n",
       "    </tr>\n",
       "    <tr>\n",
       "      <th>114316</th>\n",
       "      <td>228708</td>\n",
       "      <td>1</td>\n",
       "      <td>1.630686</td>\n",
       "      <td>7.464411</td>\n",
       "      <td>4.145098</td>\n",
       "      <td>8.742359</td>\n",
       "      <td>2.436402</td>\n",
       "      <td>2.483921</td>\n",
       "      <td>1.496569</td>\n",
       "      <td>9.031859</td>\n",
       "      <td>...</td>\n",
       "      <td>0</td>\n",
       "      <td>0</td>\n",
       "      <td>0</td>\n",
       "      <td>1</td>\n",
       "      <td>0</td>\n",
       "      <td>4</td>\n",
       "      <td>0</td>\n",
       "      <td>15</td>\n",
       "      <td>9</td>\n",
       "      <td>0</td>\n",
       "    </tr>\n",
       "    <tr>\n",
       "      <th>114317</th>\n",
       "      <td>228710</td>\n",
       "      <td>1</td>\n",
       "      <td>1.630686</td>\n",
       "      <td>7.464411</td>\n",
       "      <td>4.145098</td>\n",
       "      <td>8.742359</td>\n",
       "      <td>2.436402</td>\n",
       "      <td>2.483921</td>\n",
       "      <td>1.496569</td>\n",
       "      <td>9.031859</td>\n",
       "      <td>...</td>\n",
       "      <td>2</td>\n",
       "      <td>0</td>\n",
       "      <td>2</td>\n",
       "      <td>0</td>\n",
       "      <td>5</td>\n",
       "      <td>2</td>\n",
       "      <td>1</td>\n",
       "      <td>7</td>\n",
       "      <td>9</td>\n",
       "      <td>0</td>\n",
       "    </tr>\n",
       "    <tr>\n",
       "      <th>114318</th>\n",
       "      <td>228711</td>\n",
       "      <td>1</td>\n",
       "      <td>1.630686</td>\n",
       "      <td>7.464411</td>\n",
       "      <td>4.145098</td>\n",
       "      <td>10.069277</td>\n",
       "      <td>2.436402</td>\n",
       "      <td>2.483921</td>\n",
       "      <td>0.323324</td>\n",
       "      <td>9.031859</td>\n",
       "      <td>...</td>\n",
       "      <td>0</td>\n",
       "      <td>0</td>\n",
       "      <td>0</td>\n",
       "      <td>0</td>\n",
       "      <td>5</td>\n",
       "      <td>2</td>\n",
       "      <td>1</td>\n",
       "      <td>13</td>\n",
       "      <td>9</td>\n",
       "      <td>0</td>\n",
       "    </tr>\n",
       "    <tr>\n",
       "      <th>114319</th>\n",
       "      <td>228712</td>\n",
       "      <td>1</td>\n",
       "      <td>1.630686</td>\n",
       "      <td>7.464411</td>\n",
       "      <td>4.145098</td>\n",
       "      <td>10.106144</td>\n",
       "      <td>2.436402</td>\n",
       "      <td>2.483921</td>\n",
       "      <td>0.309226</td>\n",
       "      <td>9.031859</td>\n",
       "      <td>...</td>\n",
       "      <td>2</td>\n",
       "      <td>0</td>\n",
       "      <td>2</td>\n",
       "      <td>3</td>\n",
       "      <td>0</td>\n",
       "      <td>4</td>\n",
       "      <td>1</td>\n",
       "      <td>1</td>\n",
       "      <td>9</td>\n",
       "      <td>0</td>\n",
       "    </tr>\n",
       "    <tr>\n",
       "      <th>114320</th>\n",
       "      <td>228713</td>\n",
       "      <td>1</td>\n",
       "      <td>1.619763</td>\n",
       "      <td>7.932978</td>\n",
       "      <td>4.640085</td>\n",
       "      <td>8.473141</td>\n",
       "      <td>2.351470</td>\n",
       "      <td>2.826766</td>\n",
       "      <td>3.479754</td>\n",
       "      <td>9.629630</td>\n",
       "      <td>...</td>\n",
       "      <td>2</td>\n",
       "      <td>0</td>\n",
       "      <td>2</td>\n",
       "      <td>3</td>\n",
       "      <td>4</td>\n",
       "      <td>0</td>\n",
       "      <td>1</td>\n",
       "      <td>1</td>\n",
       "      <td>9</td>\n",
       "      <td>0</td>\n",
       "    </tr>\n",
       "  </tbody>\n",
       "</table>\n",
       "<p>114321 rows × 133 columns</p>\n",
       "</div>"
      ],
      "text/plain": [
       "            ID  target        v1        v2        v4         v5        v6  \\\n",
       "0            3       1  1.335739  8.727474  3.921026   7.915266  2.599278   \n",
       "1            4       1  1.630686  7.464411  4.145098   9.191265  2.436402   \n",
       "2            5       1  0.943877  5.310079  4.410969   5.326159  3.979592   \n",
       "3            6       1  0.797415  8.304757  4.225930  11.627438  2.097700   \n",
       "4            8       1  1.630686  7.464411  4.145098   8.742359  2.436402   \n",
       "...        ...     ...       ...       ...       ...        ...       ...   \n",
       "114316  228708       1  1.630686  7.464411  4.145098   8.742359  2.436402   \n",
       "114317  228710       1  1.630686  7.464411  4.145098   8.742359  2.436402   \n",
       "114318  228711       1  1.630686  7.464411  4.145098  10.069277  2.436402   \n",
       "114319  228712       1  1.630686  7.464411  4.145098  10.106144  2.436402   \n",
       "114320  228713       1  1.619763  7.932978  4.640085   8.473141  2.351470   \n",
       "\n",
       "              v7        v8         v9  ...  v71  v74  v75  v79  v91  v107  \\\n",
       "0       3.176895  0.012941   9.999999  ...    2    0    2    3    0     4   \n",
       "1       2.483921  2.301630   9.031859  ...    2    0    2    2    1     1   \n",
       "2       3.928571  0.019645  12.666667  ...    0    0    0    3    5     2   \n",
       "3       1.987549  0.171947   8.965516  ...    2    0    2    0    1     1   \n",
       "4       2.483921  1.496569   9.031859  ...    2    0    2    1    5     2   \n",
       "...          ...       ...        ...  ...  ...  ...  ...  ...  ...   ...   \n",
       "114316  2.483921  1.496569   9.031859  ...    0    0    0    1    0     4   \n",
       "114317  2.483921  1.496569   9.031859  ...    2    0    2    0    5     2   \n",
       "114318  2.483921  0.323324   9.031859  ...    0    0    0    0    5     2   \n",
       "114319  2.483921  0.309226   9.031859  ...    2    0    2    3    0     4   \n",
       "114320  2.826766  3.479754   9.629630  ...    2    0    2    3    4     0   \n",
       "\n",
       "        v110  v112  v113  v125  \n",
       "0          1    11     9     0  \n",
       "1          0    15     9     0  \n",
       "2          1     0     9     0  \n",
       "3          1     7     9     0  \n",
       "4          0    14     9     0  \n",
       "...      ...   ...   ...   ...  \n",
       "114316     0    15     9     0  \n",
       "114317     1     7     9     0  \n",
       "114318     1    13     9     0  \n",
       "114319     1     1     9     0  \n",
       "114320     1     1     9     0  \n",
       "\n",
       "[114321 rows x 133 columns]"
      ]
     },
     "execution_count": 47,
     "metadata": {},
     "output_type": "execute_result"
    }
   ],
   "source": [
    "horizontal_stack = pd.concat([df_num, df_cat1], axis=1)\n",
    "horizontal_stack"
   ]
  },
  {
   "cell_type": "code",
   "execution_count": 48,
   "metadata": {},
   "outputs": [],
   "source": [
    "horizontal_stack.to_csv('raw_data.csv', index=False)"
   ]
  },
  {
   "cell_type": "code",
   "execution_count": null,
   "metadata": {},
   "outputs": [],
   "source": [
    "# Testing Duration of Time for SVM using samples of n= {1000,2000,5000,10,000 and 50,000}"
   ]
  },
  {
   "cell_type": "code",
   "execution_count": 49,
   "metadata": {},
   "outputs": [],
   "source": [
    "df_H1000 = horizontal_stack.sample(n=1000, random_state = 101)"
   ]
  },
  {
   "cell_type": "code",
   "execution_count": 50,
   "metadata": {},
   "outputs": [],
   "source": [
    "# Support Vector Machine with Hyperparameter Tuning \n",
    "\n",
    "# Separate target and feature variables into separate data sets\n",
    "\n",
    "Y1000 = df_H1000['target']\n",
    "X1000 = df_H1000.drop(['target'],axis = 1)\n"
   ]
  },
  {
   "cell_type": "code",
   "execution_count": 51,
   "metadata": {},
   "outputs": [
    {
     "data": {
      "text/html": [
       "<div>\n",
       "<style scoped>\n",
       "    .dataframe tbody tr th:only-of-type {\n",
       "        vertical-align: middle;\n",
       "    }\n",
       "\n",
       "    .dataframe tbody tr th {\n",
       "        vertical-align: top;\n",
       "    }\n",
       "\n",
       "    .dataframe thead th {\n",
       "        text-align: right;\n",
       "    }\n",
       "</style>\n",
       "<table border=\"1\" class=\"dataframe\">\n",
       "  <thead>\n",
       "    <tr style=\"text-align: right;\">\n",
       "      <th></th>\n",
       "      <th>ID</th>\n",
       "      <th>v1</th>\n",
       "      <th>v2</th>\n",
       "      <th>v4</th>\n",
       "      <th>v5</th>\n",
       "      <th>v6</th>\n",
       "      <th>v7</th>\n",
       "      <th>v8</th>\n",
       "      <th>v9</th>\n",
       "      <th>v10</th>\n",
       "      <th>...</th>\n",
       "      <th>v71</th>\n",
       "      <th>v74</th>\n",
       "      <th>v75</th>\n",
       "      <th>v79</th>\n",
       "      <th>v91</th>\n",
       "      <th>v107</th>\n",
       "      <th>v110</th>\n",
       "      <th>v112</th>\n",
       "      <th>v113</th>\n",
       "      <th>v125</th>\n",
       "    </tr>\n",
       "  </thead>\n",
       "  <tbody>\n",
       "    <tr>\n",
       "      <th>16140</th>\n",
       "      <td>32411</td>\n",
       "      <td>0.916977</td>\n",
       "      <td>10.959701</td>\n",
       "      <td>3.834475</td>\n",
       "      <td>7.812437</td>\n",
       "      <td>2.589840</td>\n",
       "      <td>3.060718</td>\n",
       "      <td>6.088222</td>\n",
       "      <td>7.142858</td>\n",
       "      <td>1.838075</td>\n",
       "      <td>...</td>\n",
       "      <td>2</td>\n",
       "      <td>0</td>\n",
       "      <td>2</td>\n",
       "      <td>1</td>\n",
       "      <td>0</td>\n",
       "      <td>4</td>\n",
       "      <td>0</td>\n",
       "      <td>13</td>\n",
       "      <td>2</td>\n",
       "      <td>0</td>\n",
       "    </tr>\n",
       "    <tr>\n",
       "      <th>12090</th>\n",
       "      <td>24225</td>\n",
       "      <td>1.630686</td>\n",
       "      <td>7.464411</td>\n",
       "      <td>4.145098</td>\n",
       "      <td>8.742359</td>\n",
       "      <td>2.436402</td>\n",
       "      <td>2.483921</td>\n",
       "      <td>1.496569</td>\n",
       "      <td>9.031859</td>\n",
       "      <td>0.787745</td>\n",
       "      <td>...</td>\n",
       "      <td>2</td>\n",
       "      <td>0</td>\n",
       "      <td>2</td>\n",
       "      <td>6</td>\n",
       "      <td>4</td>\n",
       "      <td>0</td>\n",
       "      <td>0</td>\n",
       "      <td>4</td>\n",
       "      <td>11</td>\n",
       "      <td>2</td>\n",
       "    </tr>\n",
       "    <tr>\n",
       "      <th>8130</th>\n",
       "      <td>16215</td>\n",
       "      <td>1.793939</td>\n",
       "      <td>7.083087</td>\n",
       "      <td>4.919902</td>\n",
       "      <td>7.531944</td>\n",
       "      <td>2.133333</td>\n",
       "      <td>3.006061</td>\n",
       "      <td>0.035744</td>\n",
       "      <td>7.719298</td>\n",
       "      <td>1.050329</td>\n",
       "      <td>...</td>\n",
       "      <td>2</td>\n",
       "      <td>0</td>\n",
       "      <td>2</td>\n",
       "      <td>1</td>\n",
       "      <td>1</td>\n",
       "      <td>1</td>\n",
       "      <td>0</td>\n",
       "      <td>3</td>\n",
       "      <td>11</td>\n",
       "      <td>0</td>\n",
       "    </tr>\n",
       "    <tr>\n",
       "      <th>88034</th>\n",
       "      <td>175818</td>\n",
       "      <td>1.992630</td>\n",
       "      <td>3.495210</td>\n",
       "      <td>3.570470</td>\n",
       "      <td>8.866604</td>\n",
       "      <td>3.174603</td>\n",
       "      <td>2.692744</td>\n",
       "      <td>17.297778</td>\n",
       "      <td>7.404845</td>\n",
       "      <td>0.722101</td>\n",
       "      <td>...</td>\n",
       "      <td>2</td>\n",
       "      <td>0</td>\n",
       "      <td>2</td>\n",
       "      <td>3</td>\n",
       "      <td>2</td>\n",
       "      <td>3</td>\n",
       "      <td>1</td>\n",
       "      <td>0</td>\n",
       "      <td>9</td>\n",
       "      <td>0</td>\n",
       "    </tr>\n",
       "    <tr>\n",
       "      <th>100381</th>\n",
       "      <td>200583</td>\n",
       "      <td>1.630686</td>\n",
       "      <td>7.464411</td>\n",
       "      <td>4.145098</td>\n",
       "      <td>8.742359</td>\n",
       "      <td>2.436402</td>\n",
       "      <td>2.483921</td>\n",
       "      <td>1.496569</td>\n",
       "      <td>9.031859</td>\n",
       "      <td>1.312910</td>\n",
       "      <td>...</td>\n",
       "      <td>0</td>\n",
       "      <td>0</td>\n",
       "      <td>0</td>\n",
       "      <td>1</td>\n",
       "      <td>0</td>\n",
       "      <td>4</td>\n",
       "      <td>0</td>\n",
       "      <td>14</td>\n",
       "      <td>7</td>\n",
       "      <td>0</td>\n",
       "    </tr>\n",
       "    <tr>\n",
       "      <th>...</th>\n",
       "      <td>...</td>\n",
       "      <td>...</td>\n",
       "      <td>...</td>\n",
       "      <td>...</td>\n",
       "      <td>...</td>\n",
       "      <td>...</td>\n",
       "      <td>...</td>\n",
       "      <td>...</td>\n",
       "      <td>...</td>\n",
       "      <td>...</td>\n",
       "      <td>...</td>\n",
       "      <td>...</td>\n",
       "      <td>...</td>\n",
       "      <td>...</td>\n",
       "      <td>...</td>\n",
       "      <td>...</td>\n",
       "      <td>...</td>\n",
       "      <td>...</td>\n",
       "      <td>...</td>\n",
       "      <td>...</td>\n",
       "      <td>...</td>\n",
       "    </tr>\n",
       "    <tr>\n",
       "      <th>82771</th>\n",
       "      <td>165226</td>\n",
       "      <td>1.630686</td>\n",
       "      <td>7.464411</td>\n",
       "      <td>4.145098</td>\n",
       "      <td>8.742359</td>\n",
       "      <td>2.436402</td>\n",
       "      <td>2.483921</td>\n",
       "      <td>1.496569</td>\n",
       "      <td>9.031859</td>\n",
       "      <td>1.575492</td>\n",
       "      <td>...</td>\n",
       "      <td>2</td>\n",
       "      <td>0</td>\n",
       "      <td>2</td>\n",
       "      <td>1</td>\n",
       "      <td>0</td>\n",
       "      <td>4</td>\n",
       "      <td>0</td>\n",
       "      <td>10</td>\n",
       "      <td>15</td>\n",
       "      <td>1</td>\n",
       "    </tr>\n",
       "    <tr>\n",
       "      <th>95427</th>\n",
       "      <td>190712</td>\n",
       "      <td>1.630686</td>\n",
       "      <td>7.464411</td>\n",
       "      <td>4.145098</td>\n",
       "      <td>8.742359</td>\n",
       "      <td>2.436402</td>\n",
       "      <td>2.483921</td>\n",
       "      <td>1.496569</td>\n",
       "      <td>9.031859</td>\n",
       "      <td>1.312910</td>\n",
       "      <td>...</td>\n",
       "      <td>2</td>\n",
       "      <td>0</td>\n",
       "      <td>2</td>\n",
       "      <td>1</td>\n",
       "      <td>2</td>\n",
       "      <td>3</td>\n",
       "      <td>0</td>\n",
       "      <td>4</td>\n",
       "      <td>16</td>\n",
       "      <td>0</td>\n",
       "    </tr>\n",
       "    <tr>\n",
       "      <th>51505</th>\n",
       "      <td>102906</td>\n",
       "      <td>1.630686</td>\n",
       "      <td>7.464411</td>\n",
       "      <td>4.145098</td>\n",
       "      <td>8.742359</td>\n",
       "      <td>2.436402</td>\n",
       "      <td>2.483921</td>\n",
       "      <td>1.496569</td>\n",
       "      <td>9.031859</td>\n",
       "      <td>1.050328</td>\n",
       "      <td>...</td>\n",
       "      <td>2</td>\n",
       "      <td>0</td>\n",
       "      <td>2</td>\n",
       "      <td>1</td>\n",
       "      <td>2</td>\n",
       "      <td>3</td>\n",
       "      <td>0</td>\n",
       "      <td>4</td>\n",
       "      <td>15</td>\n",
       "      <td>0</td>\n",
       "    </tr>\n",
       "    <tr>\n",
       "      <th>4438</th>\n",
       "      <td>8835</td>\n",
       "      <td>1.963733</td>\n",
       "      <td>3.699428</td>\n",
       "      <td>4.192277</td>\n",
       "      <td>8.924797</td>\n",
       "      <td>3.591331</td>\n",
       "      <td>2.538699</td>\n",
       "      <td>1.962591</td>\n",
       "      <td>11.985294</td>\n",
       "      <td>1.028447</td>\n",
       "      <td>...</td>\n",
       "      <td>2</td>\n",
       "      <td>0</td>\n",
       "      <td>2</td>\n",
       "      <td>3</td>\n",
       "      <td>5</td>\n",
       "      <td>2</td>\n",
       "      <td>1</td>\n",
       "      <td>10</td>\n",
       "      <td>9</td>\n",
       "      <td>1</td>\n",
       "    </tr>\n",
       "    <tr>\n",
       "      <th>60506</th>\n",
       "      <td>120801</td>\n",
       "      <td>1.630686</td>\n",
       "      <td>7.464411</td>\n",
       "      <td>4.145098</td>\n",
       "      <td>8.742359</td>\n",
       "      <td>2.436402</td>\n",
       "      <td>2.483921</td>\n",
       "      <td>1.496569</td>\n",
       "      <td>9.031859</td>\n",
       "      <td>1.422320</td>\n",
       "      <td>...</td>\n",
       "      <td>1</td>\n",
       "      <td>0</td>\n",
       "      <td>0</td>\n",
       "      <td>1</td>\n",
       "      <td>0</td>\n",
       "      <td>4</td>\n",
       "      <td>0</td>\n",
       "      <td>4</td>\n",
       "      <td>16</td>\n",
       "      <td>0</td>\n",
       "    </tr>\n",
       "  </tbody>\n",
       "</table>\n",
       "<p>1000 rows × 132 columns</p>\n",
       "</div>"
      ],
      "text/plain": [
       "            ID        v1         v2        v4        v5        v6        v7  \\\n",
       "16140    32411  0.916977  10.959701  3.834475  7.812437  2.589840  3.060718   \n",
       "12090    24225  1.630686   7.464411  4.145098  8.742359  2.436402  2.483921   \n",
       "8130     16215  1.793939   7.083087  4.919902  7.531944  2.133333  3.006061   \n",
       "88034   175818  1.992630   3.495210  3.570470  8.866604  3.174603  2.692744   \n",
       "100381  200583  1.630686   7.464411  4.145098  8.742359  2.436402  2.483921   \n",
       "...        ...       ...        ...       ...       ...       ...       ...   \n",
       "82771   165226  1.630686   7.464411  4.145098  8.742359  2.436402  2.483921   \n",
       "95427   190712  1.630686   7.464411  4.145098  8.742359  2.436402  2.483921   \n",
       "51505   102906  1.630686   7.464411  4.145098  8.742359  2.436402  2.483921   \n",
       "4438      8835  1.963733   3.699428  4.192277  8.924797  3.591331  2.538699   \n",
       "60506   120801  1.630686   7.464411  4.145098  8.742359  2.436402  2.483921   \n",
       "\n",
       "               v8         v9       v10  ...  v71  v74  v75  v79  v91  v107  \\\n",
       "16140    6.088222   7.142858  1.838075  ...    2    0    2    1    0     4   \n",
       "12090    1.496569   9.031859  0.787745  ...    2    0    2    6    4     0   \n",
       "8130     0.035744   7.719298  1.050329  ...    2    0    2    1    1     1   \n",
       "88034   17.297778   7.404845  0.722101  ...    2    0    2    3    2     3   \n",
       "100381   1.496569   9.031859  1.312910  ...    0    0    0    1    0     4   \n",
       "...           ...        ...       ...  ...  ...  ...  ...  ...  ...   ...   \n",
       "82771    1.496569   9.031859  1.575492  ...    2    0    2    1    0     4   \n",
       "95427    1.496569   9.031859  1.312910  ...    2    0    2    1    2     3   \n",
       "51505    1.496569   9.031859  1.050328  ...    2    0    2    1    2     3   \n",
       "4438     1.962591  11.985294  1.028447  ...    2    0    2    3    5     2   \n",
       "60506    1.496569   9.031859  1.422320  ...    1    0    0    1    0     4   \n",
       "\n",
       "        v110  v112  v113  v125  \n",
       "16140      0    13     2     0  \n",
       "12090      0     4    11     2  \n",
       "8130       0     3    11     0  \n",
       "88034      1     0     9     0  \n",
       "100381     0    14     7     0  \n",
       "...      ...   ...   ...   ...  \n",
       "82771      0    10    15     1  \n",
       "95427      0     4    16     0  \n",
       "51505      0     4    15     0  \n",
       "4438       1    10     9     1  \n",
       "60506      0     4    16     0  \n",
       "\n",
       "[1000 rows x 132 columns]"
      ]
     },
     "execution_count": 51,
     "metadata": {},
     "output_type": "execute_result"
    }
   ],
   "source": [
    "X1000"
   ]
  },
  {
   "cell_type": "code",
   "execution_count": 52,
   "metadata": {},
   "outputs": [
    {
     "data": {
      "text/plain": [
       "1    778\n",
       "0    222\n",
       "Name: target, dtype: int64"
      ]
     },
     "execution_count": 52,
     "metadata": {},
     "output_type": "execute_result"
    }
   ],
   "source": [
    "Y1000.value_counts()"
   ]
  },
  {
   "cell_type": "code",
   "execution_count": 53,
   "metadata": {},
   "outputs": [],
   "source": [
    "from sklearn.model_selection import train_test_split \n",
    "  \n",
    "X_train, X_test, y_train, y_test = train_test_split( \n",
    "                        X1000, Y1000, test_size = 0.30, random_state = 101) "
   ]
  },
  {
   "cell_type": "code",
   "execution_count": 54,
   "metadata": {},
   "outputs": [
    {
     "name": "stdout",
     "output_type": "stream",
     "text": [
      "Fitting 3 folds for each of 30 candidates, totalling 90 fits\n",
      "Results for SVM with Randomized Search 3-CV, Rows = 1000\n",
      "{'mean_fit_time': array([0.0510842 , 0.0308938 , 0.02602506, 0.02601695, 0.02084732,\n",
      "       0.03122338, 0.02603594, 0.02603579, 0.02603634, 0.02082841,\n",
      "       0.02603428, 0.01562158, 0.02603428, 0.02603467, 0.0260551 ,\n",
      "       0.02603587, 0.02639135, 0.03159833, 0.02083   , 0.02603555,\n",
      "       0.02603547, 0.02082809, 0.03125175, 0.03645849, 0.02082801,\n",
      "       0.02084668, 0.03121352, 0.02082809, 0.02082872, 0.02603539]), 'std_fit_time': array([7.36378498e-03, 1.23659972e-02, 7.37742322e-03, 1.47409446e-02,\n",
      "       7.37064982e-03, 1.35993831e-05, 7.36350400e-03, 7.36389737e-03,\n",
      "       7.36412216e-03, 7.36429077e-03, 7.36266106e-03, 2.97360213e-07,\n",
      "       7.36417837e-03, 7.36445933e-03, 7.37792558e-03, 7.36445937e-03,\n",
      "       1.52318149e-02, 1.31937830e-02, 7.36266132e-03, 7.36406610e-03,\n",
      "       7.36502141e-03, 7.36417836e-03, 1.27663266e-02, 1.47342062e-02,\n",
      "       7.36339161e-03, 7.37076251e-03, 0.00000000e+00, 7.36451553e-03,\n",
      "       7.36406598e-03, 7.36412216e-03]), 'mean_score_time': array([0.01861723, 0.02294477, 0.02603571, 0.02083794, 0.02081887,\n",
      "       0.02082841, 0.01562111, 0.0156219 , 0.01562285, 0.02082777,\n",
      "       0.0156215 , 0.03124269, 0.01562222, 0.01562158, 0.01631212,\n",
      "       0.01562095, 0.0208288 , 0.02082769, 0.02603507, 0.01562119,\n",
      "       0.02603531, 0.02082952, 0.02603594, 0.02081911, 0.02082912,\n",
      "       0.01562174, 0.01562142, 0.0208288 , 0.0156215 , 0.02082864]), 'std_score_time': array([4.70246438e-04, 6.42845219e-03, 7.38374357e-03, 7.37727197e-03,\n",
      "       7.39075896e-03, 7.36395357e-03, 5.94720425e-07, 0.00000000e+00,\n",
      "       0.00000000e+00, 7.36389738e-03, 2.24783192e-07, 2.97360213e-07,\n",
      "       8.99132768e-07, 8.99132768e-07, 4.89174386e-04, 5.15042996e-07,\n",
      "       7.36350405e-03, 7.36429076e-03, 7.36238009e-03, 0.00000000e+00,\n",
      "       7.36389737e-03, 7.36333546e-03, 7.36400993e-03, 7.37036899e-03,\n",
      "       7.36513369e-03, 1.12391596e-07, 0.00000000e+00, 7.36434694e-03,\n",
      "       1.12391596e-07, 7.36412216e-03]), 'param_C': masked_array(data=[517.3986277024461, 29.47422647809694,\n",
      "                   686.2769816973125, 307.9662196722378,\n",
      "                   722.5438617683046, 555.2275911247872,\n",
      "                   182.89240266007866, 966.4832224119692,\n",
      "                   84.56143366334368, 729.9927572876178,\n",
      "                   686.3063287801783, 49.48453742640058,\n",
      "                   187.96742613792105, 521.6653966849669,\n",
      "                   735.8190582693819, 914.1535576757685,\n",
      "                   403.99783069378736, 953.8767147108732,\n",
      "                   866.099816318328, 539.1614492475574, 98.14647976501556,\n",
      "                   702.5072956958257, 160.56030089820405,\n",
      "                   673.4915296568056, 702.3711366090863,\n",
      "                   681.6777681763589, 44.39669443408434,\n",
      "                   576.2050868680129, 501.11671380079326,\n",
      "                   53.80840108926621],\n",
      "             mask=[False, False, False, False, False, False, False, False,\n",
      "                   False, False, False, False, False, False, False, False,\n",
      "                   False, False, False, False, False, False, False, False,\n",
      "                   False, False, False, False, False, False],\n",
      "       fill_value='?',\n",
      "            dtype=object), 'param_gamma': masked_array(data=[0.5707675868681398, 0.17162165622510306,\n",
      "                   0.8339968626360765, 0.8937130796833973,\n",
      "                   0.19003895420479677, 0.3522319540266141,\n",
      "                   0.7857017618643588, 0.23245366181476068,\n",
      "                   0.6036484222912185, 0.27633882849726277,\n",
      "                   0.5179674741970474, 0.1379692375621061,\n",
      "                   0.994417901154097, 0.5788895354754169,\n",
      "                   0.5420617722295935, 0.8080201509879171,\n",
      "                   0.35732434282078784, 0.3437315778925598,\n",
      "                   0.830377712198797, 0.9225693725672236,\n",
      "                   0.10294749316074948, 0.8905798691284313,\n",
      "                   0.2756725448969536, 0.1644031240201702,\n",
      "                   0.48773522220572807, 0.5216481923258594,\n",
      "                   0.22403660350197763, 0.1205336601272924,\n",
      "                   0.13810956825889598, 0.17837692253615167],\n",
      "             mask=[False, False, False, False, False, False, False, False,\n",
      "                   False, False, False, False, False, False, False, False,\n",
      "                   False, False, False, False, False, False, False, False,\n",
      "                   False, False, False, False, False, False],\n",
      "       fill_value='?',\n",
      "            dtype=object), 'params': [{'C': 517.3986277024461, 'gamma': 0.5707675868681398}, {'C': 29.47422647809694, 'gamma': 0.17162165622510306}, {'C': 686.2769816973125, 'gamma': 0.8339968626360765}, {'C': 307.9662196722378, 'gamma': 0.8937130796833973}, {'C': 722.5438617683046, 'gamma': 0.19003895420479677}, {'C': 555.2275911247872, 'gamma': 0.3522319540266141}, {'C': 182.89240266007866, 'gamma': 0.7857017618643588}, {'C': 966.4832224119692, 'gamma': 0.23245366181476068}, {'C': 84.56143366334368, 'gamma': 0.6036484222912185}, {'C': 729.9927572876178, 'gamma': 0.27633882849726277}, {'C': 686.3063287801783, 'gamma': 0.5179674741970474}, {'C': 49.48453742640058, 'gamma': 0.1379692375621061}, {'C': 187.96742613792105, 'gamma': 0.994417901154097}, {'C': 521.6653966849669, 'gamma': 0.5788895354754169}, {'C': 735.8190582693819, 'gamma': 0.5420617722295935}, {'C': 914.1535576757685, 'gamma': 0.8080201509879171}, {'C': 403.99783069378736, 'gamma': 0.35732434282078784}, {'C': 953.8767147108732, 'gamma': 0.3437315778925598}, {'C': 866.099816318328, 'gamma': 0.830377712198797}, {'C': 539.1614492475574, 'gamma': 0.9225693725672236}, {'C': 98.14647976501556, 'gamma': 0.10294749316074948}, {'C': 702.5072956958257, 'gamma': 0.8905798691284313}, {'C': 160.56030089820405, 'gamma': 0.2756725448969536}, {'C': 673.4915296568056, 'gamma': 0.1644031240201702}, {'C': 702.3711366090863, 'gamma': 0.48773522220572807}, {'C': 681.6777681763589, 'gamma': 0.5216481923258594}, {'C': 44.39669443408434, 'gamma': 0.22403660350197763}, {'C': 576.2050868680129, 'gamma': 0.1205336601272924}, {'C': 501.11671380079326, 'gamma': 0.13810956825889598}, {'C': 53.80840108926621, 'gamma': 0.17837692253615167}], 'split0_test_score': array([0.77777778, 0.77777778, 0.77777778, 0.77777778, 0.77777778,\n",
      "       0.77777778, 0.77777778, 0.77777778, 0.77777778, 0.77777778,\n",
      "       0.77777778, 0.77777778, 0.77777778, 0.77777778, 0.77777778,\n",
      "       0.77777778, 0.77777778, 0.77777778, 0.77777778, 0.77777778,\n",
      "       0.77777778, 0.77777778, 0.77777778, 0.77777778, 0.77777778,\n",
      "       0.77777778, 0.77777778, 0.77777778, 0.77777778, 0.77777778]), 'split1_test_score': array([0.78111588, 0.78111588, 0.78111588, 0.78111588, 0.78111588,\n",
      "       0.78111588, 0.78111588, 0.78111588, 0.78111588, 0.78111588,\n",
      "       0.78111588, 0.78111588, 0.78111588, 0.78111588, 0.78111588,\n",
      "       0.78111588, 0.78111588, 0.78111588, 0.78111588, 0.78111588,\n",
      "       0.78111588, 0.78111588, 0.78111588, 0.78111588, 0.78111588,\n",
      "       0.78111588, 0.78111588, 0.78111588, 0.78111588, 0.78111588]), 'split2_test_score': array([0.78111588, 0.78111588, 0.78111588, 0.78111588, 0.78111588,\n",
      "       0.78111588, 0.78111588, 0.78111588, 0.78111588, 0.78111588,\n",
      "       0.78111588, 0.78111588, 0.78111588, 0.78111588, 0.78111588,\n",
      "       0.78111588, 0.78111588, 0.78111588, 0.78111588, 0.78111588,\n",
      "       0.78111588, 0.78111588, 0.78111588, 0.78111588, 0.78111588,\n",
      "       0.78111588, 0.78111588, 0.78111588, 0.78111588, 0.78111588]), 'mean_test_score': array([0.78000318, 0.78000318, 0.78000318, 0.78000318, 0.78000318,\n",
      "       0.78000318, 0.78000318, 0.78000318, 0.78000318, 0.78000318,\n",
      "       0.78000318, 0.78000318, 0.78000318, 0.78000318, 0.78000318,\n",
      "       0.78000318, 0.78000318, 0.78000318, 0.78000318, 0.78000318,\n",
      "       0.78000318, 0.78000318, 0.78000318, 0.78000318, 0.78000318,\n",
      "       0.78000318, 0.78000318, 0.78000318, 0.78000318, 0.78000318]), 'std_test_score': array([0.0015736, 0.0015736, 0.0015736, 0.0015736, 0.0015736, 0.0015736,\n",
      "       0.0015736, 0.0015736, 0.0015736, 0.0015736, 0.0015736, 0.0015736,\n",
      "       0.0015736, 0.0015736, 0.0015736, 0.0015736, 0.0015736, 0.0015736,\n",
      "       0.0015736, 0.0015736, 0.0015736, 0.0015736, 0.0015736, 0.0015736,\n",
      "       0.0015736, 0.0015736, 0.0015736, 0.0015736, 0.0015736, 0.0015736]), 'rank_test_score': array([1, 1, 1, 1, 1, 1, 1, 1, 1, 1, 1, 1, 1, 1, 1, 1, 1, 1, 1, 1, 1, 1,\n",
      "       1, 1, 1, 1, 1, 1, 1, 1])}\n",
      "Best SVC() Parameters\n",
      "{'C': 517.3986277024461, 'gamma': 0.5707675868681398}\n",
      "Confusion Matrix - Rows = 1,000\n",
      "[[  0  68]\n",
      " [  0 232]]\n",
      "Classification Report\n",
      "              precision    recall  f1-score   support\n",
      "\n",
      "           0       0.00      0.00      0.00        68\n",
      "           1       0.77      1.00      0.87       232\n",
      "\n",
      "    accuracy                           0.77       300\n",
      "   macro avg       0.39      0.50      0.44       300\n",
      "weighted avg       0.60      0.77      0.67       300\n",
      "\n"
     ]
    },
    {
     "name": "stderr",
     "output_type": "stream",
     "text": [
      "C:\\Users\\Owner\\anaconda3\\lib\\site-packages\\sklearn\\metrics\\_classification.py:1245: UndefinedMetricWarning: Precision and F-score are ill-defined and being set to 0.0 in labels with no predicted samples. Use `zero_division` parameter to control this behavior.\n",
      "  _warn_prf(average, modifier, msg_start, len(result))\n",
      "C:\\Users\\Owner\\anaconda3\\lib\\site-packages\\sklearn\\metrics\\_classification.py:1245: UndefinedMetricWarning: Precision and F-score are ill-defined and being set to 0.0 in labels with no predicted samples. Use `zero_division` parameter to control this behavior.\n",
      "  _warn_prf(average, modifier, msg_start, len(result))\n",
      "C:\\Users\\Owner\\anaconda3\\lib\\site-packages\\sklearn\\metrics\\_classification.py:1245: UndefinedMetricWarning: Precision and F-score are ill-defined and being set to 0.0 in labels with no predicted samples. Use `zero_division` parameter to control this behavior.\n",
      "  _warn_prf(average, modifier, msg_start, len(result))\n"
     ]
    }
   ],
   "source": [
    "from sklearn.metrics import classification_report, confusion_matrix \n",
    "from sklearn.svm import SVC \n",
    "from sklearn.model_selection import RandomizedSearchCV\n",
    "from scipy import stats\n",
    "\n",
    "rand_list = {'C': stats.uniform(1,1000), 'gamma':stats.uniform(0.0001,1)}\n",
    "rand_search = RandomizedSearchCV(SVC(),param_distributions = rand_list, n_iter = 30, n_jobs=4, cv = 3, refit = True, random_state = 101, verbose = 1)\n",
    "rand_search.fit(X_train,y_train)\n",
    "\n",
    "print ('Results for SVM with Randomized Search 3-CV, Rows = 1000')\n",
    "print(rand_search.cv_results_)\n",
    "\n",
    "print('Best SVC() Parameters')\n",
    "print(rand_search.best_params_)\n",
    "\n",
    "rand_predictions=rand_search.predict(X_test)\n",
    "print('Confusion Matrix - Rows = 1,000')\n",
    "CFM = confusion_matrix(y_test,rand_predictions,labels =[0,1])\n",
    "print(CFM)\n",
    "\n",
    "print('Classification Report')\n",
    "print(classification_report(y_test,rand_predictions,labels = [0,1]))\n",
    "\n",
    "\n",
    "\n"
   ]
  },
  {
   "cell_type": "code",
   "execution_count": 55,
   "metadata": {},
   "outputs": [],
   "source": [
    "df_H2000 = horizontal_stack.sample(n=2000, random_state = 101)"
   ]
  },
  {
   "cell_type": "code",
   "execution_count": 56,
   "metadata": {},
   "outputs": [],
   "source": [
    "# Support Vector Machine with Hyperparameter Tuning \n",
    "\n",
    "# Separate target and feature variables into separate data sets\n",
    "\n",
    "Y2000 = df_H2000['target']\n",
    "X2000 = df_H2000.drop(['target'],axis = 1)\n"
   ]
  },
  {
   "cell_type": "code",
   "execution_count": 57,
   "metadata": {
    "scrolled": true
   },
   "outputs": [
    {
     "data": {
      "text/plain": [
       "1    1518\n",
       "0     482\n",
       "Name: target, dtype: int64"
      ]
     },
     "execution_count": 57,
     "metadata": {},
     "output_type": "execute_result"
    }
   ],
   "source": [
    "Y2000.value_counts()"
   ]
  },
  {
   "cell_type": "code",
   "execution_count": 58,
   "metadata": {},
   "outputs": [],
   "source": [
    "from sklearn.model_selection import train_test_split \n",
    "  \n",
    "X_train2, X_test2, y_train2, y_test2 = train_test_split( \n",
    "                        X2000, Y2000, test_size = 0.30, random_state = 101) "
   ]
  },
  {
   "cell_type": "code",
   "execution_count": 59,
   "metadata": {},
   "outputs": [
    {
     "name": "stdout",
     "output_type": "stream",
     "text": [
      "Fitting 3 folds for each of 30 candidates, totalling 90 fits\n",
      "Results for SVM with Randomized Search 3-CV, Rows = 2000\n",
      "{'mean_fit_time': array([0.12345982, 0.08480493, 0.08579628, 0.09868519, 0.10454488,\n",
      "       0.10016505, 0.10685698, 0.11526879, 0.08651781, 0.09263515,\n",
      "       0.08991146, 0.07884518, 0.09416429, 0.08973598, 0.09416119,\n",
      "       0.10414195, 0.0937283 , 0.08330448, 0.09371853, 0.08366855,\n",
      "       0.08331394, 0.08331386, 0.08890335, 0.08331386, 0.09894379,\n",
      "       0.09373657, 0.08851043, 0.1049823 , 0.08485428, 0.09963473]), 'std_fit_time': array([5.80895142e-03, 7.51488586e-03, 6.86943859e-03, 8.28696955e-03,\n",
      "       6.94907944e-03, 5.94231041e-03, 2.73828921e-02, 3.14723179e-02,\n",
      "       1.00107790e-02, 1.21030811e-02, 6.85486168e-03, 1.04411793e-03,\n",
      "       6.37929244e-04, 7.36687262e-03, 1.22285094e-02, 1.47277947e-02,\n",
      "       2.38474204e-05, 7.35052277e-03, 1.40012144e-05, 7.12743132e-03,\n",
      "       7.36490890e-03, 7.36378499e-03, 7.64906661e-03, 7.36530227e-03,\n",
      "       1.94953183e-02, 1.27540674e-02, 7.37867687e-03, 2.03953024e-02,\n",
      "       8.05617341e-03, 7.62244871e-03]), 'mean_score_time': array([0.07764212, 0.07758673, 0.0781064 , 0.06769188, 0.08366617,\n",
      "       0.09512067, 0.07327374, 0.07821695, 0.07978161, 0.07290125,\n",
      "       0.08332316, 0.0735863 , 0.06282043, 0.06248522, 0.08852053,\n",
      "       0.06770261, 0.07289886, 0.07846125, 0.06840142, 0.06248434,\n",
      "       0.06807351, 0.07887109, 0.07290053, 0.07810672, 0.07290053,\n",
      "       0.07809718, 0.078456  , 0.10533245, 0.07894603, 0.0676926 ]), 'std_score_time': array([3.99553319e-03, 6.93456175e-04, 1.27548391e-02, 7.36384118e-03,\n",
      "       2.99560693e-02, 3.37763854e-02, 7.60919786e-03, 1.28914471e-02,\n",
      "       1.48298147e-02, 7.36490894e-03, 1.94803903e-02, 7.12557656e-03,\n",
      "       4.75416451e-04, 3.37174788e-07, 2.65509563e-02, 7.37732820e-03,\n",
      "       7.36410457e-03, 5.02165802e-04, 7.62726492e-03, 4.05233662e-07,\n",
      "       7.10991295e-03, 1.27664611e-02, 7.36372879e-03, 4.05233662e-07,\n",
      "       7.36440321e-03, 1.37131565e-05, 4.95591211e-04, 2.95732998e-02,\n",
      "       1.18657437e-03, 7.36535846e-03]), 'param_C': masked_array(data=[517.3986277024461, 29.47422647809694,\n",
      "                   686.2769816973125, 307.9662196722378,\n",
      "                   722.5438617683046, 555.2275911247872,\n",
      "                   182.89240266007866, 966.4832224119692,\n",
      "                   84.56143366334368, 729.9927572876178,\n",
      "                   686.3063287801783, 49.48453742640058,\n",
      "                   187.96742613792105, 521.6653966849669,\n",
      "                   735.8190582693819, 914.1535576757685,\n",
      "                   403.99783069378736, 953.8767147108732,\n",
      "                   866.099816318328, 539.1614492475574, 98.14647976501556,\n",
      "                   702.5072956958257, 160.56030089820405,\n",
      "                   673.4915296568056, 702.3711366090863,\n",
      "                   681.6777681763589, 44.39669443408434,\n",
      "                   576.2050868680129, 501.11671380079326,\n",
      "                   53.80840108926621],\n",
      "             mask=[False, False, False, False, False, False, False, False,\n",
      "                   False, False, False, False, False, False, False, False,\n",
      "                   False, False, False, False, False, False, False, False,\n",
      "                   False, False, False, False, False, False],\n",
      "       fill_value='?',\n",
      "            dtype=object), 'param_gamma': masked_array(data=[0.5707675868681398, 0.17162165622510306,\n",
      "                   0.8339968626360765, 0.8937130796833973,\n",
      "                   0.19003895420479677, 0.3522319540266141,\n",
      "                   0.7857017618643588, 0.23245366181476068,\n",
      "                   0.6036484222912185, 0.27633882849726277,\n",
      "                   0.5179674741970474, 0.1379692375621061,\n",
      "                   0.994417901154097, 0.5788895354754169,\n",
      "                   0.5420617722295935, 0.8080201509879171,\n",
      "                   0.35732434282078784, 0.3437315778925598,\n",
      "                   0.830377712198797, 0.9225693725672236,\n",
      "                   0.10294749316074948, 0.8905798691284313,\n",
      "                   0.2756725448969536, 0.1644031240201702,\n",
      "                   0.48773522220572807, 0.5216481923258594,\n",
      "                   0.22403660350197763, 0.1205336601272924,\n",
      "                   0.13810956825889598, 0.17837692253615167],\n",
      "             mask=[False, False, False, False, False, False, False, False,\n",
      "                   False, False, False, False, False, False, False, False,\n",
      "                   False, False, False, False, False, False, False, False,\n",
      "                   False, False, False, False, False, False],\n",
      "       fill_value='?',\n",
      "            dtype=object), 'params': [{'C': 517.3986277024461, 'gamma': 0.5707675868681398}, {'C': 29.47422647809694, 'gamma': 0.17162165622510306}, {'C': 686.2769816973125, 'gamma': 0.8339968626360765}, {'C': 307.9662196722378, 'gamma': 0.8937130796833973}, {'C': 722.5438617683046, 'gamma': 0.19003895420479677}, {'C': 555.2275911247872, 'gamma': 0.3522319540266141}, {'C': 182.89240266007866, 'gamma': 0.7857017618643588}, {'C': 966.4832224119692, 'gamma': 0.23245366181476068}, {'C': 84.56143366334368, 'gamma': 0.6036484222912185}, {'C': 729.9927572876178, 'gamma': 0.27633882849726277}, {'C': 686.3063287801783, 'gamma': 0.5179674741970474}, {'C': 49.48453742640058, 'gamma': 0.1379692375621061}, {'C': 187.96742613792105, 'gamma': 0.994417901154097}, {'C': 521.6653966849669, 'gamma': 0.5788895354754169}, {'C': 735.8190582693819, 'gamma': 0.5420617722295935}, {'C': 914.1535576757685, 'gamma': 0.8080201509879171}, {'C': 403.99783069378736, 'gamma': 0.35732434282078784}, {'C': 953.8767147108732, 'gamma': 0.3437315778925598}, {'C': 866.099816318328, 'gamma': 0.830377712198797}, {'C': 539.1614492475574, 'gamma': 0.9225693725672236}, {'C': 98.14647976501556, 'gamma': 0.10294749316074948}, {'C': 702.5072956958257, 'gamma': 0.8905798691284313}, {'C': 160.56030089820405, 'gamma': 0.2756725448969536}, {'C': 673.4915296568056, 'gamma': 0.1644031240201702}, {'C': 702.3711366090863, 'gamma': 0.48773522220572807}, {'C': 681.6777681763589, 'gamma': 0.5216481923258594}, {'C': 44.39669443408434, 'gamma': 0.22403660350197763}, {'C': 576.2050868680129, 'gamma': 0.1205336601272924}, {'C': 501.11671380079326, 'gamma': 0.13810956825889598}, {'C': 53.80840108926621, 'gamma': 0.17837692253615167}], 'split0_test_score': array([0.76017131, 0.76017131, 0.76017131, 0.76017131, 0.76017131,\n",
      "       0.76017131, 0.76017131, 0.76017131, 0.76017131, 0.76017131,\n",
      "       0.76017131, 0.76017131, 0.76017131, 0.76017131, 0.76017131,\n",
      "       0.76017131, 0.76017131, 0.76017131, 0.76017131, 0.76017131,\n",
      "       0.76017131, 0.76017131, 0.76017131, 0.76017131, 0.76017131,\n",
      "       0.76017131, 0.76017131, 0.76017131, 0.76017131, 0.76017131]), 'split1_test_score': array([0.76017131, 0.76017131, 0.76017131, 0.76017131, 0.76017131,\n",
      "       0.76017131, 0.76017131, 0.76017131, 0.76017131, 0.76017131,\n",
      "       0.76017131, 0.76017131, 0.76017131, 0.76017131, 0.76017131,\n",
      "       0.76017131, 0.76017131, 0.76017131, 0.76017131, 0.76017131,\n",
      "       0.76017131, 0.76017131, 0.76017131, 0.76017131, 0.76017131,\n",
      "       0.76017131, 0.76017131, 0.76017131, 0.76017131, 0.76017131]), 'split2_test_score': array([0.76180258, 0.76180258, 0.76180258, 0.76180258, 0.76180258,\n",
      "       0.76180258, 0.76180258, 0.76180258, 0.76180258, 0.76180258,\n",
      "       0.76180258, 0.76180258, 0.76180258, 0.76180258, 0.76180258,\n",
      "       0.76180258, 0.76180258, 0.76180258, 0.76180258, 0.76180258,\n",
      "       0.76180258, 0.76180258, 0.76180258, 0.76180258, 0.76180258,\n",
      "       0.76180258, 0.76180258, 0.76180258, 0.76180258, 0.76180258]), 'mean_test_score': array([0.76071506, 0.76071506, 0.76071506, 0.76071506, 0.76071506,\n",
      "       0.76071506, 0.76071506, 0.76071506, 0.76071506, 0.76071506,\n",
      "       0.76071506, 0.76071506, 0.76071506, 0.76071506, 0.76071506,\n",
      "       0.76071506, 0.76071506, 0.76071506, 0.76071506, 0.76071506,\n",
      "       0.76071506, 0.76071506, 0.76071506, 0.76071506, 0.76071506,\n",
      "       0.76071506, 0.76071506, 0.76071506, 0.76071506, 0.76071506]), 'std_test_score': array([0.00076899, 0.00076899, 0.00076899, 0.00076899, 0.00076899,\n",
      "       0.00076899, 0.00076899, 0.00076899, 0.00076899, 0.00076899,\n",
      "       0.00076899, 0.00076899, 0.00076899, 0.00076899, 0.00076899,\n",
      "       0.00076899, 0.00076899, 0.00076899, 0.00076899, 0.00076899,\n",
      "       0.00076899, 0.00076899, 0.00076899, 0.00076899, 0.00076899,\n",
      "       0.00076899, 0.00076899, 0.00076899, 0.00076899, 0.00076899]), 'rank_test_score': array([1, 1, 1, 1, 1, 1, 1, 1, 1, 1, 1, 1, 1, 1, 1, 1, 1, 1, 1, 1, 1, 1,\n",
      "       1, 1, 1, 1, 1, 1, 1, 1])}\n",
      "Best SVC() Parameters\n",
      "{'C': 517.3986277024461, 'gamma': 0.5707675868681398}\n",
      "Confusion Matrix - Rows = 2,000\n",
      "[[  0 147]\n",
      " [  0 453]]\n",
      "Classification Report\n",
      "              precision    recall  f1-score   support\n",
      "\n",
      "           0       0.00      0.00      0.00       147\n",
      "           1       0.76      1.00      0.86       453\n",
      "\n",
      "    accuracy                           0.76       600\n",
      "   macro avg       0.38      0.50      0.43       600\n",
      "weighted avg       0.57      0.76      0.65       600\n",
      "\n"
     ]
    },
    {
     "name": "stderr",
     "output_type": "stream",
     "text": [
      "C:\\Users\\Owner\\anaconda3\\lib\\site-packages\\sklearn\\metrics\\_classification.py:1245: UndefinedMetricWarning: Precision and F-score are ill-defined and being set to 0.0 in labels with no predicted samples. Use `zero_division` parameter to control this behavior.\n",
      "  _warn_prf(average, modifier, msg_start, len(result))\n",
      "C:\\Users\\Owner\\anaconda3\\lib\\site-packages\\sklearn\\metrics\\_classification.py:1245: UndefinedMetricWarning: Precision and F-score are ill-defined and being set to 0.0 in labels with no predicted samples. Use `zero_division` parameter to control this behavior.\n",
      "  _warn_prf(average, modifier, msg_start, len(result))\n",
      "C:\\Users\\Owner\\anaconda3\\lib\\site-packages\\sklearn\\metrics\\_classification.py:1245: UndefinedMetricWarning: Precision and F-score are ill-defined and being set to 0.0 in labels with no predicted samples. Use `zero_division` parameter to control this behavior.\n",
      "  _warn_prf(average, modifier, msg_start, len(result))\n"
     ]
    }
   ],
   "source": [
    "\n",
    "rand_list2 = {'C': stats.uniform(1,1000), 'gamma':stats.uniform(0.0001,1)}\n",
    "rand_search2 = RandomizedSearchCV(SVC(),param_distributions = rand_list2, n_iter = 30, n_jobs=4, cv = 3, refit = True, random_state = 101, verbose = 1)\n",
    "rand_search2.fit(X_train2,y_train2)\n",
    "\n",
    "print ('Results for SVM with Randomized Search 3-CV, Rows = 2000')\n",
    "print(rand_search2.cv_results_)\n",
    "\n",
    "print('Best SVC() Parameters')\n",
    "print(rand_search2.best_params_)\n",
    "\n",
    "rand_predictions2=rand_search2.predict(X_test2)\n",
    "print('Confusion Matrix - Rows = 2,000')\n",
    "CFM2 = confusion_matrix(y_test2,rand_predictions2,labels =[0,1])\n",
    "print(CFM2)\n",
    "\n",
    "print('Classification Report')\n",
    "print(classification_report(y_test2,rand_predictions2,labels = [0,1]))\n",
    "\n",
    "\n",
    "\n"
   ]
  },
  {
   "cell_type": "code",
   "execution_count": 60,
   "metadata": {},
   "outputs": [],
   "source": [
    "df_H5000 = horizontal_stack.sample(n=5000, random_state = 101)"
   ]
  },
  {
   "cell_type": "code",
   "execution_count": 61,
   "metadata": {},
   "outputs": [],
   "source": [
    "# Support Vector Machine with Hyperparameter Tuning \n",
    "\n",
    "# Separate target and feature variables into separate data sets\n",
    "\n",
    "Y5000 = df_H5000['target']\n",
    "X5000 = df_H5000.drop(['target'],axis = 1)\n"
   ]
  },
  {
   "cell_type": "code",
   "execution_count": 62,
   "metadata": {
    "scrolled": true
   },
   "outputs": [
    {
     "data": {
      "text/plain": [
       "1    3798\n",
       "0    1202\n",
       "Name: target, dtype: int64"
      ]
     },
     "execution_count": 62,
     "metadata": {},
     "output_type": "execute_result"
    }
   ],
   "source": [
    "Y5000.value_counts()"
   ]
  },
  {
   "cell_type": "code",
   "execution_count": 63,
   "metadata": {},
   "outputs": [],
   "source": [
    "from sklearn.model_selection import train_test_split \n",
    "  \n",
    "X_train5, X_test5, y_train5, y_test5 = train_test_split( \n",
    "                        X5000, Y5000, test_size = 0.30, random_state = 101) "
   ]
  },
  {
   "cell_type": "code",
   "execution_count": 64,
   "metadata": {},
   "outputs": [
    {
     "name": "stdout",
     "output_type": "stream",
     "text": [
      "Fitting 3 folds for each of 30 candidates, totalling 90 fits\n",
      "Results for SVM with Randomized Search 3-CV, Rows = 5000\n",
      "{'mean_fit_time': array([0.64541753, 0.61695711, 0.60115623, 0.65089671, 0.6250368 ,\n",
      "       0.57491207, 0.57583777, 0.57583316, 0.54955721, 0.53788471,\n",
      "       0.54789559, 0.55840532, 0.52868573, 0.59578164, 0.57990829,\n",
      "       0.54047251, 0.56389976, 0.56386757, 0.52997557, 0.54892047,\n",
      "       0.52438505, 0.52950406, 0.53278677, 0.53740525, 0.53224683,\n",
      "       0.53708728, 0.55265872, 0.55068723, 0.54975589, 0.53188602]), 'std_fit_time': array([0.02189631, 0.05021263, 0.08327365, 0.03681196, 0.03383056,\n",
      "       0.03758515, 0.00661717, 0.02653858, 0.02151495, 0.01508248,\n",
      "       0.01280763, 0.00736401, 0.00725508, 0.07761367, 0.06784652,\n",
      "       0.01496659, 0.03357045, 0.0260543 , 0.01016148, 0.01411961,\n",
      "       0.01348992, 0.01303788, 0.02173382, 0.00736373, 0.0126821 ,\n",
      "       0.03157872, 0.03859009, 0.01324109, 0.01706529, 0.02500043]), 'mean_score_time': array([0.5006307 , 0.49493178, 0.55725312, 0.51580238, 0.44339617,\n",
      "       0.44331543, 0.43849619, 0.4345293 , 0.45372566, 0.44370929,\n",
      "       0.45414186, 0.43290599, 0.45924695, 0.46382944, 0.45468807,\n",
      "       0.46389119, 0.4903024 , 0.48087064, 0.4619538 , 0.44587811,\n",
      "       0.46698944, 0.46947964, 0.44860617, 0.46468353, 0.44898558,\n",
      "       0.45898787, 0.45621657, 0.44786604, 0.4622949 , 0.40771055]), 'std_score_time': array([3.37317478e-02, 4.44653948e-02, 7.80540504e-02, 5.10304527e-02,\n",
      "       7.55537346e-03, 1.90045897e-02, 2.55692734e-05, 7.35142190e-03,\n",
      "       1.23236609e-02, 7.42515079e-03, 8.58110388e-05, 7.87055869e-03,\n",
      "       1.92614126e-02, 7.64002914e-03, 1.12138017e-02, 2.61350383e-02,\n",
      "       1.44425575e-02, 4.89971775e-02, 1.18439281e-02, 8.26707786e-03,\n",
      "       2.04758989e-02, 3.33113739e-02, 7.94860108e-03, 1.94933665e-02,\n",
      "       1.46497389e-02, 1.89977518e-02, 1.40856095e-02, 6.42243400e-03,\n",
      "       2.35489925e-02, 1.32506244e-02]), 'param_C': masked_array(data=[517.3986277024461, 29.47422647809694,\n",
      "                   686.2769816973125, 307.9662196722378,\n",
      "                   722.5438617683046, 555.2275911247872,\n",
      "                   182.89240266007866, 966.4832224119692,\n",
      "                   84.56143366334368, 729.9927572876178,\n",
      "                   686.3063287801783, 49.48453742640058,\n",
      "                   187.96742613792105, 521.6653966849669,\n",
      "                   735.8190582693819, 914.1535576757685,\n",
      "                   403.99783069378736, 953.8767147108732,\n",
      "                   866.099816318328, 539.1614492475574, 98.14647976501556,\n",
      "                   702.5072956958257, 160.56030089820405,\n",
      "                   673.4915296568056, 702.3711366090863,\n",
      "                   681.6777681763589, 44.39669443408434,\n",
      "                   576.2050868680129, 501.11671380079326,\n",
      "                   53.80840108926621],\n",
      "             mask=[False, False, False, False, False, False, False, False,\n",
      "                   False, False, False, False, False, False, False, False,\n",
      "                   False, False, False, False, False, False, False, False,\n",
      "                   False, False, False, False, False, False],\n",
      "       fill_value='?',\n",
      "            dtype=object), 'param_gamma': masked_array(data=[0.5707675868681398, 0.17162165622510306,\n",
      "                   0.8339968626360765, 0.8937130796833973,\n",
      "                   0.19003895420479677, 0.3522319540266141,\n",
      "                   0.7857017618643588, 0.23245366181476068,\n",
      "                   0.6036484222912185, 0.27633882849726277,\n",
      "                   0.5179674741970474, 0.1379692375621061,\n",
      "                   0.994417901154097, 0.5788895354754169,\n",
      "                   0.5420617722295935, 0.8080201509879171,\n",
      "                   0.35732434282078784, 0.3437315778925598,\n",
      "                   0.830377712198797, 0.9225693725672236,\n",
      "                   0.10294749316074948, 0.8905798691284313,\n",
      "                   0.2756725448969536, 0.1644031240201702,\n",
      "                   0.48773522220572807, 0.5216481923258594,\n",
      "                   0.22403660350197763, 0.1205336601272924,\n",
      "                   0.13810956825889598, 0.17837692253615167],\n",
      "             mask=[False, False, False, False, False, False, False, False,\n",
      "                   False, False, False, False, False, False, False, False,\n",
      "                   False, False, False, False, False, False, False, False,\n",
      "                   False, False, False, False, False, False],\n",
      "       fill_value='?',\n",
      "            dtype=object), 'params': [{'C': 517.3986277024461, 'gamma': 0.5707675868681398}, {'C': 29.47422647809694, 'gamma': 0.17162165622510306}, {'C': 686.2769816973125, 'gamma': 0.8339968626360765}, {'C': 307.9662196722378, 'gamma': 0.8937130796833973}, {'C': 722.5438617683046, 'gamma': 0.19003895420479677}, {'C': 555.2275911247872, 'gamma': 0.3522319540266141}, {'C': 182.89240266007866, 'gamma': 0.7857017618643588}, {'C': 966.4832224119692, 'gamma': 0.23245366181476068}, {'C': 84.56143366334368, 'gamma': 0.6036484222912185}, {'C': 729.9927572876178, 'gamma': 0.27633882849726277}, {'C': 686.3063287801783, 'gamma': 0.5179674741970474}, {'C': 49.48453742640058, 'gamma': 0.1379692375621061}, {'C': 187.96742613792105, 'gamma': 0.994417901154097}, {'C': 521.6653966849669, 'gamma': 0.5788895354754169}, {'C': 735.8190582693819, 'gamma': 0.5420617722295935}, {'C': 914.1535576757685, 'gamma': 0.8080201509879171}, {'C': 403.99783069378736, 'gamma': 0.35732434282078784}, {'C': 953.8767147108732, 'gamma': 0.3437315778925598}, {'C': 866.099816318328, 'gamma': 0.830377712198797}, {'C': 539.1614492475574, 'gamma': 0.9225693725672236}, {'C': 98.14647976501556, 'gamma': 0.10294749316074948}, {'C': 702.5072956958257, 'gamma': 0.8905798691284313}, {'C': 160.56030089820405, 'gamma': 0.2756725448969536}, {'C': 673.4915296568056, 'gamma': 0.1644031240201702}, {'C': 702.3711366090863, 'gamma': 0.48773522220572807}, {'C': 681.6777681763589, 'gamma': 0.5216481923258594}, {'C': 44.39669443408434, 'gamma': 0.22403660350197763}, {'C': 576.2050868680129, 'gamma': 0.1205336601272924}, {'C': 501.11671380079326, 'gamma': 0.13810956825889598}, {'C': 53.80840108926621, 'gamma': 0.17837692253615167}], 'split0_test_score': array([0.75835476, 0.75835476, 0.75835476, 0.75835476, 0.75835476,\n",
      "       0.75835476, 0.75835476, 0.75835476, 0.75835476, 0.75835476,\n",
      "       0.75835476, 0.75835476, 0.75835476, 0.75835476, 0.75835476,\n",
      "       0.75835476, 0.75835476, 0.75835476, 0.75835476, 0.75835476,\n",
      "       0.75835476, 0.75835476, 0.75835476, 0.75835476, 0.75835476,\n",
      "       0.75835476, 0.75835476, 0.75835476, 0.75835476, 0.75835476]), 'split1_test_score': array([0.75835476, 0.75835476, 0.75835476, 0.75835476, 0.75835476,\n",
      "       0.75835476, 0.75835476, 0.75835476, 0.75835476, 0.75835476,\n",
      "       0.75835476, 0.75835476, 0.75835476, 0.75835476, 0.75835476,\n",
      "       0.75835476, 0.75835476, 0.75835476, 0.75835476, 0.75835476,\n",
      "       0.75835476, 0.75835476, 0.75835476, 0.75835476, 0.75835476,\n",
      "       0.75835476, 0.75835476, 0.75835476, 0.75835476, 0.75835476]), 'split2_test_score': array([0.75814751, 0.75814751, 0.75814751, 0.75814751, 0.75814751,\n",
      "       0.75814751, 0.75814751, 0.75814751, 0.75814751, 0.75814751,\n",
      "       0.75814751, 0.75814751, 0.75814751, 0.75814751, 0.75814751,\n",
      "       0.75814751, 0.75814751, 0.75814751, 0.75814751, 0.75814751,\n",
      "       0.75814751, 0.75814751, 0.75814751, 0.75814751, 0.75814751,\n",
      "       0.75814751, 0.75814751, 0.75814751, 0.75814751, 0.75814751]), 'mean_test_score': array([0.75828567, 0.75828567, 0.75828567, 0.75828567, 0.75828567,\n",
      "       0.75828567, 0.75828567, 0.75828567, 0.75828567, 0.75828567,\n",
      "       0.75828567, 0.75828567, 0.75828567, 0.75828567, 0.75828567,\n",
      "       0.75828567, 0.75828567, 0.75828567, 0.75828567, 0.75828567,\n",
      "       0.75828567, 0.75828567, 0.75828567, 0.75828567, 0.75828567,\n",
      "       0.75828567, 0.75828567, 0.75828567, 0.75828567, 0.75828567]), 'std_test_score': array([9.76952492e-05, 9.76952492e-05, 9.76952492e-05, 9.76952492e-05,\n",
      "       9.76952492e-05, 9.76952492e-05, 9.76952492e-05, 9.76952492e-05,\n",
      "       9.76952492e-05, 9.76952492e-05, 9.76952492e-05, 9.76952492e-05,\n",
      "       9.76952492e-05, 9.76952492e-05, 9.76952492e-05, 9.76952492e-05,\n",
      "       9.76952492e-05, 9.76952492e-05, 9.76952492e-05, 9.76952492e-05,\n",
      "       9.76952492e-05, 9.76952492e-05, 9.76952492e-05, 9.76952492e-05,\n",
      "       9.76952492e-05, 9.76952492e-05, 9.76952492e-05, 9.76952492e-05,\n",
      "       9.76952492e-05, 9.76952492e-05]), 'rank_test_score': array([1, 1, 1, 1, 1, 1, 1, 1, 1, 1, 1, 1, 1, 1, 1, 1, 1, 1, 1, 1, 1, 1,\n",
      "       1, 1, 1, 1, 1, 1, 1, 1])}\n",
      "Best SVC() Parameters\n",
      "{'C': 517.3986277024461, 'gamma': 0.5707675868681398}\n",
      "Confusion Matrix - Rows = 5,000\n",
      "[[   0  356]\n",
      " [   0 1144]]\n",
      "Classification Report\n",
      "              precision    recall  f1-score   support\n",
      "\n",
      "           0       0.00      0.00      0.00       356\n",
      "           1       0.76      1.00      0.87      1144\n",
      "\n",
      "    accuracy                           0.76      1500\n",
      "   macro avg       0.38      0.50      0.43      1500\n",
      "weighted avg       0.58      0.76      0.66      1500\n",
      "\n"
     ]
    },
    {
     "name": "stderr",
     "output_type": "stream",
     "text": [
      "C:\\Users\\Owner\\anaconda3\\lib\\site-packages\\sklearn\\metrics\\_classification.py:1245: UndefinedMetricWarning: Precision and F-score are ill-defined and being set to 0.0 in labels with no predicted samples. Use `zero_division` parameter to control this behavior.\n",
      "  _warn_prf(average, modifier, msg_start, len(result))\n",
      "C:\\Users\\Owner\\anaconda3\\lib\\site-packages\\sklearn\\metrics\\_classification.py:1245: UndefinedMetricWarning: Precision and F-score are ill-defined and being set to 0.0 in labels with no predicted samples. Use `zero_division` parameter to control this behavior.\n",
      "  _warn_prf(average, modifier, msg_start, len(result))\n",
      "C:\\Users\\Owner\\anaconda3\\lib\\site-packages\\sklearn\\metrics\\_classification.py:1245: UndefinedMetricWarning: Precision and F-score are ill-defined and being set to 0.0 in labels with no predicted samples. Use `zero_division` parameter to control this behavior.\n",
      "  _warn_prf(average, modifier, msg_start, len(result))\n"
     ]
    }
   ],
   "source": [
    "\n",
    "rand_list5 = {'C': stats.uniform(1,1000), 'gamma':stats.uniform(0.0001,1)}\n",
    "rand_search5 = RandomizedSearchCV(SVC(),param_distributions = rand_list5, n_iter = 30, n_jobs=4, cv = 3, refit = True, random_state = 101, verbose = 1)\n",
    "rand_search5.fit(X_train5,y_train5)\n",
    "\n",
    "print ('Results for SVM with Randomized Search 3-CV, Rows = 5000')\n",
    "print(rand_search5.cv_results_)\n",
    "\n",
    "print('Best SVC() Parameters')\n",
    "print(rand_search5.best_params_)\n",
    "\n",
    "rand_predictions5=rand_search5.predict(X_test5)\n",
    "print('Confusion Matrix - Rows = 5,000')\n",
    "CFM5 = confusion_matrix(y_test5,rand_predictions5,labels =[0,1])\n",
    "print(CFM5)\n",
    "\n",
    "print('Classification Report')\n",
    "print(classification_report(y_test5,rand_predictions5,labels = [0,1]))\n",
    "\n",
    "\n",
    "\n"
   ]
  },
  {
   "cell_type": "code",
   "execution_count": 65,
   "metadata": {},
   "outputs": [],
   "source": [
    "df_H10000 = horizontal_stack.sample(n=10000, random_state = 101)"
   ]
  },
  {
   "cell_type": "code",
   "execution_count": 66,
   "metadata": {},
   "outputs": [],
   "source": [
    "# Support Vector Machine with Hyperparameter Tuning \n",
    "\n",
    "# Separate target and feature variables into separate data sets\n",
    "\n",
    "Y10000 = df_H10000['target']\n",
    "X10000 = df_H10000.drop(['target'],axis = 1)\n"
   ]
  },
  {
   "cell_type": "code",
   "execution_count": 67,
   "metadata": {
    "scrolled": true
   },
   "outputs": [
    {
     "data": {
      "text/plain": [
       "1    7593\n",
       "0    2407\n",
       "Name: target, dtype: int64"
      ]
     },
     "execution_count": 67,
     "metadata": {},
     "output_type": "execute_result"
    }
   ],
   "source": [
    "Y10000.value_counts()"
   ]
  },
  {
   "cell_type": "code",
   "execution_count": 68,
   "metadata": {},
   "outputs": [],
   "source": [
    "from sklearn.model_selection import train_test_split \n",
    "  \n",
    "X_train10, X_test10, y_train10, y_test10 = train_test_split( \n",
    "                        X10000, Y10000, test_size = 0.30, random_state = 101) "
   ]
  },
  {
   "cell_type": "code",
   "execution_count": 70,
   "metadata": {},
   "outputs": [
    {
     "name": "stdout",
     "output_type": "stream",
     "text": [
      "Fitting 3 folds for each of 30 candidates, totalling 90 fits\n",
      "Results for SVM with Randomized Search 3-CV, Rows = 10000\n",
      "{'mean_fit_time': array([3.52038177, 3.57033547, 3.57059924, 3.47048291, 3.48401658,\n",
      "       3.59704002, 3.59278584, 3.34103346, 3.41686932, 3.45519551,\n",
      "       3.2884353 , 3.34823998, 3.24093596, 3.42217811, 3.33653108,\n",
      "       3.24890057, 3.11534039, 3.08588163, 3.06858134, 3.12029966,\n",
      "       2.72695581, 2.75830253, 2.98155165, 2.84462667, 2.74132125,\n",
      "       2.74711593, 2.94504213, 2.86117824, 2.91014187, 2.89900788]), 'std_fit_time': array([0.01845849, 0.08423283, 0.07016793, 0.03508372, 0.02692799,\n",
      "       0.11420797, 0.09727228, 0.02702875, 0.05676155, 0.01591014,\n",
      "       0.0128724 , 0.03364099, 0.06770051, 0.13664532, 0.15242033,\n",
      "       0.03369059, 0.10971061, 0.17319806, 0.23455939, 0.04062039,\n",
      "       0.29726834, 0.16732159, 0.12059417, 0.17635016, 0.1782544 ,\n",
      "       0.19473456, 0.05303346, 0.16310146, 0.07708606, 0.16260545]), 'mean_score_time': array([1.91182836, 1.94845398, 1.96532067, 1.92930365, 1.93821367,\n",
      "       2.01285561, 2.02598174, 1.94975416, 1.95835956, 1.92068458,\n",
      "       1.95052481, 1.94602466, 2.00665212, 1.99001098, 1.99969769,\n",
      "       1.9605484 , 1.96966394, 2.02751573, 2.02778983, 2.26228992,\n",
      "       2.05014698, 2.08485333, 2.03797332, 2.04843219, 2.07444779,\n",
      "       2.07134573, 2.0739785 , 2.07946738, 2.05487728, 1.81770945]), 'std_score_time': array([0.02209248, 0.09221245, 0.10235222, 0.03912045, 0.01814145,\n",
      "       0.01593763, 0.1102362 , 0.02917202, 0.03527374, 0.02094153,\n",
      "       0.03263347, 0.03297312, 0.0351949 , 0.0869092 , 0.02854417,\n",
      "       0.04236475, 0.03813727, 0.08421454, 0.05046264, 0.26246017,\n",
      "       0.05928545, 0.03638657, 0.04005891, 0.03274625, 0.03750042,\n",
      "       0.04022298, 0.02669362, 0.03481593, 0.03175416, 0.12648687]), 'param_C': masked_array(data=[517.3986277024461, 29.47422647809694,\n",
      "                   686.2769816973125, 307.9662196722378,\n",
      "                   722.5438617683046, 555.2275911247872,\n",
      "                   182.89240266007866, 966.4832224119692,\n",
      "                   84.56143366334368, 729.9927572876178,\n",
      "                   686.3063287801783, 49.48453742640058,\n",
      "                   187.96742613792105, 521.6653966849669,\n",
      "                   735.8190582693819, 914.1535576757685,\n",
      "                   403.99783069378736, 953.8767147108732,\n",
      "                   866.099816318328, 539.1614492475574, 98.14647976501556,\n",
      "                   702.5072956958257, 160.56030089820405,\n",
      "                   673.4915296568056, 702.3711366090863,\n",
      "                   681.6777681763589, 44.39669443408434,\n",
      "                   576.2050868680129, 501.11671380079326,\n",
      "                   53.80840108926621],\n",
      "             mask=[False, False, False, False, False, False, False, False,\n",
      "                   False, False, False, False, False, False, False, False,\n",
      "                   False, False, False, False, False, False, False, False,\n",
      "                   False, False, False, False, False, False],\n",
      "       fill_value='?',\n",
      "            dtype=object), 'param_gamma': masked_array(data=[0.5707675868681398, 0.17162165622510306,\n",
      "                   0.8339968626360765, 0.8937130796833973,\n",
      "                   0.19003895420479677, 0.3522319540266141,\n",
      "                   0.7857017618643588, 0.23245366181476068,\n",
      "                   0.6036484222912185, 0.27633882849726277,\n",
      "                   0.5179674741970474, 0.1379692375621061,\n",
      "                   0.994417901154097, 0.5788895354754169,\n",
      "                   0.5420617722295935, 0.8080201509879171,\n",
      "                   0.35732434282078784, 0.3437315778925598,\n",
      "                   0.830377712198797, 0.9225693725672236,\n",
      "                   0.10294749316074948, 0.8905798691284313,\n",
      "                   0.2756725448969536, 0.1644031240201702,\n",
      "                   0.48773522220572807, 0.5216481923258594,\n",
      "                   0.22403660350197763, 0.1205336601272924,\n",
      "                   0.13810956825889598, 0.17837692253615167],\n",
      "             mask=[False, False, False, False, False, False, False, False,\n",
      "                   False, False, False, False, False, False, False, False,\n",
      "                   False, False, False, False, False, False, False, False,\n",
      "                   False, False, False, False, False, False],\n",
      "       fill_value='?',\n",
      "            dtype=object), 'params': [{'C': 517.3986277024461, 'gamma': 0.5707675868681398}, {'C': 29.47422647809694, 'gamma': 0.17162165622510306}, {'C': 686.2769816973125, 'gamma': 0.8339968626360765}, {'C': 307.9662196722378, 'gamma': 0.8937130796833973}, {'C': 722.5438617683046, 'gamma': 0.19003895420479677}, {'C': 555.2275911247872, 'gamma': 0.3522319540266141}, {'C': 182.89240266007866, 'gamma': 0.7857017618643588}, {'C': 966.4832224119692, 'gamma': 0.23245366181476068}, {'C': 84.56143366334368, 'gamma': 0.6036484222912185}, {'C': 729.9927572876178, 'gamma': 0.27633882849726277}, {'C': 686.3063287801783, 'gamma': 0.5179674741970474}, {'C': 49.48453742640058, 'gamma': 0.1379692375621061}, {'C': 187.96742613792105, 'gamma': 0.994417901154097}, {'C': 521.6653966849669, 'gamma': 0.5788895354754169}, {'C': 735.8190582693819, 'gamma': 0.5420617722295935}, {'C': 914.1535576757685, 'gamma': 0.8080201509879171}, {'C': 403.99783069378736, 'gamma': 0.35732434282078784}, {'C': 953.8767147108732, 'gamma': 0.3437315778925598}, {'C': 866.099816318328, 'gamma': 0.830377712198797}, {'C': 539.1614492475574, 'gamma': 0.9225693725672236}, {'C': 98.14647976501556, 'gamma': 0.10294749316074948}, {'C': 702.5072956958257, 'gamma': 0.8905798691284313}, {'C': 160.56030089820405, 'gamma': 0.2756725448969536}, {'C': 673.4915296568056, 'gamma': 0.1644031240201702}, {'C': 702.3711366090863, 'gamma': 0.48773522220572807}, {'C': 681.6777681763589, 'gamma': 0.5216481923258594}, {'C': 44.39669443408434, 'gamma': 0.22403660350197763}, {'C': 576.2050868680129, 'gamma': 0.1205336601272924}, {'C': 501.11671380079326, 'gamma': 0.13810956825889598}, {'C': 53.80840108926621, 'gamma': 0.17837692253615167}], 'split0_test_score': array([0.7613539, 0.7613539, 0.7613539, 0.7613539, 0.7613539, 0.7613539,\n",
      "       0.7613539, 0.7613539, 0.7613539, 0.7613539, 0.7613539, 0.7613539,\n",
      "       0.7613539, 0.7613539, 0.7613539, 0.7613539, 0.7613539, 0.7613539,\n",
      "       0.7613539, 0.7613539, 0.7613539, 0.7613539, 0.7613539, 0.7613539,\n",
      "       0.7613539, 0.7613539, 0.7613539, 0.7613539, 0.7613539, 0.7613539]), 'split1_test_score': array([0.76168024, 0.76168024, 0.76168024, 0.76168024, 0.76168024,\n",
      "       0.76168024, 0.76168024, 0.76168024, 0.76168024, 0.76168024,\n",
      "       0.76168024, 0.76168024, 0.76168024, 0.76168024, 0.76168024,\n",
      "       0.76168024, 0.76168024, 0.76168024, 0.76168024, 0.76168024,\n",
      "       0.76168024, 0.76168024, 0.76168024, 0.76168024, 0.76168024,\n",
      "       0.76168024, 0.76168024, 0.76168024, 0.76168024, 0.76168024]), 'split2_test_score': array([0.76168024, 0.76168024, 0.76168024, 0.76168024, 0.76168024,\n",
      "       0.76168024, 0.76168024, 0.76168024, 0.76168024, 0.76168024,\n",
      "       0.76168024, 0.76168024, 0.76168024, 0.76168024, 0.76168024,\n",
      "       0.76168024, 0.76168024, 0.76168024, 0.76168024, 0.76168024,\n",
      "       0.76168024, 0.76168024, 0.76168024, 0.76168024, 0.76168024,\n",
      "       0.76168024, 0.76168024, 0.76168024, 0.76168024, 0.76168024]), 'mean_test_score': array([0.76157146, 0.76157146, 0.76157146, 0.76157146, 0.76157146,\n",
      "       0.76157146, 0.76157146, 0.76157146, 0.76157146, 0.76157146,\n",
      "       0.76157146, 0.76157146, 0.76157146, 0.76157146, 0.76157146,\n",
      "       0.76157146, 0.76157146, 0.76157146, 0.76157146, 0.76157146,\n",
      "       0.76157146, 0.76157146, 0.76157146, 0.76157146, 0.76157146,\n",
      "       0.76157146, 0.76157146, 0.76157146, 0.76157146, 0.76157146]), 'std_test_score': array([0.00015384, 0.00015384, 0.00015384, 0.00015384, 0.00015384,\n",
      "       0.00015384, 0.00015384, 0.00015384, 0.00015384, 0.00015384,\n",
      "       0.00015384, 0.00015384, 0.00015384, 0.00015384, 0.00015384,\n",
      "       0.00015384, 0.00015384, 0.00015384, 0.00015384, 0.00015384,\n",
      "       0.00015384, 0.00015384, 0.00015384, 0.00015384, 0.00015384,\n",
      "       0.00015384, 0.00015384, 0.00015384, 0.00015384, 0.00015384]), 'rank_test_score': array([1, 1, 1, 1, 1, 1, 1, 1, 1, 1, 1, 1, 1, 1, 1, 1, 1, 1, 1, 1, 1, 1,\n",
      "       1, 1, 1, 1, 1, 1, 1, 1])}\n",
      "Best SVC() Parameters\n",
      "{'C': 517.3986277024461, 'gamma': 0.5707675868681398}\n",
      "Confusion Matrix - Rows = 10,000\n",
      "[[   0  738]\n",
      " [   0 2262]]\n",
      "Classification Report\n",
      "              precision    recall  f1-score   support\n",
      "\n",
      "           0       0.00      0.00      0.00       738\n",
      "           1       0.75      1.00      0.86      2262\n",
      "\n",
      "    accuracy                           0.75      3000\n",
      "   macro avg       0.38      0.50      0.43      3000\n",
      "weighted avg       0.57      0.75      0.65      3000\n",
      "\n"
     ]
    },
    {
     "name": "stderr",
     "output_type": "stream",
     "text": [
      "C:\\Users\\Owner\\anaconda3\\lib\\site-packages\\sklearn\\metrics\\_classification.py:1245: UndefinedMetricWarning: Precision and F-score are ill-defined and being set to 0.0 in labels with no predicted samples. Use `zero_division` parameter to control this behavior.\n",
      "  _warn_prf(average, modifier, msg_start, len(result))\n",
      "C:\\Users\\Owner\\anaconda3\\lib\\site-packages\\sklearn\\metrics\\_classification.py:1245: UndefinedMetricWarning: Precision and F-score are ill-defined and being set to 0.0 in labels with no predicted samples. Use `zero_division` parameter to control this behavior.\n",
      "  _warn_prf(average, modifier, msg_start, len(result))\n",
      "C:\\Users\\Owner\\anaconda3\\lib\\site-packages\\sklearn\\metrics\\_classification.py:1245: UndefinedMetricWarning: Precision and F-score are ill-defined and being set to 0.0 in labels with no predicted samples. Use `zero_division` parameter to control this behavior.\n",
      "  _warn_prf(average, modifier, msg_start, len(result))\n"
     ]
    }
   ],
   "source": [
    "\n",
    "rand_list10 = {'C': stats.uniform(1,1000), 'gamma':stats.uniform(0.0001,1)}\n",
    "rand_search10 = RandomizedSearchCV(SVC(),param_distributions = rand_list10, n_iter = 30, n_jobs=4, cv = 3, refit = True, random_state = 101, verbose = 1)\n",
    "rand_search10.fit(X_train10,y_train10)\n",
    "\n",
    "print ('Results for SVM with Randomized Search 3-CV, Rows = 10000')\n",
    "print(rand_search10.cv_results_)\n",
    "\n",
    "print('Best SVC() Parameters')\n",
    "print(rand_search10.best_params_)\n",
    "\n",
    "rand_predictions10=rand_search10.predict(X_test10)\n",
    "print('Confusion Matrix - Rows = 10,000')\n",
    "CFM10 = confusion_matrix(y_test10,rand_predictions10,labels =[0,1])\n",
    "print(CFM10)\n",
    "\n",
    "print('Classification Report')\n",
    "print(classification_report(y_test10,rand_predictions10,labels = [0,1]))\n",
    "\n",
    "\n",
    "\n"
   ]
  },
  {
   "cell_type": "code",
   "execution_count": 90,
   "metadata": {},
   "outputs": [],
   "source": [
    "df_H50000 = horizontal_stack.sample(n=50000, random_state = 101)"
   ]
  },
  {
   "cell_type": "code",
   "execution_count": 91,
   "metadata": {},
   "outputs": [],
   "source": [
    "# Support Vector Machine with Hyperparameter Tuning \n",
    "\n",
    "# Separate target and feature variables into separate data sets\n",
    "\n",
    "Y50000 = df_H50000['target']\n",
    "X50000 = df_H50000.drop(['target'],axis = 1)\n"
   ]
  },
  {
   "cell_type": "code",
   "execution_count": 92,
   "metadata": {
    "scrolled": true
   },
   "outputs": [
    {
     "data": {
      "text/plain": [
       "1    38138\n",
       "0    11862\n",
       "Name: target, dtype: int64"
      ]
     },
     "execution_count": 92,
     "metadata": {},
     "output_type": "execute_result"
    }
   ],
   "source": [
    "Y50000.value_counts()"
   ]
  },
  {
   "cell_type": "code",
   "execution_count": 93,
   "metadata": {},
   "outputs": [],
   "source": [
    "from sklearn.model_selection import train_test_split \n",
    "  \n",
    "X_train50, X_test50, y_train50, y_test50 = train_test_split( \n",
    "                        X50000, Y50000, test_size = 0.30, random_state = 101) "
   ]
  },
  {
   "cell_type": "code",
   "execution_count": 94,
   "metadata": {
    "scrolled": true
   },
   "outputs": [
    {
     "name": "stdout",
     "output_type": "stream",
     "text": [
      "Fitting 3 folds for each of 30 candidates, totalling 90 fits\n",
      "Results for SVM with Randomized Search 3-CV, Rows = 50000\n",
      "{'mean_fit_time': array([536.84340151, 537.75959651, 538.7595555 , 535.94890054,\n",
      "       503.00869862, 536.77806966, 474.34260909, 464.64144913,\n",
      "       530.48935795, 526.6572543 , 500.02553829, 523.95442629,\n",
      "       542.87410752, 552.64114761, 498.39000901, 528.53167049,\n",
      "       530.76054255, 518.92245928, 555.26290147, 562.55395524,\n",
      "       518.96970606, 564.39830287, 670.67697446, 675.12850722,\n",
      "       585.6218644 , 607.31080063, 611.73490524, 584.10467521,\n",
      "       535.04073159, 467.88434903]), 'std_fit_time': array([ 4.4346196 ,  4.06779751,  6.30595595,  6.40668215,  1.23709831,\n",
      "        2.18822373, 45.51717902, 39.26148411,  4.14974778,  2.61833355,\n",
      "       17.45926095, 29.32564864,  2.98158492,  3.18553589,  0.93110063,\n",
      "       12.95159395, 17.20366378, 20.44193666,  1.28389759,  1.90162868,\n",
      "       30.53752058, 68.07489393, 13.72048319,  1.25741367,  7.96626279,\n",
      "       22.98845845, 13.96520714, 12.39414761,  1.71930924, 32.14592562]), 'mean_score_time': array([ 52.23991934, 101.74142671, 104.71316028, 103.2881345 ,\n",
      "        57.74045714, 100.61588367,  53.10181308, 102.86539944,\n",
      "       105.0351882 ,  58.12878871, 104.06372778, 102.77647797,\n",
      "        54.46290723, 103.24167013,  57.65539869, 105.76851185,\n",
      "       104.6136388 , 104.18484926,  54.44661411,  58.28003502,\n",
      "       105.59934036, 118.58839353, 120.86190518,  69.70762547,\n",
      "       114.66398859,  63.98049506, 115.18351475, 105.39360245,\n",
      "        59.59495862,  95.81041257]), 'std_score_time': array([ 0.30130973, 65.70281757, 67.14860297, 65.31387398,  0.30878456,\n",
      "       67.95355861,  0.40267783, 67.06089849, 67.72986223,  0.21078707,\n",
      "       64.5515341 , 65.88297012,  2.86598184, 66.91679754,  1.19561046,\n",
      "       66.55869466, 65.69793706, 66.26190199,  0.44024504,  0.59203994,\n",
      "       67.30496495, 76.50033563, 74.27331498,  0.3493161 , 72.74198394,\n",
      "        1.7093756 , 75.55264211, 68.44658545,  0.71650927, 66.709197  ]), 'param_C': masked_array(data=[517.3986277024461, 29.47422647809694,\n",
      "                   686.2769816973125, 307.9662196722378,\n",
      "                   722.5438617683046, 555.2275911247872,\n",
      "                   182.89240266007866, 966.4832224119692,\n",
      "                   84.56143366334368, 729.9927572876178,\n",
      "                   686.3063287801783, 49.48453742640058,\n",
      "                   187.96742613792105, 521.6653966849669,\n",
      "                   735.8190582693819, 914.1535576757685,\n",
      "                   403.99783069378736, 953.8767147108732,\n",
      "                   866.099816318328, 539.1614492475574, 98.14647976501556,\n",
      "                   702.5072956958257, 160.56030089820405,\n",
      "                   673.4915296568056, 702.3711366090863,\n",
      "                   681.6777681763589, 44.39669443408434,\n",
      "                   576.2050868680129, 501.11671380079326,\n",
      "                   53.80840108926621],\n",
      "             mask=[False, False, False, False, False, False, False, False,\n",
      "                   False, False, False, False, False, False, False, False,\n",
      "                   False, False, False, False, False, False, False, False,\n",
      "                   False, False, False, False, False, False],\n",
      "       fill_value='?',\n",
      "            dtype=object), 'param_gamma': masked_array(data=[0.5707675868681398, 0.17162165622510306,\n",
      "                   0.8339968626360765, 0.8937130796833973,\n",
      "                   0.19003895420479677, 0.3522319540266141,\n",
      "                   0.7857017618643588, 0.23245366181476068,\n",
      "                   0.6036484222912185, 0.27633882849726277,\n",
      "                   0.5179674741970474, 0.1379692375621061,\n",
      "                   0.994417901154097, 0.5788895354754169,\n",
      "                   0.5420617722295935, 0.8080201509879171,\n",
      "                   0.35732434282078784, 0.3437315778925598,\n",
      "                   0.830377712198797, 0.9225693725672236,\n",
      "                   0.10294749316074948, 0.8905798691284313,\n",
      "                   0.2756725448969536, 0.1644031240201702,\n",
      "                   0.48773522220572807, 0.5216481923258594,\n",
      "                   0.22403660350197763, 0.1205336601272924,\n",
      "                   0.13810956825889598, 0.17837692253615167],\n",
      "             mask=[False, False, False, False, False, False, False, False,\n",
      "                   False, False, False, False, False, False, False, False,\n",
      "                   False, False, False, False, False, False, False, False,\n",
      "                   False, False, False, False, False, False],\n",
      "       fill_value='?',\n",
      "            dtype=object), 'params': [{'C': 517.3986277024461, 'gamma': 0.5707675868681398}, {'C': 29.47422647809694, 'gamma': 0.17162165622510306}, {'C': 686.2769816973125, 'gamma': 0.8339968626360765}, {'C': 307.9662196722378, 'gamma': 0.8937130796833973}, {'C': 722.5438617683046, 'gamma': 0.19003895420479677}, {'C': 555.2275911247872, 'gamma': 0.3522319540266141}, {'C': 182.89240266007866, 'gamma': 0.7857017618643588}, {'C': 966.4832224119692, 'gamma': 0.23245366181476068}, {'C': 84.56143366334368, 'gamma': 0.6036484222912185}, {'C': 729.9927572876178, 'gamma': 0.27633882849726277}, {'C': 686.3063287801783, 'gamma': 0.5179674741970474}, {'C': 49.48453742640058, 'gamma': 0.1379692375621061}, {'C': 187.96742613792105, 'gamma': 0.994417901154097}, {'C': 521.6653966849669, 'gamma': 0.5788895354754169}, {'C': 735.8190582693819, 'gamma': 0.5420617722295935}, {'C': 914.1535576757685, 'gamma': 0.8080201509879171}, {'C': 403.99783069378736, 'gamma': 0.35732434282078784}, {'C': 953.8767147108732, 'gamma': 0.3437315778925598}, {'C': 866.099816318328, 'gamma': 0.830377712198797}, {'C': 539.1614492475574, 'gamma': 0.9225693725672236}, {'C': 98.14647976501556, 'gamma': 0.10294749316074948}, {'C': 702.5072956958257, 'gamma': 0.8905798691284313}, {'C': 160.56030089820405, 'gamma': 0.2756725448969536}, {'C': 673.4915296568056, 'gamma': 0.1644031240201702}, {'C': 702.3711366090863, 'gamma': 0.48773522220572807}, {'C': 681.6777681763589, 'gamma': 0.5216481923258594}, {'C': 44.39669443408434, 'gamma': 0.22403660350197763}, {'C': 576.2050868680129, 'gamma': 0.1205336601272924}, {'C': 501.11671380079326, 'gamma': 0.13810956825889598}, {'C': 53.80840108926621, 'gamma': 0.17837692253615167}], 'split0_test_score': array([0.76274964, 0.76274964, 0.76274964, 0.76274964, 0.76274964,\n",
      "       0.76274964, 0.76274964, 0.76274964, 0.76274964, 0.76274964,\n",
      "       0.76274964, 0.76274964, 0.76274964, 0.76274964, 0.76274964,\n",
      "       0.76274964, 0.76274964, 0.76274964, 0.76274964, 0.76274964,\n",
      "       0.76274964, 0.76274964, 0.76274964, 0.76274964, 0.76274964,\n",
      "       0.76274964, 0.76274964, 0.76274964, 0.76274964, 0.76274964]), 'split1_test_score': array([0.76274964, 0.76274964, 0.76274964, 0.76274964, 0.76274964,\n",
      "       0.76274964, 0.76274964, 0.76274964, 0.76274964, 0.76274964,\n",
      "       0.76274964, 0.76274964, 0.76274964, 0.76274964, 0.76274964,\n",
      "       0.76274964, 0.76274964, 0.76274964, 0.76274964, 0.76274964,\n",
      "       0.76274964, 0.76274964, 0.76274964, 0.76274964, 0.76274964,\n",
      "       0.76274964, 0.76274964, 0.76274964, 0.76274964, 0.76274964]), 'split2_test_score': array([0.7627293, 0.7627293, 0.7627293, 0.7627293, 0.7627293, 0.7627293,\n",
      "       0.7627293, 0.7627293, 0.7627293, 0.7627293, 0.7627293, 0.7627293,\n",
      "       0.7627293, 0.7627293, 0.7627293, 0.7627293, 0.7627293, 0.7627293,\n",
      "       0.7627293, 0.7627293, 0.7627293, 0.7627293, 0.7627293, 0.7627293,\n",
      "       0.7627293, 0.7627293, 0.7627293, 0.7627293, 0.7627293, 0.7627293]), 'mean_test_score': array([0.76274286, 0.76274286, 0.76274286, 0.76274286, 0.76274286,\n",
      "       0.76274286, 0.76274286, 0.76274286, 0.76274286, 0.76274286,\n",
      "       0.76274286, 0.76274286, 0.76274286, 0.76274286, 0.76274286,\n",
      "       0.76274286, 0.76274286, 0.76274286, 0.76274286, 0.76274286,\n",
      "       0.76274286, 0.76274286, 0.76274286, 0.76274286, 0.76274286,\n",
      "       0.76274286, 0.76274286, 0.76274286, 0.76274286, 0.76274286]), 'std_test_score': array([9.58691019e-06, 9.58691019e-06, 9.58691019e-06, 9.58691019e-06,\n",
      "       9.58691019e-06, 9.58691019e-06, 9.58691019e-06, 9.58691019e-06,\n",
      "       9.58691019e-06, 9.58691019e-06, 9.58691019e-06, 9.58691019e-06,\n",
      "       9.58691019e-06, 9.58691019e-06, 9.58691019e-06, 9.58691019e-06,\n",
      "       9.58691019e-06, 9.58691019e-06, 9.58691019e-06, 9.58691019e-06,\n",
      "       9.58691019e-06, 9.58691019e-06, 9.58691019e-06, 9.58691019e-06,\n",
      "       9.58691019e-06, 9.58691019e-06, 9.58691019e-06, 9.58691019e-06,\n",
      "       9.58691019e-06, 9.58691019e-06]), 'rank_test_score': array([1, 1, 1, 1, 1, 1, 1, 1, 1, 1, 1, 1, 1, 1, 1, 1, 1, 1, 1, 1, 1, 1,\n",
      "       1, 1, 1, 1, 1, 1, 1, 1])}\n",
      "Best SVC() Parameters\n",
      "{'C': 517.3986277024461, 'gamma': 0.5707675868681398}\n",
      "Confusion Matrix - Rows = 50,000\n",
      "[[    0  3558]\n",
      " [    0 11442]]\n",
      "Classification Report\n",
      "              precision    recall  f1-score   support\n",
      "\n",
      "           0       0.00      0.00      0.00      3558\n",
      "           1       0.76      1.00      0.87     11442\n",
      "\n",
      "    accuracy                           0.76     15000\n",
      "   macro avg       0.38      0.50      0.43     15000\n",
      "weighted avg       0.58      0.76      0.66     15000\n",
      "\n"
     ]
    }
   ],
   "source": [
    "\n",
    "rand_list50 = {'C': stats.uniform(1,1000), 'gamma':stats.uniform(0.0001,1)}\n",
    "rand_search50 = RandomizedSearchCV(SVC(),param_distributions = rand_list50, n_iter = 30, n_jobs=4, cv = 3, refit = True, random_state = 101, verbose = 1)\n",
    "rand_search50.fit(X_train50,y_train50)\n",
    "\n",
    "print ('Results for SVM with Randomized Search 3-CV, Rows = 50000')\n",
    "print(rand_search50.cv_results_)\n",
    "\n",
    "print('Best SVC() Parameters')\n",
    "print(rand_search50.best_params_)\n",
    "\n",
    "rand_predictions50=rand_search50.predict(X_test50)\n",
    "print('Confusion Matrix - Rows = 50,000')\n",
    "CFM50 = confusion_matrix(y_test50,rand_predictions50,labels =[0,1])\n",
    "print(CFM50)\n",
    "\n",
    "print('Classification Report')\n",
    "print(classification_report(y_test50,rand_predictions50,labels = [0,1]))\n",
    "\n",
    "\n",
    "\n"
   ]
  }
 ],
 "metadata": {
  "kernelspec": {
   "display_name": "Python 3",
   "language": "python",
   "name": "python3"
  },
  "language_info": {
   "codemirror_mode": {
    "name": "ipython",
    "version": 3
   },
   "file_extension": ".py",
   "mimetype": "text/x-python",
   "name": "python",
   "nbconvert_exporter": "python",
   "pygments_lexer": "ipython3",
   "version": "3.7.1"
  }
 },
 "nbformat": 4,
 "nbformat_minor": 4
}
