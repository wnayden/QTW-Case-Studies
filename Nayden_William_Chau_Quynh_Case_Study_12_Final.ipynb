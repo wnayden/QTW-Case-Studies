{
 "cells": [
  {
   "cell_type": "markdown",
   "metadata": {},
   "source": [
    "# Case Study 12\n",
    "\n",
    "William Nayden and Quynh Chau\n",
    "March 29, 2021"
   ]
  },
  {
   "cell_type": "markdown",
   "metadata": {},
   "source": [
    "## 1 INTRODUCTION\n",
    "\n",
    "The purpose of this case study is to duplicate the Baldi et al. study titled \"Searching for Exotic Particles in High-Energy\n",
    "Physics using Deep Learning\" by implementing neural network model via TensorFlow in Python. Data can be downloaded from the\n",
    "following site:  'https://archive.ics.uci.edu/ml/datasets/HIGGS'."
   ]
  },
  {
   "cell_type": "markdown",
   "metadata": {},
   "source": [
    "## 2 METHOD\n",
    "\n",
    "### Data Preparation\n",
    "\n",
    "This data has 10,999,999 rows and 29 columns, including the target variable.  Descriptive column names were added based on the data description found on the source site.  The first column contains the target variable, 'class', which is a categorical variable of value 1 or 0 (1= signal, 0 = background).  The remaining 28 columns represent various features related to whether the particle is an exotic particle with a unique signal or just noise.  Feature values were numeric.\n",
    "\n",
    "We scaled the data between 0 and 100 fore easier model training and decided on an 80/20 train/test split with random seed equal to 7.\n",
    "\n",
    "### Neural Network (NN) Model\n",
    "\n",
    "Our neural network (NN) model was built via sequential layering. Our input layer uses the 28 features related to our particles. The first hidden layer has 100 neurons, the second has 50 neurons, and our output layer has one neuron. Both of our hidden layers use `tanh` activation. We used the `stochastic gradient descent` optimizer, seeking the lowest `mean absolute error` for our model."
   ]
  },
  {
   "cell_type": "markdown",
   "metadata": {},
   "source": [
    "## 3 RESULTS\n",
    "\n",
    "We trained our NN model over 10 epochs and got the following results:\n",
    "\n",
    "|Metric|Value|\n",
    "|:---: |:---:|\n",
    "|Loss|0.2068|\n",
    "|MSE|0.2068|\n",
    "|MAE|0.4171|\n",
    "|Accuracy|0.6769|\n",
    "|AUC|0.7401|\n",
    "\n",
    "Our result was within range but decidedly not as good as the best performing accuracy and AUC metrics from the best performing models described in Baldi et al. The neural network in Baldi et al. ranged from 0.733-0.816 for different feature levels using 300 hidden layers whereas ours was 0.7401 for 100 neurons."
   ]
  },
  {
   "cell_type": "markdown",
   "metadata": {},
   "source": [
    "## 4 CONCLUSION\n",
    "\n",
    "Our neural network used just two hidden layers, while the network in Baldi et al used five layers. Additionally, Baldi et al used 300 neurons for each layer, while we used 100 neurons for our first hidden layer and 50 neurons for our second. At its most dense iteration with 10,000 neurons, the Baldi study resulted in AUC ranging from 0.790 to 0.841.  One improvement we could make was to make our NN model more dense with 10,000 neurons.  Furthermore, we could have added more layers as in the Baldi et al paper.  \n",
    "\n",
    "In addition, a possible improvement we could make is using a more modern optimizer for our model. While we chose `sgd` because is is most familiar, we could have easily chosen `adam` or `RMSprop`, which were available when Baldi et al was written.  Current optimizers could improve model performance.\n",
    "\n",
    "Additionally, we wanted to go with a model that was computationally inexpensive by 2021 standards because of the limitations of our local machines, but it would likely be considered computationally expensive by 1986 standards. We could probably build a more complex model that better takes advantage of advances in computers.\n",
    "\n",
    "Ultimately, our model reported performance based on mean square error (MSE = 0.2068)."
   ]
  },
  {
   "cell_type": "markdown",
   "metadata": {},
   "source": [
    "## APPENDIX : CODE"
   ]
  },
  {
   "cell_type": "code",
   "execution_count": 52,
   "metadata": {},
   "outputs": [],
   "source": [
    "import numpy as np\n",
    "import pandas as pd\n",
    "import sklearn\n",
    "import matplotlib.pyplot as plt\n",
    "import tensorflow as tf\n",
    "from tensorflow import keras\n",
    "from tensorflow.keras import layers\n",
    "from tensorflow.keras.regularizers import l2"
   ]
  },
  {
   "cell_type": "code",
   "execution_count": 53,
   "metadata": {},
   "outputs": [
    {
     "name": "stdout",
     "output_type": "stream",
     "text": [
      "2.1.0\n"
     ]
    }
   ],
   "source": [
    "print(tf.__version__)"
   ]
  },
  {
   "cell_type": "code",
   "execution_count": 54,
   "metadata": {},
   "outputs": [],
   "source": [
    "import os as os\n",
    "os.getcwd()\n",
    "os.chdir('C:/SMU/DS 7333 Quant the World/Case Studies\\Case Study week 12')"
   ]
  },
  {
   "cell_type": "markdown",
   "metadata": {},
   "source": [
    "## Reading in Data and Data Prepping"
   ]
  },
  {
   "cell_type": "code",
   "execution_count": 55,
   "metadata": {},
   "outputs": [],
   "source": [
    "# Read in data\n",
    "df = pd.read_csv(\"HIGGS.csv\",nrows = 1000000, header = None, dtype=np.float32)\n",
    "df.to_csv(\"HIGGSSubset.csv\", header = None)"
   ]
  },
  {
   "cell_type": "code",
   "execution_count": 56,
   "metadata": {},
   "outputs": [
    {
     "data": {
      "text/html": [
       "<div>\n",
       "<style scoped>\n",
       "    .dataframe tbody tr th:only-of-type {\n",
       "        vertical-align: middle;\n",
       "    }\n",
       "\n",
       "    .dataframe tbody tr th {\n",
       "        vertical-align: top;\n",
       "    }\n",
       "\n",
       "    .dataframe thead th {\n",
       "        text-align: right;\n",
       "    }\n",
       "</style>\n",
       "<table border=\"1\" class=\"dataframe\">\n",
       "  <thead>\n",
       "    <tr style=\"text-align: right;\">\n",
       "      <th></th>\n",
       "      <th>class</th>\n",
       "      <th>Lepton_pT</th>\n",
       "      <th>lepton_eta</th>\n",
       "      <th>lepton_phi</th>\n",
       "      <th>missing_energy_mag</th>\n",
       "      <th>missing_energy_phi</th>\n",
       "      <th>jet_1_pt</th>\n",
       "      <th>jet_1_eta</th>\n",
       "      <th>jet_1_phi</th>\n",
       "      <th>jet_1_btag</th>\n",
       "      <th>...</th>\n",
       "      <th>jet_4_eta</th>\n",
       "      <th>jet_4_phi</th>\n",
       "      <th>jet_4_btag</th>\n",
       "      <th>m_jj</th>\n",
       "      <th>m_jjj</th>\n",
       "      <th>m_lv</th>\n",
       "      <th>m_jlv</th>\n",
       "      <th>m_bb</th>\n",
       "      <th>m_wbb</th>\n",
       "      <th>m_wwbb</th>\n",
       "    </tr>\n",
       "  </thead>\n",
       "  <tbody>\n",
       "    <tr>\n",
       "      <td>0</td>\n",
       "      <td>1.0</td>\n",
       "      <td>0.869293</td>\n",
       "      <td>-0.635082</td>\n",
       "      <td>0.225690</td>\n",
       "      <td>0.327470</td>\n",
       "      <td>-0.689993</td>\n",
       "      <td>0.754202</td>\n",
       "      <td>-0.248573</td>\n",
       "      <td>-1.092064</td>\n",
       "      <td>0.000000</td>\n",
       "      <td>...</td>\n",
       "      <td>-0.010455</td>\n",
       "      <td>-0.045767</td>\n",
       "      <td>3.101961</td>\n",
       "      <td>1.353760</td>\n",
       "      <td>0.979563</td>\n",
       "      <td>0.978076</td>\n",
       "      <td>0.920005</td>\n",
       "      <td>0.721657</td>\n",
       "      <td>0.988751</td>\n",
       "      <td>0.876678</td>\n",
       "    </tr>\n",
       "    <tr>\n",
       "      <td>1</td>\n",
       "      <td>1.0</td>\n",
       "      <td>0.907542</td>\n",
       "      <td>0.329147</td>\n",
       "      <td>0.359412</td>\n",
       "      <td>1.497970</td>\n",
       "      <td>-0.313010</td>\n",
       "      <td>1.095531</td>\n",
       "      <td>-0.557525</td>\n",
       "      <td>-1.588230</td>\n",
       "      <td>2.173076</td>\n",
       "      <td>...</td>\n",
       "      <td>-1.138930</td>\n",
       "      <td>-0.000819</td>\n",
       "      <td>0.000000</td>\n",
       "      <td>0.302220</td>\n",
       "      <td>0.833048</td>\n",
       "      <td>0.985700</td>\n",
       "      <td>0.978098</td>\n",
       "      <td>0.779732</td>\n",
       "      <td>0.992356</td>\n",
       "      <td>0.798343</td>\n",
       "    </tr>\n",
       "    <tr>\n",
       "      <td>2</td>\n",
       "      <td>1.0</td>\n",
       "      <td>0.798835</td>\n",
       "      <td>1.470639</td>\n",
       "      <td>-1.635975</td>\n",
       "      <td>0.453773</td>\n",
       "      <td>0.425629</td>\n",
       "      <td>1.104875</td>\n",
       "      <td>1.282322</td>\n",
       "      <td>1.381664</td>\n",
       "      <td>0.000000</td>\n",
       "      <td>...</td>\n",
       "      <td>1.128848</td>\n",
       "      <td>0.900461</td>\n",
       "      <td>0.000000</td>\n",
       "      <td>0.909753</td>\n",
       "      <td>1.108330</td>\n",
       "      <td>0.985692</td>\n",
       "      <td>0.951331</td>\n",
       "      <td>0.803252</td>\n",
       "      <td>0.865924</td>\n",
       "      <td>0.780118</td>\n",
       "    </tr>\n",
       "    <tr>\n",
       "      <td>3</td>\n",
       "      <td>0.0</td>\n",
       "      <td>1.344385</td>\n",
       "      <td>-0.876626</td>\n",
       "      <td>0.935913</td>\n",
       "      <td>1.992050</td>\n",
       "      <td>0.882454</td>\n",
       "      <td>1.786066</td>\n",
       "      <td>-1.646778</td>\n",
       "      <td>-0.942383</td>\n",
       "      <td>0.000000</td>\n",
       "      <td>...</td>\n",
       "      <td>-0.678379</td>\n",
       "      <td>-1.360356</td>\n",
       "      <td>0.000000</td>\n",
       "      <td>0.946652</td>\n",
       "      <td>1.028704</td>\n",
       "      <td>0.998656</td>\n",
       "      <td>0.728281</td>\n",
       "      <td>0.869200</td>\n",
       "      <td>1.026736</td>\n",
       "      <td>0.957904</td>\n",
       "    </tr>\n",
       "    <tr>\n",
       "      <td>4</td>\n",
       "      <td>1.0</td>\n",
       "      <td>1.105009</td>\n",
       "      <td>0.321356</td>\n",
       "      <td>1.522401</td>\n",
       "      <td>0.882808</td>\n",
       "      <td>-1.205349</td>\n",
       "      <td>0.681466</td>\n",
       "      <td>-1.070464</td>\n",
       "      <td>-0.921871</td>\n",
       "      <td>0.000000</td>\n",
       "      <td>...</td>\n",
       "      <td>-0.373566</td>\n",
       "      <td>0.113041</td>\n",
       "      <td>0.000000</td>\n",
       "      <td>0.755856</td>\n",
       "      <td>1.361057</td>\n",
       "      <td>0.986610</td>\n",
       "      <td>0.838085</td>\n",
       "      <td>1.133295</td>\n",
       "      <td>0.872245</td>\n",
       "      <td>0.808487</td>\n",
       "    </tr>\n",
       "  </tbody>\n",
       "</table>\n",
       "<p>5 rows × 29 columns</p>\n",
       "</div>"
      ],
      "text/plain": [
       "   class  Lepton_pT  lepton_eta  lepton_phi  missing_energy_mag  \\\n",
       "0    1.0   0.869293   -0.635082    0.225690            0.327470   \n",
       "1    1.0   0.907542    0.329147    0.359412            1.497970   \n",
       "2    1.0   0.798835    1.470639   -1.635975            0.453773   \n",
       "3    0.0   1.344385   -0.876626    0.935913            1.992050   \n",
       "4    1.0   1.105009    0.321356    1.522401            0.882808   \n",
       "\n",
       "   missing_energy_phi  jet_1_pt  jet_1_eta  jet_1_phi  jet_1_btag  ...  \\\n",
       "0           -0.689993  0.754202  -0.248573  -1.092064    0.000000  ...   \n",
       "1           -0.313010  1.095531  -0.557525  -1.588230    2.173076  ...   \n",
       "2            0.425629  1.104875   1.282322   1.381664    0.000000  ...   \n",
       "3            0.882454  1.786066  -1.646778  -0.942383    0.000000  ...   \n",
       "4           -1.205349  0.681466  -1.070464  -0.921871    0.000000  ...   \n",
       "\n",
       "   jet_4_eta  jet_4_phi  jet_4_btag      m_jj     m_jjj      m_lv     m_jlv  \\\n",
       "0  -0.010455  -0.045767    3.101961  1.353760  0.979563  0.978076  0.920005   \n",
       "1  -1.138930  -0.000819    0.000000  0.302220  0.833048  0.985700  0.978098   \n",
       "2   1.128848   0.900461    0.000000  0.909753  1.108330  0.985692  0.951331   \n",
       "3  -0.678379  -1.360356    0.000000  0.946652  1.028704  0.998656  0.728281   \n",
       "4  -0.373566   0.113041    0.000000  0.755856  1.361057  0.986610  0.838085   \n",
       "\n",
       "       m_bb     m_wbb    m_wwbb  \n",
       "0  0.721657  0.988751  0.876678  \n",
       "1  0.779732  0.992356  0.798343  \n",
       "2  0.803252  0.865924  0.780118  \n",
       "3  0.869200  1.026736  0.957904  \n",
       "4  1.133295  0.872245  0.808487  \n",
       "\n",
       "[5 rows x 29 columns]"
      ]
     },
     "execution_count": 56,
     "metadata": {},
     "output_type": "execute_result"
    }
   ],
   "source": [
    "# Rename columns for descriptive feature identification\n",
    "df.columns = ['class', 'Lepton_pT', 'lepton_eta', 'lepton_phi', 'missing_energy_mag', 'missing_energy_phi',\n",
    "                   'jet_1_pt','jet_1_eta','jet_1_phi','jet_1_btag','jet_2_pt','jet_2_eta', 'jet_2_phi','jet_2_btag',\n",
    "                   'jet_3_pt','jet_3_eta', 'jet_3_phi','jet_3_btag','jet_4_pt','jet_4_eta','jet_4_phi','jet_4_btag',\n",
    "                   'm_jj','m_jjj','m_lv','m_jlv','m_bb','m_wbb','m_wwbb']\n",
    "df.head(5)"
   ]
  },
  {
   "cell_type": "code",
   "execution_count": 57,
   "metadata": {},
   "outputs": [
    {
     "name": "stdout",
     "output_type": "stream",
     "text": [
      "The data set has 1000000 rows and 29 columns\n"
     ]
    },
    {
     "data": {
      "text/html": [
       "<div>\n",
       "<style scoped>\n",
       "    .dataframe tbody tr th:only-of-type {\n",
       "        vertical-align: middle;\n",
       "    }\n",
       "\n",
       "    .dataframe tbody tr th {\n",
       "        vertical-align: top;\n",
       "    }\n",
       "\n",
       "    .dataframe thead th {\n",
       "        text-align: right;\n",
       "    }\n",
       "</style>\n",
       "<table border=\"1\" class=\"dataframe\">\n",
       "  <thead>\n",
       "    <tr style=\"text-align: right;\">\n",
       "      <th></th>\n",
       "      <th>class</th>\n",
       "      <th>Lepton_pT</th>\n",
       "      <th>lepton_eta</th>\n",
       "      <th>lepton_phi</th>\n",
       "      <th>missing_energy_mag</th>\n",
       "      <th>missing_energy_phi</th>\n",
       "      <th>jet_1_pt</th>\n",
       "      <th>jet_1_eta</th>\n",
       "      <th>jet_1_phi</th>\n",
       "      <th>jet_1_btag</th>\n",
       "      <th>...</th>\n",
       "      <th>jet_4_eta</th>\n",
       "      <th>jet_4_phi</th>\n",
       "      <th>jet_4_btag</th>\n",
       "      <th>m_jj</th>\n",
       "      <th>m_jjj</th>\n",
       "      <th>m_lv</th>\n",
       "      <th>m_jlv</th>\n",
       "      <th>m_bb</th>\n",
       "      <th>m_wbb</th>\n",
       "      <th>m_wwbb</th>\n",
       "    </tr>\n",
       "  </thead>\n",
       "  <tbody>\n",
       "    <tr>\n",
       "      <td>count</td>\n",
       "      <td>1000000.000000</td>\n",
       "      <td>1000000.000000</td>\n",
       "      <td>1000000.000000</td>\n",
       "      <td>1000000.000000</td>\n",
       "      <td>1000000.000000</td>\n",
       "      <td>1000000.000000</td>\n",
       "      <td>1000000.000000</td>\n",
       "      <td>1000000.000000</td>\n",
       "      <td>1000000.000000</td>\n",
       "      <td>1000000.000000</td>\n",
       "      <td>...</td>\n",
       "      <td>1000000.000000</td>\n",
       "      <td>1000000.000000</td>\n",
       "      <td>1000000.000000</td>\n",
       "      <td>1000000.000000</td>\n",
       "      <td>1000000.000000</td>\n",
       "      <td>1000000.000000</td>\n",
       "      <td>1000000.000000</td>\n",
       "      <td>1000000.000000</td>\n",
       "      <td>1000000.000000</td>\n",
       "      <td>1000000.000000</td>\n",
       "    </tr>\n",
       "    <tr>\n",
       "      <td>mean</td>\n",
       "      <td>0.529673</td>\n",
       "      <td>0.991636</td>\n",
       "      <td>0.000489</td>\n",
       "      <td>-0.000953</td>\n",
       "      <td>0.998163</td>\n",
       "      <td>-0.000573</td>\n",
       "      <td>0.990576</td>\n",
       "      <td>-0.000824</td>\n",
       "      <td>0.000549</td>\n",
       "      <td>1.003582</td>\n",
       "      <td>...</td>\n",
       "      <td>-0.000375</td>\n",
       "      <td>-0.001724</td>\n",
       "      <td>1.001547</td>\n",
       "      <td>1.034308</td>\n",
       "      <td>1.024927</td>\n",
       "      <td>1.055578</td>\n",
       "      <td>1.009864</td>\n",
       "      <td>0.973244</td>\n",
       "      <td>1.033359</td>\n",
       "      <td>0.959868</td>\n",
       "    </tr>\n",
       "    <tr>\n",
       "      <td>std</td>\n",
       "      <td>0.498550</td>\n",
       "      <td>0.564946</td>\n",
       "      <td>1.008089</td>\n",
       "      <td>1.005646</td>\n",
       "      <td>0.598998</td>\n",
       "      <td>1.006654</td>\n",
       "      <td>0.474941</td>\n",
       "      <td>1.010140</td>\n",
       "      <td>1.006106</td>\n",
       "      <td>1.027217</td>\n",
       "      <td>...</td>\n",
       "      <td>1.007577</td>\n",
       "      <td>1.005506</td>\n",
       "      <td>1.397190</td>\n",
       "      <td>0.671789</td>\n",
       "      <td>0.379662</td>\n",
       "      <td>0.164348</td>\n",
       "      <td>0.397682</td>\n",
       "      <td>0.525081</td>\n",
       "      <td>0.364940</td>\n",
       "      <td>0.313111</td>\n",
       "    </tr>\n",
       "    <tr>\n",
       "      <td>min</td>\n",
       "      <td>0.000000</td>\n",
       "      <td>0.274697</td>\n",
       "      <td>-2.434976</td>\n",
       "      <td>-1.742508</td>\n",
       "      <td>0.000626</td>\n",
       "      <td>-1.743944</td>\n",
       "      <td>0.138602</td>\n",
       "      <td>-2.969725</td>\n",
       "      <td>-1.741237</td>\n",
       "      <td>0.000000</td>\n",
       "      <td>...</td>\n",
       "      <td>-2.497265</td>\n",
       "      <td>-1.742691</td>\n",
       "      <td>0.000000</td>\n",
       "      <td>0.101168</td>\n",
       "      <td>0.234753</td>\n",
       "      <td>0.092202</td>\n",
       "      <td>0.157473</td>\n",
       "      <td>0.048125</td>\n",
       "      <td>0.303350</td>\n",
       "      <td>0.350939</td>\n",
       "    </tr>\n",
       "    <tr>\n",
       "      <td>25%</td>\n",
       "      <td>0.000000</td>\n",
       "      <td>0.590753</td>\n",
       "      <td>-0.737349</td>\n",
       "      <td>-0.871931</td>\n",
       "      <td>0.576455</td>\n",
       "      <td>-0.871791</td>\n",
       "      <td>0.678535</td>\n",
       "      <td>-0.689225</td>\n",
       "      <td>-0.867542</td>\n",
       "      <td>0.000000</td>\n",
       "      <td>...</td>\n",
       "      <td>-0.714190</td>\n",
       "      <td>-0.872034</td>\n",
       "      <td>0.000000</td>\n",
       "      <td>0.790729</td>\n",
       "      <td>0.846332</td>\n",
       "      <td>0.985750</td>\n",
       "      <td>0.767338</td>\n",
       "      <td>0.673858</td>\n",
       "      <td>0.819379</td>\n",
       "      <td>0.770333</td>\n",
       "    </tr>\n",
       "    <tr>\n",
       "      <td>50%</td>\n",
       "      <td>1.000000</td>\n",
       "      <td>0.853737</td>\n",
       "      <td>0.000920</td>\n",
       "      <td>0.000417</td>\n",
       "      <td>0.891644</td>\n",
       "      <td>-0.000800</td>\n",
       "      <td>0.894178</td>\n",
       "      <td>-0.001016</td>\n",
       "      <td>0.000715</td>\n",
       "      <td>1.086538</td>\n",
       "      <td>...</td>\n",
       "      <td>0.000372</td>\n",
       "      <td>-0.005259</td>\n",
       "      <td>0.000000</td>\n",
       "      <td>0.894967</td>\n",
       "      <td>0.950568</td>\n",
       "      <td>0.989771</td>\n",
       "      <td>0.916455</td>\n",
       "      <td>0.873490</td>\n",
       "      <td>0.947443</td>\n",
       "      <td>0.871788</td>\n",
       "    </tr>\n",
       "    <tr>\n",
       "      <td>75%</td>\n",
       "      <td>1.000000</td>\n",
       "      <td>1.236958</td>\n",
       "      <td>0.738214</td>\n",
       "      <td>0.868775</td>\n",
       "      <td>1.293112</td>\n",
       "      <td>0.871773</td>\n",
       "      <td>1.170649</td>\n",
       "      <td>0.687194</td>\n",
       "      <td>0.869976</td>\n",
       "      <td>2.173076</td>\n",
       "      <td>...</td>\n",
       "      <td>0.714934</td>\n",
       "      <td>0.868831</td>\n",
       "      <td>3.101961</td>\n",
       "      <td>1.024375</td>\n",
       "      <td>1.083443</td>\n",
       "      <td>1.020216</td>\n",
       "      <td>1.142236</td>\n",
       "      <td>1.139482</td>\n",
       "      <td>1.140750</td>\n",
       "      <td>1.059245</td>\n",
       "    </tr>\n",
       "    <tr>\n",
       "      <td>max</td>\n",
       "      <td>1.000000</td>\n",
       "      <td>8.711782</td>\n",
       "      <td>2.434868</td>\n",
       "      <td>1.743236</td>\n",
       "      <td>9.900929</td>\n",
       "      <td>1.743257</td>\n",
       "      <td>8.382610</td>\n",
       "      <td>2.969674</td>\n",
       "      <td>1.741454</td>\n",
       "      <td>2.173076</td>\n",
       "      <td>...</td>\n",
       "      <td>2.498009</td>\n",
       "      <td>1.743372</td>\n",
       "      <td>3.101961</td>\n",
       "      <td>31.076191</td>\n",
       "      <td>15.637859</td>\n",
       "      <td>5.921233</td>\n",
       "      <td>10.794087</td>\n",
       "      <td>13.735691</td>\n",
       "      <td>8.779915</td>\n",
       "      <td>6.259156</td>\n",
       "    </tr>\n",
       "  </tbody>\n",
       "</table>\n",
       "<p>8 rows × 29 columns</p>\n",
       "</div>"
      ],
      "text/plain": [
       "                class       Lepton_pT      lepton_eta      lepton_phi  \\\n",
       "count  1000000.000000  1000000.000000  1000000.000000  1000000.000000   \n",
       "mean         0.529673        0.991636        0.000489       -0.000953   \n",
       "std          0.498550        0.564946        1.008089        1.005646   \n",
       "min          0.000000        0.274697       -2.434976       -1.742508   \n",
       "25%          0.000000        0.590753       -0.737349       -0.871931   \n",
       "50%          1.000000        0.853737        0.000920        0.000417   \n",
       "75%          1.000000        1.236958        0.738214        0.868775   \n",
       "max          1.000000        8.711782        2.434868        1.743236   \n",
       "\n",
       "       missing_energy_mag  missing_energy_phi        jet_1_pt       jet_1_eta  \\\n",
       "count      1000000.000000      1000000.000000  1000000.000000  1000000.000000   \n",
       "mean             0.998163           -0.000573        0.990576       -0.000824   \n",
       "std              0.598998            1.006654        0.474941        1.010140   \n",
       "min              0.000626           -1.743944        0.138602       -2.969725   \n",
       "25%              0.576455           -0.871791        0.678535       -0.689225   \n",
       "50%              0.891644           -0.000800        0.894178       -0.001016   \n",
       "75%              1.293112            0.871773        1.170649        0.687194   \n",
       "max              9.900929            1.743257        8.382610        2.969674   \n",
       "\n",
       "            jet_1_phi      jet_1_btag  ...       jet_4_eta       jet_4_phi  \\\n",
       "count  1000000.000000  1000000.000000  ...  1000000.000000  1000000.000000   \n",
       "mean         0.000549        1.003582  ...       -0.000375       -0.001724   \n",
       "std          1.006106        1.027217  ...        1.007577        1.005506   \n",
       "min         -1.741237        0.000000  ...       -2.497265       -1.742691   \n",
       "25%         -0.867542        0.000000  ...       -0.714190       -0.872034   \n",
       "50%          0.000715        1.086538  ...        0.000372       -0.005259   \n",
       "75%          0.869976        2.173076  ...        0.714934        0.868831   \n",
       "max          1.741454        2.173076  ...        2.498009        1.743372   \n",
       "\n",
       "           jet_4_btag            m_jj           m_jjj            m_lv  \\\n",
       "count  1000000.000000  1000000.000000  1000000.000000  1000000.000000   \n",
       "mean         1.001547        1.034308        1.024927        1.055578   \n",
       "std          1.397190        0.671789        0.379662        0.164348   \n",
       "min          0.000000        0.101168        0.234753        0.092202   \n",
       "25%          0.000000        0.790729        0.846332        0.985750   \n",
       "50%          0.000000        0.894967        0.950568        0.989771   \n",
       "75%          3.101961        1.024375        1.083443        1.020216   \n",
       "max          3.101961       31.076191       15.637859        5.921233   \n",
       "\n",
       "                m_jlv            m_bb           m_wbb          m_wwbb  \n",
       "count  1000000.000000  1000000.000000  1000000.000000  1000000.000000  \n",
       "mean         1.009864        0.973244        1.033359        0.959868  \n",
       "std          0.397682        0.525081        0.364940        0.313111  \n",
       "min          0.157473        0.048125        0.303350        0.350939  \n",
       "25%          0.767338        0.673858        0.819379        0.770333  \n",
       "50%          0.916455        0.873490        0.947443        0.871788  \n",
       "75%          1.142236        1.139482        1.140750        1.059245  \n",
       "max         10.794087       13.735691        8.779915        6.259156  \n",
       "\n",
       "[8 rows x 29 columns]"
      ]
     },
     "metadata": {},
     "output_type": "display_data"
    },
    {
     "data": {
      "text/html": [
       "<div>\n",
       "<style scoped>\n",
       "    .dataframe tbody tr th:only-of-type {\n",
       "        vertical-align: middle;\n",
       "    }\n",
       "\n",
       "    .dataframe tbody tr th {\n",
       "        vertical-align: top;\n",
       "    }\n",
       "\n",
       "    .dataframe thead th {\n",
       "        text-align: right;\n",
       "    }\n",
       "</style>\n",
       "<table border=\"1\" class=\"dataframe\">\n",
       "  <thead>\n",
       "    <tr style=\"text-align: right;\">\n",
       "      <th></th>\n",
       "      <th>class</th>\n",
       "      <th>Lepton_pT</th>\n",
       "      <th>lepton_eta</th>\n",
       "      <th>lepton_phi</th>\n",
       "      <th>missing_energy_mag</th>\n",
       "      <th>missing_energy_phi</th>\n",
       "      <th>jet_1_pt</th>\n",
       "      <th>jet_1_eta</th>\n",
       "      <th>jet_1_phi</th>\n",
       "      <th>jet_1_btag</th>\n",
       "      <th>...</th>\n",
       "      <th>jet_4_eta</th>\n",
       "      <th>jet_4_phi</th>\n",
       "      <th>jet_4_btag</th>\n",
       "      <th>m_jj</th>\n",
       "      <th>m_jjj</th>\n",
       "      <th>m_lv</th>\n",
       "      <th>m_jlv</th>\n",
       "      <th>m_bb</th>\n",
       "      <th>m_wbb</th>\n",
       "      <th>m_wwbb</th>\n",
       "    </tr>\n",
       "  </thead>\n",
       "  <tbody>\n",
       "    <tr>\n",
       "      <td>0</td>\n",
       "      <td>1.0</td>\n",
       "      <td>0.869293</td>\n",
       "      <td>-0.635082</td>\n",
       "      <td>0.225690</td>\n",
       "      <td>0.327470</td>\n",
       "      <td>-0.689993</td>\n",
       "      <td>0.754202</td>\n",
       "      <td>-0.248573</td>\n",
       "      <td>-1.092064</td>\n",
       "      <td>0.000000</td>\n",
       "      <td>...</td>\n",
       "      <td>-0.010455</td>\n",
       "      <td>-0.045767</td>\n",
       "      <td>3.101961</td>\n",
       "      <td>1.353760</td>\n",
       "      <td>0.979563</td>\n",
       "      <td>0.978076</td>\n",
       "      <td>0.920005</td>\n",
       "      <td>0.721657</td>\n",
       "      <td>0.988751</td>\n",
       "      <td>0.876678</td>\n",
       "    </tr>\n",
       "    <tr>\n",
       "      <td>1</td>\n",
       "      <td>1.0</td>\n",
       "      <td>0.907542</td>\n",
       "      <td>0.329147</td>\n",
       "      <td>0.359412</td>\n",
       "      <td>1.497970</td>\n",
       "      <td>-0.313010</td>\n",
       "      <td>1.095531</td>\n",
       "      <td>-0.557525</td>\n",
       "      <td>-1.588230</td>\n",
       "      <td>2.173076</td>\n",
       "      <td>...</td>\n",
       "      <td>-1.138930</td>\n",
       "      <td>-0.000819</td>\n",
       "      <td>0.000000</td>\n",
       "      <td>0.302220</td>\n",
       "      <td>0.833048</td>\n",
       "      <td>0.985700</td>\n",
       "      <td>0.978098</td>\n",
       "      <td>0.779732</td>\n",
       "      <td>0.992356</td>\n",
       "      <td>0.798343</td>\n",
       "    </tr>\n",
       "    <tr>\n",
       "      <td>2</td>\n",
       "      <td>1.0</td>\n",
       "      <td>0.798835</td>\n",
       "      <td>1.470639</td>\n",
       "      <td>-1.635975</td>\n",
       "      <td>0.453773</td>\n",
       "      <td>0.425629</td>\n",
       "      <td>1.104875</td>\n",
       "      <td>1.282322</td>\n",
       "      <td>1.381664</td>\n",
       "      <td>0.000000</td>\n",
       "      <td>...</td>\n",
       "      <td>1.128848</td>\n",
       "      <td>0.900461</td>\n",
       "      <td>0.000000</td>\n",
       "      <td>0.909753</td>\n",
       "      <td>1.108330</td>\n",
       "      <td>0.985692</td>\n",
       "      <td>0.951331</td>\n",
       "      <td>0.803252</td>\n",
       "      <td>0.865924</td>\n",
       "      <td>0.780118</td>\n",
       "    </tr>\n",
       "    <tr>\n",
       "      <td>3</td>\n",
       "      <td>0.0</td>\n",
       "      <td>1.344385</td>\n",
       "      <td>-0.876626</td>\n",
       "      <td>0.935913</td>\n",
       "      <td>1.992050</td>\n",
       "      <td>0.882454</td>\n",
       "      <td>1.786066</td>\n",
       "      <td>-1.646778</td>\n",
       "      <td>-0.942383</td>\n",
       "      <td>0.000000</td>\n",
       "      <td>...</td>\n",
       "      <td>-0.678379</td>\n",
       "      <td>-1.360356</td>\n",
       "      <td>0.000000</td>\n",
       "      <td>0.946652</td>\n",
       "      <td>1.028704</td>\n",
       "      <td>0.998656</td>\n",
       "      <td>0.728281</td>\n",
       "      <td>0.869200</td>\n",
       "      <td>1.026736</td>\n",
       "      <td>0.957904</td>\n",
       "    </tr>\n",
       "    <tr>\n",
       "      <td>4</td>\n",
       "      <td>1.0</td>\n",
       "      <td>1.105009</td>\n",
       "      <td>0.321356</td>\n",
       "      <td>1.522401</td>\n",
       "      <td>0.882808</td>\n",
       "      <td>-1.205349</td>\n",
       "      <td>0.681466</td>\n",
       "      <td>-1.070464</td>\n",
       "      <td>-0.921871</td>\n",
       "      <td>0.000000</td>\n",
       "      <td>...</td>\n",
       "      <td>-0.373566</td>\n",
       "      <td>0.113041</td>\n",
       "      <td>0.000000</td>\n",
       "      <td>0.755856</td>\n",
       "      <td>1.361057</td>\n",
       "      <td>0.986610</td>\n",
       "      <td>0.838085</td>\n",
       "      <td>1.133295</td>\n",
       "      <td>0.872245</td>\n",
       "      <td>0.808487</td>\n",
       "    </tr>\n",
       "  </tbody>\n",
       "</table>\n",
       "<p>5 rows × 29 columns</p>\n",
       "</div>"
      ],
      "text/plain": [
       "   class  Lepton_pT  lepton_eta  lepton_phi  missing_energy_mag  \\\n",
       "0    1.0   0.869293   -0.635082    0.225690            0.327470   \n",
       "1    1.0   0.907542    0.329147    0.359412            1.497970   \n",
       "2    1.0   0.798835    1.470639   -1.635975            0.453773   \n",
       "3    0.0   1.344385   -0.876626    0.935913            1.992050   \n",
       "4    1.0   1.105009    0.321356    1.522401            0.882808   \n",
       "\n",
       "   missing_energy_phi  jet_1_pt  jet_1_eta  jet_1_phi  jet_1_btag  ...  \\\n",
       "0           -0.689993  0.754202  -0.248573  -1.092064    0.000000  ...   \n",
       "1           -0.313010  1.095531  -0.557525  -1.588230    2.173076  ...   \n",
       "2            0.425629  1.104875   1.282322   1.381664    0.000000  ...   \n",
       "3            0.882454  1.786066  -1.646778  -0.942383    0.000000  ...   \n",
       "4           -1.205349  0.681466  -1.070464  -0.921871    0.000000  ...   \n",
       "\n",
       "   jet_4_eta  jet_4_phi  jet_4_btag      m_jj     m_jjj      m_lv     m_jlv  \\\n",
       "0  -0.010455  -0.045767    3.101961  1.353760  0.979563  0.978076  0.920005   \n",
       "1  -1.138930  -0.000819    0.000000  0.302220  0.833048  0.985700  0.978098   \n",
       "2   1.128848   0.900461    0.000000  0.909753  1.108330  0.985692  0.951331   \n",
       "3  -0.678379  -1.360356    0.000000  0.946652  1.028704  0.998656  0.728281   \n",
       "4  -0.373566   0.113041    0.000000  0.755856  1.361057  0.986610  0.838085   \n",
       "\n",
       "       m_bb     m_wbb    m_wwbb  \n",
       "0  0.721657  0.988751  0.876678  \n",
       "1  0.779732  0.992356  0.798343  \n",
       "2  0.803252  0.865924  0.780118  \n",
       "3  0.869200  1.026736  0.957904  \n",
       "4  1.133295  0.872245  0.808487  \n",
       "\n",
       "[5 rows x 29 columns]"
      ]
     },
     "metadata": {},
     "output_type": "display_data"
    },
    {
     "data": {
      "text/plain": [
       "float32    29\n",
       "dtype: int64"
      ]
     },
     "metadata": {},
     "output_type": "display_data"
    }
   ],
   "source": [
    "print(\"The data set has {} rows and {} columns\".format(df.shape[0], df.shape[1]))\n",
    "display(df.describe())\n",
    "display(df.head())\n",
    "display(df.dtypes.value_counts())"
   ]
  },
  {
   "cell_type": "markdown",
   "metadata": {},
   "source": [
    "## Building Neural Network "
   ]
  },
  {
   "cell_type": "markdown",
   "metadata": {},
   "source": [
    "### Preparing input features and target output variable ('class')"
   ]
  },
  {
   "cell_type": "code",
   "execution_count": 58,
   "metadata": {},
   "outputs": [
    {
     "data": {
      "text/plain": [
       "0         1.0\n",
       "1         1.0\n",
       "2         1.0\n",
       "3         0.0\n",
       "4         1.0\n",
       "         ... \n",
       "999995    1.0\n",
       "999996    1.0\n",
       "999997    0.0\n",
       "999998    0.0\n",
       "999999    0.0\n",
       "Name: class, Length: 1000000, dtype: float32"
      ]
     },
     "execution_count": 58,
     "metadata": {},
     "output_type": "execute_result"
    }
   ],
   "source": [
    "y=df['class']\n",
    "y"
   ]
  },
  {
   "cell_type": "code",
   "execution_count": 59,
   "metadata": {},
   "outputs": [
    {
     "data": {
      "text/plain": [
       "array([1., 1., 1., ..., 0., 0., 0.], dtype=float32)"
      ]
     },
     "execution_count": 59,
     "metadata": {},
     "output_type": "execute_result"
    }
   ],
   "source": [
    "# Making the target variable, 'class', into an numpy array\n",
    "y=np.array(df['class'])\n",
    "y"
   ]
  },
  {
   "cell_type": "code",
   "execution_count": 60,
   "metadata": {},
   "outputs": [],
   "source": [
    "x=df.drop(['class'], axis=1)"
   ]
  },
  {
   "cell_type": "markdown",
   "metadata": {},
   "source": [
    "### Scale Data"
   ]
  },
  {
   "cell_type": "code",
   "execution_count": 61,
   "metadata": {},
   "outputs": [
    {
     "name": "stdout",
     "output_type": "stream",
     "text": [
      "Note: median values were scaled by multiplying by 0.2871342739 and adding 0.499969\n"
     ]
    }
   ],
   "source": [
    "from sklearn.preprocessing import MinMaxScaler\n",
    "\n",
    "scaler = MinMaxScaler(feature_range=(0, 1))\n",
    "scaled_train = scaler.fit_transform(x)\n",
    "\n",
    "# Print out the adjustment that the scaler applied to the total_earnings column of data\n",
    "print(\"Note: median values were scaled by multiplying by {:.10f} and adding {:.6f}\".format(scaler.scale_[7], scaler.min_[7]))\n",
    "multiplied_by = scaler.scale_[7]\n",
    "added = scaler.min_[7]\n",
    "\n",
    "scaled_train_df = pd.DataFrame(scaled_train, columns=x.columns.values)"
   ]
  },
  {
   "cell_type": "markdown",
   "metadata": {},
   "source": [
    "### Split data into training and test (validation) subsets"
   ]
  },
  {
   "cell_type": "code",
   "execution_count": 62,
   "metadata": {},
   "outputs": [],
   "source": [
    "from sklearn.model_selection import train_test_split\n",
    "x_train, x_test, y_train, y_test = train_test_split(scaled_train_df, y, test_size=0.20, random_state=7)"
   ]
  },
  {
   "cell_type": "markdown",
   "metadata": {},
   "source": [
    "### Build NN Model"
   ]
  },
  {
   "cell_type": "code",
   "execution_count": 63,
   "metadata": {},
   "outputs": [
    {
     "data": {
      "text/plain": [
       "(800000, 28)"
      ]
     },
     "execution_count": 63,
     "metadata": {},
     "output_type": "execute_result"
    }
   ],
   "source": [
    "x_train.shape"
   ]
  },
  {
   "cell_type": "code",
   "execution_count": 64,
   "metadata": {},
   "outputs": [],
   "source": [
    "model = tf.keras.Sequential()\n",
    "model.add(tf.keras.Input(shape=(28,)))\n",
    "model.add(layers.Dense(100,activation='relu'))  # adds a layer with 100 neurons, tanh activation\n",
    "model.add(layers.Dense(50, activation='relu'))   # adds a layer with 50 neurons, tanh activation\n",
    "model.add(layers.Dense(1, activation='linear'))  # adds a layer with 1 neurons, linear (aka NO) activation\n"
   ]
  },
  {
   "cell_type": "markdown",
   "metadata": {},
   "source": [
    "### Compile Model"
   ]
  },
  {
   "cell_type": "code",
   "execution_count": 65,
   "metadata": {},
   "outputs": [],
   "source": [
    "model.compile(optimizer='sgd',\n",
    "              loss='mean_squared_error',\n",
    "              metrics=['mean_squared_error','mean_absolute_error','accuracy'])"
   ]
  },
  {
   "cell_type": "markdown",
   "metadata": {},
   "source": [
    "### Fit the Model"
   ]
  },
  {
   "cell_type": "code",
   "execution_count": 66,
   "metadata": {},
   "outputs": [
    {
     "name": "stdout",
     "output_type": "stream",
     "text": [
      "Train on 800000 samples, validate on 200000 samples\n",
      "Epoch 1/10\n",
      "800000/800000 [==============================] - 53s 67us/sample - loss: 0.2366 - mean_squared_error: 0.2366 - mean_absolute_error: 0.4748 - accuracy: 0.5897 - val_loss: 0.2287 - val_mean_squared_error: 0.2287 - val_mean_absolute_error: 0.4554 - val_accuracy: 0.6189\n",
      "Epoch 2/10\n",
      "800000/800000 [==============================] - 54s 67us/sample - loss: 0.2265 - mean_squared_error: 0.2265 - mean_absolute_error: 0.4540 - accuracy: 0.6258 - val_loss: 0.2288 - val_mean_squared_error: 0.2288 - val_mean_absolute_error: 0.4563 - val_accuracy: 0.6124\n",
      "Epoch 3/10\n",
      "800000/800000 [==============================] - 56s 70us/sample - loss: 0.2236 - mean_squared_error: 0.2236 - mean_absolute_error: 0.4484 - accuracy: 0.6362 - val_loss: 0.2217 - val_mean_squared_error: 0.2217 - val_mean_absolute_error: 0.4421 - val_accuracy: 0.6412\n",
      "Epoch 4/10\n",
      "800000/800000 [==============================] - 55s 68us/sample - loss: 0.2211 - mean_squared_error: 0.2211 - mean_absolute_error: 0.4443 - accuracy: 0.6431 - val_loss: 0.2191 - val_mean_squared_error: 0.2191 - val_mean_absolute_error: 0.4423 - val_accuracy: 0.6504\n",
      "Epoch 5/10\n",
      "800000/800000 [==============================] - 56s 70us/sample - loss: 0.2188 - mean_squared_error: 0.2188 - mean_absolute_error: 0.4399 - accuracy: 0.6502 - val_loss: 0.2204 - val_mean_squared_error: 0.2204 - val_mean_absolute_error: 0.4419 - val_accuracy: 0.6454\n",
      "Epoch 6/10\n",
      "800000/800000 [==============================] - 60s 75us/sample - loss: 0.2167 - mean_squared_error: 0.2167 - mean_absolute_error: 0.4358 - accuracy: 0.6551 - val_loss: 0.2148 - val_mean_squared_error: 0.2148 - val_mean_absolute_error: 0.4319 - val_accuracy: 0.6579\n",
      "Epoch 7/10\n",
      "800000/800000 [==============================] - 55s 68us/sample - loss: 0.2143 - mean_squared_error: 0.2143 - mean_absolute_error: 0.4315 - accuracy: 0.6604 - val_loss: 0.2211 - val_mean_squared_error: 0.2211 - val_mean_absolute_error: 0.4243 - val_accuracy: 0.6391\n",
      "Epoch 8/10\n",
      "800000/800000 [==============================] - 61s 76us/sample - loss: 0.2118 - mean_squared_error: 0.2118 - mean_absolute_error: 0.4269 - accuracy: 0.6663 - val_loss: 0.2116 - val_mean_squared_error: 0.2116 - val_mean_absolute_error: 0.4216 - val_accuracy: 0.6602\n",
      "Epoch 9/10\n",
      "800000/800000 [==============================] - 55s 69us/sample - loss: 0.2091 - mean_squared_error: 0.2091 - mean_absolute_error: 0.4219 - accuracy: 0.6715 - val_loss: 0.2072 - val_mean_squared_error: 0.2072 - val_mean_absolute_error: 0.4200 - val_accuracy: 0.6720\n",
      "Epoch 10/10\n",
      "800000/800000 [==============================] - 55s 69us/sample - loss: 0.2068 - mean_squared_error: 0.2068 - mean_absolute_error: 0.4172 - accuracy: 0.6768 - val_loss: 0.2090 - val_mean_squared_error: 0.2090 - val_mean_absolute_error: 0.4185 - val_accuracy: 0.6769\n"
     ]
    },
    {
     "data": {
      "text/plain": [
       "<tensorflow.python.keras.callbacks.History at 0x23cb3af0208>"
      ]
     },
     "execution_count": 66,
     "metadata": {},
     "output_type": "execute_result"
    }
   ],
   "source": [
    "model.fit(x_train, y_train, epochs=10, validation_data=(x_test,y_test), batch_size=34)\n"
   ]
  },
  {
   "cell_type": "code",
   "execution_count": 30,
   "metadata": {},
   "outputs": [],
   "source": [
    "### Review Model History and Comparative Performance"
   ]
  },
  {
   "cell_type": "code",
   "execution_count": 67,
   "metadata": {},
   "outputs": [
    {
     "data": {
      "text/plain": [
       "{'loss': [0.2366141768554598,\n",
       "  0.2265159061010927,\n",
       "  0.22355535491537304,\n",
       "  0.22110678348779678,\n",
       "  0.21878414987515657,\n",
       "  0.21665914227759467,\n",
       "  0.21429911603838206,\n",
       "  0.21176092233454807,\n",
       "  0.20912767866445706,\n",
       "  0.20682945714594797],\n",
       " 'mean_squared_error': [0.23661458,\n",
       "  0.22651647,\n",
       "  0.223555,\n",
       "  0.22110687,\n",
       "  0.21878482,\n",
       "  0.21665943,\n",
       "  0.21429831,\n",
       "  0.21176215,\n",
       "  0.2091275,\n",
       "  0.20683005],\n",
       " 'mean_absolute_error': [0.47479177,\n",
       "  0.4540359,\n",
       "  0.44843525,\n",
       "  0.44426444,\n",
       "  0.43990642,\n",
       "  0.43581548,\n",
       "  0.43146,\n",
       "  0.4268657,\n",
       "  0.4218828,\n",
       "  0.41716695],\n",
       " 'accuracy': [0.589745,\n",
       "  0.625825,\n",
       "  0.63623625,\n",
       "  0.6430675,\n",
       "  0.6501925,\n",
       "  0.6551238,\n",
       "  0.66042125,\n",
       "  0.66626126,\n",
       "  0.6714587,\n",
       "  0.6767975],\n",
       " 'val_loss': [0.22868566791594028,\n",
       "  0.22878000627711415,\n",
       "  0.22173909616798163,\n",
       "  0.2190503909663856,\n",
       "  0.2204366422738135,\n",
       "  0.21479878485485912,\n",
       "  0.22113717370696365,\n",
       "  0.2116478346760571,\n",
       "  0.20723794947639107,\n",
       "  0.2090008020016551],\n",
       " 'val_mean_squared_error': [0.22868574,\n",
       "  0.22878015,\n",
       "  0.2217394,\n",
       "  0.21905006,\n",
       "  0.22043635,\n",
       "  0.21479894,\n",
       "  0.22113705,\n",
       "  0.21164843,\n",
       "  0.20723787,\n",
       "  0.20900074],\n",
       " 'val_mean_absolute_error': [0.4553968,\n",
       "  0.4562908,\n",
       "  0.4420816,\n",
       "  0.44233814,\n",
       "  0.44190574,\n",
       "  0.43193114,\n",
       "  0.42427793,\n",
       "  0.42161942,\n",
       "  0.41997063,\n",
       "  0.41851574],\n",
       " 'val_accuracy': [0.61888,\n",
       "  0.61237,\n",
       "  0.641175,\n",
       "  0.65044,\n",
       "  0.6454,\n",
       "  0.657855,\n",
       "  0.63909,\n",
       "  0.66021,\n",
       "  0.672015,\n",
       "  0.676905]}"
      ]
     },
     "execution_count": 67,
     "metadata": {},
     "output_type": "execute_result"
    }
   ],
   "source": [
    "model.history.history"
   ]
  },
  {
   "cell_type": "code",
   "execution_count": 75,
   "metadata": {},
   "outputs": [
    {
     "name": "stdout",
     "output_type": "stream",
     "text": [
      "Test loss: [0.20900080184936523, 0.20900051, 0.4185159, 0.676905]\n",
      "Test accuracy: [0.20900080184936523, 0.20900051, 0.4185159, 0.676905]\n"
     ]
    }
   ],
   "source": [
    "score = model.evaluate(x_test, y_test, verbose = 0) \n",
    "\n",
    "print('Test loss:', score) \n",
    "print('Test accuracy:', score)"
   ]
  },
  {
   "cell_type": "code",
   "execution_count": 70,
   "metadata": {},
   "outputs": [],
   "source": [
    "pred = model.predict(x_test) "
   ]
  },
  {
   "cell_type": "code",
   "execution_count": 72,
   "metadata": {},
   "outputs": [
    {
     "name": "stdout",
     "output_type": "stream",
     "text": [
      "0.7400840687926283\n"
     ]
    }
   ],
   "source": [
    "from sklearn.metrics import roc_auc_score\n",
    "\n",
    "# auc scores\n",
    "auc_score = roc_auc_score(y_test, pred)\n",
    "\n",
    "print(auc_score)"
   ]
  },
  {
   "cell_type": "code",
   "execution_count": 73,
   "metadata": {},
   "outputs": [
    {
     "data": {
      "image/png": "[encoded data removed]",
      "text/plain": [
       "<Figure size 432x288 with 1 Axes>"
      ]
     },
     "metadata": {
      "needs_background": "light"
     },
     "output_type": "display_data"
    }
   ],
   "source": [
    "train_loss = model.history.history['loss']\n",
    "val_loss = model.history.history['val_loss']\n",
    "plt.plot(train_loss)\n",
    "plt.plot(val_loss)\n",
    "plt.show()"
   ]
  },
  {
   "cell_type": "code",
   "execution_count": null,
   "metadata": {},
   "outputs": [],
   "source": []
  },
  {
   "cell_type": "code",
   "execution_count": 74,
   "metadata": {},
   "outputs": [
    {
     "name": "stdout",
     "output_type": "stream",
     "text": [
      "Model: \"sequential_2\"\n",
      "_________________________________________________________________\n",
      "Layer (type)                 Output Shape              Param #   \n",
      "=================================================================\n",
      "dense_6 (Dense)              (None, 100)               2900      \n",
      "_________________________________________________________________\n",
      "dense_7 (Dense)              (None, 50)                5050      \n",
      "_________________________________________________________________\n",
      "dense_8 (Dense)              (None, 1)                 51        \n",
      "=================================================================\n",
      "Total params: 8,001\n",
      "Trainable params: 8,001\n",
      "Non-trainable params: 0\n",
      "_________________________________________________________________\n"
     ]
    }
   ],
   "source": [
    "model.summary()"
   ]
  },
  {
   "cell_type": "code",
   "execution_count": null,
   "metadata": {},
   "outputs": [],
   "source": []
  }
 ],
 "metadata": {
  "kernelspec": {
   "display_name": "Python 3",
   "language": "python",
   "name": "python3"
  },
  "language_info": {
   "codemirror_mode": {
    "name": "ipython",
    "version": 3
   },
   "file_extension": ".py",
   "mimetype": "text/x-python",
   "name": "python",
   "nbconvert_exporter": "python",
   "pygments_lexer": "ipython3",
   "version": "3.7.4"
  }
 },
 "nbformat": 4,
 "nbformat_minor": 2
}
